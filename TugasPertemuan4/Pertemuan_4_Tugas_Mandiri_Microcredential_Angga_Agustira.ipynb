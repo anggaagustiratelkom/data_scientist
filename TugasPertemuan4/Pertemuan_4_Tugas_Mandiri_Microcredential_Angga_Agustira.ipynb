{
  "nbformat": 4,
  "nbformat_minor": 0,
  "metadata": {
    "kernelspec": {
      "display_name": "Python 3",
      "language": "python",
      "name": "python3"
    },
    "language_info": {
      "codemirror_mode": {
        "name": "ipython",
        "version": 3
      },
      "file_extension": ".py",
      "mimetype": "text/x-python",
      "name": "python",
      "nbconvert_exporter": "python",
      "pygments_lexer": "ipython3",
      "version": "3.8.8"
    },
    "colab": {
      "name": "Pertemuan 4_Tugas Mandiri_Microcredential_Angga Agustira.ipynb",
      "provenance": [],
      "include_colab_link": true
    }
  },
  "cells": [
    {
      "cell_type": "markdown",
      "metadata": {
        "id": "view-in-github",
        "colab_type": "text"
      },
      "source": [
        "<a href=\"https://colab.research.google.com/github/anggaagustiratelkom/data_scientist/blob/TugasPertemuan4/Pertemuan_4_Tugas_Mandiri_Microcredential_Angga_Agustira.ipynb\" target=\"_parent\"><img src=\"https://colab.research.google.com/assets/colab-badge.svg\" alt=\"Open In Colab\"/></a>"
      ]
    },
    {
      "cell_type": "markdown",
      "metadata": {
        "id": "sTzLUweSJxcr"
      },
      "source": [
        "![header%20ipynb.png](attachment:header%20ipynb.png)"
      ]
    },
    {
      "cell_type": "markdown",
      "metadata": {
        "id": "faxhArXoJxcx"
      },
      "source": [
        "# Hands-On\n",
        "\n",
        "Hands-On ini digunakan pada kegiatan Microcredential Associate Data Scientist 2021"
      ]
    },
    {
      "cell_type": "markdown",
      "metadata": {
        "id": "g45Sg3tIJxcy"
      },
      "source": [
        "# Definisi Matriks\n",
        "\n",
        "Matriks dalam dunia metematika merupakan suatu bilangan, simbol, ataupun ekspresi yang disusun dalam baris dan kolom yang membentuk suatu bidang persegi/persegi panjang. Matriks memiliki ukuran/orde. Pada Python, matriks dapat dibuat sesuai kebutuhan dengan menentukan ukuran/orde dari matriks. Bentuk umum ukuran/orde matriks adalah mxn, m adalah banyak baris dan n adalah banyak kolom."
      ]
    },
    {
      "cell_type": "markdown",
      "metadata": {
        "id": "_ll_ZKlZJxcz"
      },
      "source": [
        "# Contoh Membuat Matriks Orde 2x2\n",
        "Berikut ini adalah syntax untuk membuat sebuah matriks yang diberi nama matriksA dengan ukuran/orde 2x2. Matriks orde 2x2 merupakan matriks yang memiliki nilai pada 2 baris dan 2 kolom. \n",
        "Pada contoh: \n",
        "matriksA memiliki:\n",
        "Baris 1 Kolom 1, nilai = 1\n",
        "Baris 1 Kolom 2, nilai = 0\n",
        "Baris 2 Kolom 1, nilai = 0\n",
        "Baris 2 Kolom 2, nilai = 1"
      ]
    },
    {
      "cell_type": "code",
      "metadata": {
        "colab": {
          "base_uri": "https://localhost:8080/"
        },
        "id": "YNgffmfxJxc0",
        "outputId": "0fb209f4-47f1-404c-9b25-23d2c84f45de"
      },
      "source": [
        "#Matriks dengan ukuran 2x2\n",
        "matriksA = [ [1,0],[0,1] ]\n",
        "#Menampilkan matriks dengan nama matriksA\n",
        "print (matriksA)"
      ],
      "execution_count": 2,
      "outputs": [
        {
          "output_type": "stream",
          "name": "stdout",
          "text": [
            "[[1, 0], [0, 1]]\n"
          ]
        }
      ]
    },
    {
      "cell_type": "markdown",
      "metadata": {
        "id": "ccmaeCrjJxc1"
      },
      "source": [
        "# Contoh Membuat Matriks Orde 3x3\n",
        "Berikut ini adalah syntax untuk membuat sebuah matriks yang diberi nama matriksB dengan ukuran/orde 3x3. Matriks orde 3x3 merupakan matriks yang memiliki nilai pada 3 baris dan 3 kolom. \n",
        "Pada contoh: \n",
        "matriksB memiliki:\n",
        "Baris 1 Kolom 1, nilai = 1\n",
        "Baris 1 Kolom 2, nilai = 0\n",
        "Baris 1 Kolom 3, nilai = 1\n",
        "Baris 2 Kolom 1, nilai = 0\n",
        "Baris 2 Kolom 2, nilai = 1\n",
        "Baris 2 Kolom 3, nilai = 0\n",
        "Baris 3 Kolom 1, nilai = 1\n",
        "Baris 3 Kolom 2, nilai = 0\n",
        "Baris 3 Kolom 3, nilai = 1"
      ]
    },
    {
      "cell_type": "code",
      "metadata": {
        "colab": {
          "base_uri": "https://localhost:8080/"
        },
        "id": "muECvDAVJxc2",
        "outputId": "f48bd96e-0327-442d-f085-b4d4469b2218"
      },
      "source": [
        "#Matriks dengan ukuran 3x3\n",
        "matriksB = [ [1,0,1],[0,1,0],[1,0,1] ]\n",
        "#Menampilkan matriks dengan nama MatriksB\n",
        "print (matriksB)"
      ],
      "execution_count": 3,
      "outputs": [
        {
          "output_type": "stream",
          "name": "stdout",
          "text": [
            "[[1, 0, 1], [0, 1, 0], [1, 0, 1]]\n"
          ]
        }
      ]
    },
    {
      "cell_type": "markdown",
      "metadata": {
        "id": "sFoQvZOQJxc3"
      },
      "source": [
        "# Latihan (1)\n",
        "Buatlah matriksC dengan orde 2x3, dan nilai yang diberikan pada matriksC adalah sebagai berikut:\n",
        "Baris 1 Kolom 1, nilai = 1\n",
        "Baris 1 Kolom 2, nilai = 2\n",
        "Baris 1 Kolom 3, nilai = 3\n",
        "Baris 2 Kolom 1, nilai = 4\n",
        "Baris 2 Kolom 2, nilai = 5\n",
        "Baris 2 Kolom 3, nilai = 6"
      ]
    },
    {
      "cell_type": "code",
      "metadata": {
        "colab": {
          "base_uri": "https://localhost:8080/"
        },
        "id": "09dImbnWJxc4",
        "outputId": "1049e39e-21b1-4f02-cc70-c1f99e5bb11d"
      },
      "source": [
        "#Latihan(1)\n",
        "#Matriks dengan ukuran 2x3\n",
        "matriksC = [ [1,2,3],[4,5,6] ]\n",
        "\n",
        "#Menampilkan matriks dengan nama MatriksC\n",
        "print (matriksC)"
      ],
      "execution_count": 4,
      "outputs": [
        {
          "output_type": "stream",
          "name": "stdout",
          "text": [
            "[[1, 2, 3], [4, 5, 6]]\n"
          ]
        }
      ]
    },
    {
      "cell_type": "markdown",
      "metadata": {
        "id": "iyDzmgsJJxc5"
      },
      "source": [
        "# Membuat Matriks dengan Menggunakan Perulangan\n",
        "Matriks dapat juga dibuat dengan menggunakan fungsi perulangan.\n",
        "Fungsi perulangan atau biasa disebut looping atau iterasi memerlukan tes kondisi. Bila hasil tes kondisi True, maka blok kode kembali dieksekusi. Tapi jika False, maka keluar dari perulangan.\n",
        "Di python, perulangan bisa dilakukan dengan dua cara atau metode, yaitu: menggunakan For atau menggunakan While."
      ]
    },
    {
      "cell_type": "markdown",
      "metadata": {
        "id": "KE8NHy8pJxc5"
      },
      "source": [
        "# Contoh Membuat Matriks dengan Perulangan FOR\n",
        "Pada contoh berikut ini, dibuat matriks dengan menggunakan perulangan for. Matriks mempunyai orde mxn, yaitu: orde 2x3, dan nilai yang diberikan adalah:\n",
        "Baris 1 Kolom 1, nilai = 1\n",
        "Baris 1 Kolom 2, nilai = 1\n",
        "Baris 1 Kolom 3, nilai = 1\n",
        "Baris 2 Kolom 1, nilai = 1\n",
        "Baris 2 Kolom 2, nilai = 1\n",
        "Baris 2 Kolom 3, nilai = 1"
      ]
    },
    {
      "cell_type": "code",
      "metadata": {
        "colab": {
          "base_uri": "https://localhost:8080/"
        },
        "id": "HOTF5YONJxc6",
        "outputId": "9e3e1243-bf24-4f3e-9ff4-4bfeaa8fc499"
      },
      "source": [
        "#Matriks dengan menggunakan fungsi perulangan\n",
        "m = 2\n",
        "n = 3 \n",
        "x = [0]*m\n",
        "#Fungsi perulangan dengan menggunakan for\n",
        "for i in range(m): \n",
        "    x[i] = [1]*n \n",
        "#Menampilkan matriks\n",
        "print (x)"
      ],
      "execution_count": 5,
      "outputs": [
        {
          "output_type": "stream",
          "name": "stdout",
          "text": [
            "[[1, 1, 1], [1, 1, 1]]\n"
          ]
        }
      ]
    },
    {
      "cell_type": "markdown",
      "metadata": {
        "id": "bYGfR7FrJxc7"
      },
      "source": [
        "# Latihan (2)\n",
        "Buatlah matriks dengan orde 3x2, dengan nilai adalah:\n",
        "Baris 1 Kolom 1, nilai = 2\n",
        "Baris 1 Kolom 2, nilai = 2\n",
        "Baris 2 Kolom 1, nilai = 2\n",
        "Baris 2 Kolom 2, nilai = 2\n",
        "Baris 3 Kolom 1, nilai = 2\n",
        "Baris 3 Kolom 2, nilai = 2"
      ]
    },
    {
      "cell_type": "code",
      "metadata": {
        "colab": {
          "base_uri": "https://localhost:8080/"
        },
        "id": "kIaL-PJKJxc7",
        "outputId": "8e739d37-ccf0-406c-9cb1-f7134b99a943"
      },
      "source": [
        "#Latihan(2)\n",
        "#Matriks dengan menggunakan fungsi perulangan\n",
        "o = 3\n",
        "p = 2\n",
        "y = [0]*o\n",
        "\n",
        "#Fungsi perulangan dengan menggunakan for\n",
        "for i in range(o): \n",
        "    y[i] = [2]*p \n",
        "\n",
        "#Menampilkan matriks\n",
        "print (y)"
      ],
      "execution_count": 6,
      "outputs": [
        {
          "output_type": "stream",
          "name": "stdout",
          "text": [
            "[[2, 2], [2, 2], [2, 2]]\n"
          ]
        }
      ]
    },
    {
      "cell_type": "markdown",
      "metadata": {
        "id": "4WpxcqwkJxc8"
      },
      "source": [
        "# Membuat Matriks dengan Menggunakan Library Numpy\n",
        "Library pada Python merupakan sebutan untuk kode program tambahan yang digunakan dalam kebutuhan tertentu. Python mempunyai lebih dari 140.000 library yang dikembangkan melalui open source project.\n",
        "\n",
        "Library Numpy memiliki kegunaan untuk operasi vektor dan matriks. Fiturnya hampir sama dengan MATLAB dalam mengelola array dan array multidimensi. Numpy merupakan salah satu library yang digunakan oleh library lain seperti Scikit-Learn untuk keperluan analisis data."
      ]
    },
    {
      "cell_type": "markdown",
      "metadata": {
        "id": "ilzQK8MGJxc8"
      },
      "source": [
        "# Contoh Membuat Matriks dengan Numpy\n",
        "Pada contoh berikut dibuat matriks dengan panjang elemen sebanyak 12 dengan nilai elemen dimulai dari indeks 0 sampai 11, dengan ukuran/orde matriks adalah 4x3."
      ]
    },
    {
      "cell_type": "code",
      "metadata": {
        "colab": {
          "base_uri": "https://localhost:8080/"
        },
        "id": "K75T-xphJxc8",
        "outputId": "9426eec5-12c6-45d3-c7b1-b35ab9c80e35"
      },
      "source": [
        "#Panggil Library Numpy\n",
        "from numpy import * \n",
        "#Menentukan panjang elemen sebanyak 12\n",
        "matriks = range(12) \n",
        "#Matriks orde adalah 4x3\n",
        "matriks = reshape(matriks,(4,3)) \n",
        "#Menampilkan matriks\n",
        "print (matriks)"
      ],
      "execution_count": 7,
      "outputs": [
        {
          "output_type": "stream",
          "name": "stdout",
          "text": [
            "[[ 0  1  2]\n",
            " [ 3  4  5]\n",
            " [ 6  7  8]\n",
            " [ 9 10 11]]\n"
          ]
        }
      ]
    },
    {
      "cell_type": "markdown",
      "metadata": {
        "id": "9Kp-8vm6Jxc9"
      },
      "source": [
        "# Latihan (3)\n",
        "Buatlah matriks dengan menggunakan Library Numpy dengan panjang elemen adalah 32 dan matriks memiliki orde 4x8"
      ]
    },
    {
      "cell_type": "code",
      "metadata": {
        "colab": {
          "base_uri": "https://localhost:8080/"
        },
        "id": "ZJFgx7j3Jxc9",
        "outputId": "37145aa3-7f71-4151-8cda-12703ca61798"
      },
      "source": [
        "#Latihan(3)\n",
        "#Panggil Library Numpy\n",
        "from numpy import * \n",
        "\n",
        "#Menentukan panjang elemen sebanyak 32\n",
        "matriks = range(32) \n",
        "\n",
        "#Matriks orde adalah 4x8\n",
        "matriks = reshape(matriks,(4,8)) \n",
        "\n",
        "#Menampilkan matriks\n",
        "print (matriks)"
      ],
      "execution_count": 8,
      "outputs": [
        {
          "output_type": "stream",
          "name": "stdout",
          "text": [
            "[[ 0  1  2  3  4  5  6  7]\n",
            " [ 8  9 10 11 12 13 14 15]\n",
            " [16 17 18 19 20 21 22 23]\n",
            " [24 25 26 27 28 29 30 31]]\n"
          ]
        }
      ]
    },
    {
      "cell_type": "markdown",
      "metadata": {
        "id": "sGv60cULJxc9"
      },
      "source": [
        "# Membuat Matriks dengan Nilai Random\n",
        "Jika ingin elemen pada matriks bernilai random, dapat menggunakan fungsi random yang tersedia pada numpy."
      ]
    },
    {
      "cell_type": "markdown",
      "metadata": {
        "id": "ofUVR-PBJxc-"
      },
      "source": [
        "# Contoh Membuat Matriks Random dengan Numpy\n",
        "Pada contoh berikut ini dibuat matriks dengan ukuran/orde 3x4 dengan nilai elemen dimulai dari indeks 1 sampai 4 secara random. "
      ]
    },
    {
      "cell_type": "code",
      "metadata": {
        "colab": {
          "base_uri": "https://localhost:8080/"
        },
        "id": "Qqj0yBS_Jxc-",
        "outputId": "4cf13fd5-5ff5-4fb6-ef5a-cadd9e6a7e3f"
      },
      "source": [
        "#Memanggil Library numpy dan diberikan nama alias np\n",
        "import numpy as np\n",
        "#Membuat matriks ukuran 3x4 dengan random\n",
        "\n",
        "matriks = np.random.randint(1,4,(3,4))\n",
        "#Menampilkan matriks\n",
        "print (matriks)"
      ],
      "execution_count": 9,
      "outputs": [
        {
          "output_type": "stream",
          "name": "stdout",
          "text": [
            "[[3 3 3 3]\n",
            " [3 1 3 2]\n",
            " [3 3 2 3]]\n"
          ]
        }
      ]
    },
    {
      "cell_type": "markdown",
      "metadata": {
        "id": "KubWamJIJxc-"
      },
      "source": [
        "# Latihan (4)\n",
        "Buatlah matriks dengan menggunakan Library Numpy dengan orde 3x30, dan nilai elemen dimulai dari indeks 1 sampai dengan 5 secara random."
      ]
    },
    {
      "cell_type": "code",
      "metadata": {
        "colab": {
          "base_uri": "https://localhost:8080/"
        },
        "id": "uu_qmaGQJxc_",
        "outputId": "eec91689-7047-442a-8d08-5fcd238b0904"
      },
      "source": [
        "#Latihan(4)\n",
        "#Memanggil Library numpy dan diberikan nama alias np\n",
        "import numpy as np\n",
        "\n",
        "#Membuat matriks ukuran 3x30 dengan random\n",
        "matriks = np.random.randint(1,5,(3,30))\n",
        "\n",
        "#Menampilkan matriks\n",
        "print (matriks)"
      ],
      "execution_count": 10,
      "outputs": [
        {
          "output_type": "stream",
          "name": "stdout",
          "text": [
            "[[4 1 2 3 2 2 3 1 3 4 1 2 2 4 3 4 4 2 4 4 2 2 3 2 3 3 1 1 3 1]\n",
            " [3 2 1 2 2 4 1 4 2 1 3 3 4 4 2 2 2 2 1 4 4 2 4 3 3 2 1 1 3 3]\n",
            " [2 1 3 3 1 1 4 3 1 4 1 3 1 3 4 4 4 4 4 1 1 1 1 3 2 3 3 4 1 1]]\n"
          ]
        }
      ]
    },
    {
      "cell_type": "markdown",
      "metadata": {
        "id": "kiSiJ6A-Jxc_"
      },
      "source": [
        "# Penjumlahan Matriks\n",
        "\n",
        "Penjumlahan matriks dilakukan dengan menjumlahkan setiap elemen, menggunakan tanda plus (+). Hasil penjumlahan tersebut akan menjadi elemen baru. Masing - masing matriks diakses setiap elemennya pada koordinat yang sama kemudian dijumlahkan untuk mendapatkan elemen baru. Penjumlahan matriks dilakukan pada dua buah matriks yang memiliki orde sama."
      ]
    },
    {
      "cell_type": "code",
      "metadata": {
        "colab": {
          "base_uri": "https://localhost:8080/"
        },
        "id": "9khkDTK6Jxc_",
        "outputId": "df0e5e80-bf26-4532-c3bb-c8172f612693"
      },
      "source": [
        "#Penjumlahan Matriks\n",
        "#Contoh 1\n",
        "mat1 = [\n",
        "    [5, 0],\n",
        "    [2, 6],\n",
        "]\n",
        "\n",
        "mat2 = [\n",
        "    [1, 0],\n",
        "    [4, 2],\n",
        "]\n",
        "\n",
        "\n",
        "for x in range(0, len(mat1)):\n",
        "    for y in range(0, len(mat1[0])):\n",
        "        print (mat1[x][y] + mat2[x][y], end=' '),\n",
        "    print"
      ],
      "execution_count": 11,
      "outputs": [
        {
          "output_type": "stream",
          "name": "stdout",
          "text": [
            "6 0 6 8 "
          ]
        }
      ]
    },
    {
      "cell_type": "code",
      "metadata": {
        "colab": {
          "base_uri": "https://localhost:8080/"
        },
        "id": "P1ranlp6Jxc_",
        "outputId": "ab77e9f6-277b-495c-d884-912351d8a6aa"
      },
      "source": [
        "#Penjumlahan Matriks\n",
        "#Contoh 2\n",
        "import numpy as np\n",
        "matriksA = np.random.randint(1, 4,(3, 4))\n",
        "matriksB = np.random.randint(1, 3,(3, 4))\n",
        "print (matriksA)\n",
        "print () #memberikan spasi baris pada matriks yang tercetak\n",
        "print (matriksB)\n",
        "print ()\n",
        "\n",
        "#penjumlahan matriksA dan matriks B\n",
        "for x in range(0, len(matriksA)):\n",
        "    print ('Hasil Penjumlahan matriksA dan matriksB', 'Baris ke-', x+1)\n",
        "    print ()\n",
        "    for y in range(0, len(matriksA[0])):\n",
        "        print (matriksA[x][y] + matriksB[x][y], end=' '),\n",
        "    print ()"
      ],
      "execution_count": 12,
      "outputs": [
        {
          "output_type": "stream",
          "name": "stdout",
          "text": [
            "[[3 3 3 3]\n",
            " [1 2 2 3]\n",
            " [2 3 2 3]]\n",
            "\n",
            "[[2 2 1 1]\n",
            " [1 2 2 2]\n",
            " [2 2 1 1]]\n",
            "\n",
            "Hasil Penjumlahan matriksA dan matriksB Baris ke- 1\n",
            "\n",
            "5 5 4 4 \n",
            "Hasil Penjumlahan matriksA dan matriksB Baris ke- 2\n",
            "\n",
            "2 4 4 5 \n",
            "Hasil Penjumlahan matriksA dan matriksB Baris ke- 3\n",
            "\n",
            "4 5 3 4 \n"
          ]
        }
      ]
    },
    {
      "cell_type": "code",
      "metadata": {
        "colab": {
          "base_uri": "https://localhost:8080/"
        },
        "id": "cpUV7V7NJxdA",
        "outputId": "ea276059-2b2f-4112-d921-0e8cee41f63b"
      },
      "source": [
        "#Penjumlahan Matriks\n",
        "#Contoh 3\n",
        "import numpy as np\n",
        "matriksA = np.random.randint(1, 4,(6, 10))\n",
        "matriksB = np.random.randint(1, 3,(6, 10))\n",
        "print (matriksA)\n",
        "print () #memberikan spasi baris pada matriks yang tercetak\n",
        "print (matriksB)\n",
        "print ()\n",
        "\n",
        "#penjumlahan matriksA dan matriks B\n",
        "for x in range(0, len(matriksA)):\n",
        "    print ()\n",
        "    for y in range(0, len(matriksA[0])):\n",
        "        print (matriksA[x][y] + matriksB[x][y], end=' '),\n",
        "    print ()"
      ],
      "execution_count": 13,
      "outputs": [
        {
          "output_type": "stream",
          "name": "stdout",
          "text": [
            "[[2 2 3 3 3 1 2 1 2 2]\n",
            " [2 3 2 3 3 2 3 1 1 3]\n",
            " [1 1 3 1 1 1 1 1 3 2]\n",
            " [1 1 3 2 3 2 2 1 1 3]\n",
            " [2 1 1 1 1 1 1 3 2 3]\n",
            " [1 1 1 2 1 1 1 3 3 3]]\n",
            "\n",
            "[[2 1 2 1 2 1 2 2 2 1]\n",
            " [1 1 2 1 1 2 1 1 1 1]\n",
            " [2 2 1 2 1 2 1 2 1 2]\n",
            " [1 2 2 2 1 1 2 1 2 1]\n",
            " [2 2 2 2 1 2 1 1 2 2]\n",
            " [2 2 1 2 1 2 2 1 1 1]]\n",
            "\n",
            "\n",
            "4 3 5 4 5 2 4 3 4 3 \n",
            "\n",
            "3 4 4 4 4 4 4 2 2 4 \n",
            "\n",
            "3 3 4 3 2 3 2 3 4 4 \n",
            "\n",
            "2 3 5 4 4 3 4 2 3 4 \n",
            "\n",
            "4 3 3 3 2 3 2 4 4 5 \n",
            "\n",
            "3 3 2 4 2 3 3 4 4 4 \n"
          ]
        }
      ]
    },
    {
      "cell_type": "markdown",
      "metadata": {
        "id": "j-jFh_ILJxdA"
      },
      "source": [
        "# Latihan (5)\n",
        "\n",
        "Buatlah penjumlahan dua matriks dengan menggunakan library Numpy, dengan matriks berukuran 7x9 yang nilainya didapatkan secara random."
      ]
    },
    {
      "cell_type": "code",
      "metadata": {
        "colab": {
          "base_uri": "https://localhost:8080/"
        },
        "id": "5zFCd_XGJxdA",
        "outputId": "351b26d4-cc91-4fee-f410-bbee3d70b449"
      },
      "source": [
        "#Latihan(5)\n",
        "#Penjumlahan Matriks\n",
        "import numpy as np\n",
        "matriksA = np.random.randint(1, 4,(7, 9))\n",
        "matriksB = np.random.randint(1, 4,(7, 9))\n",
        "print (matriksA)\n",
        "print () #memberikan spasi baris pada matriks yang tercetak\n",
        "print (matriksB)\n",
        "print ()\n",
        "\n",
        "#penjumlahan matriksA dan matriks B\n",
        "for x in range(0, len(matriksA)):\n",
        "    print ()\n",
        "    for y in range(0, len(matriksA[0])):\n",
        "        print (matriksA[x][y] + matriksB[x][y], end=' '),\n",
        "    print ()"
      ],
      "execution_count": 14,
      "outputs": [
        {
          "output_type": "stream",
          "name": "stdout",
          "text": [
            "[[3 2 1 1 2 2 3 1 2]\n",
            " [1 2 1 3 2 1 2 3 3]\n",
            " [2 1 1 2 2 3 3 3 2]\n",
            " [2 2 2 3 2 1 2 3 3]\n",
            " [3 3 3 1 2 1 1 1 3]\n",
            " [3 2 2 3 3 3 1 1 2]\n",
            " [2 3 1 3 1 2 3 3 3]]\n",
            "\n",
            "[[1 2 2 3 3 2 3 3 1]\n",
            " [3 2 3 3 1 1 2 1 3]\n",
            " [2 3 1 3 1 1 2 1 3]\n",
            " [3 1 2 2 2 1 2 2 2]\n",
            " [3 3 3 3 1 2 1 2 1]\n",
            " [3 3 1 3 3 1 3 2 1]\n",
            " [3 2 3 2 1 3 3 3 3]]\n",
            "\n",
            "\n",
            "4 4 3 4 5 4 6 4 3 \n",
            "\n",
            "4 4 4 6 3 2 4 4 6 \n",
            "\n",
            "4 4 2 5 3 4 5 4 5 \n",
            "\n",
            "5 3 4 5 4 2 4 5 5 \n",
            "\n",
            "6 6 6 4 3 3 2 3 4 \n",
            "\n",
            "6 5 3 6 6 4 4 3 3 \n",
            "\n",
            "5 5 4 5 2 5 6 6 6 \n"
          ]
        }
      ]
    },
    {
      "cell_type": "markdown",
      "metadata": {
        "id": "2ZZ2wvggJxdA"
      },
      "source": [
        "# Pengurangan Matriks\n",
        "\n",
        "Pengurangan matriks menggunakan operator dengan tanda kurang (-). Matriks baru akan terbentuk sebagai hasil dari pengurangan setiap kedua elemen matriks. Pengurangan matriks dilakukan pada dua matriks yang memiliki orde yang sama."
      ]
    },
    {
      "cell_type": "code",
      "metadata": {
        "id": "UlWUBapBJxdB",
        "colab": {
          "base_uri": "https://localhost:8080/"
        },
        "outputId": "8e1e8f10-13f0-4b86-e4e3-5a630f7eb4f2"
      },
      "source": [
        "#Pengurangan Matriks\n",
        "#Contoh 1\n",
        "mat1 = [\n",
        "    [5, 0],\n",
        "    [2, 6],\n",
        "]\n",
        "\n",
        "mat2 = [\n",
        "    [1, 0],\n",
        "    [4, 2],\n",
        "]\n",
        "\n",
        "\n",
        "for x in range(0, len(mat1)):\n",
        "    for y in range(0, len(mat1[0])):\n",
        "        print (mat1[x][y] - mat2[x][y], end=' '),\n",
        "    print"
      ],
      "execution_count": 15,
      "outputs": [
        {
          "output_type": "stream",
          "name": "stdout",
          "text": [
            "4 0 -2 4 "
          ]
        }
      ]
    },
    {
      "cell_type": "code",
      "metadata": {
        "id": "A4R-gOj1JxdB",
        "colab": {
          "base_uri": "https://localhost:8080/"
        },
        "outputId": "9fec84a0-9330-43d4-fb7c-612943d2dcf8"
      },
      "source": [
        "#Pengurangan Matriks\n",
        "#Contoh 2\n",
        "mat1 = [\n",
        "    [5, 0],\n",
        "    [2, 6],\n",
        "]\n",
        "\n",
        "mat2 = [\n",
        "    [1, 0],\n",
        "    [4, 2],\n",
        "]\n",
        "\n",
        "\n",
        "for x in range(0, len(mat1)):\n",
        "    for y in range(0, len(mat1[0])):\n",
        "        print (mat1[x][y] - mat2[x][y], end=' '),\n",
        "    print ()"
      ],
      "execution_count": 16,
      "outputs": [
        {
          "output_type": "stream",
          "name": "stdout",
          "text": [
            "4 0 \n",
            "-2 4 \n"
          ]
        }
      ]
    },
    {
      "cell_type": "code",
      "metadata": {
        "id": "2ta8dm7TJxdB",
        "colab": {
          "base_uri": "https://localhost:8080/"
        },
        "outputId": "46632b74-ff01-4ac3-8003-e217d6c866fc"
      },
      "source": [
        "#Pengurangan Matriks\n",
        "#Contoh 3\n",
        "import numpy as np\n",
        "matriksA = np.random.randint(1, 4,(3, 4))\n",
        "matriksB = np.random.randint(1, 3,(3, 4))\n",
        "print (matriksA)\n",
        "print () #memberikan spasi baris pada matriks yang tercetak\n",
        "print (matriksB)\n",
        "print ()\n",
        "\n",
        "#pengurangan matriksA dengan matriks B\n",
        "for x in range(0, len(matriksA)):\n",
        "    print ('Hasil Pengurangan matriksA dan matriksB', 'Baris ke-', x+1)\n",
        "    print ()\n",
        "    for y in range(0, len(matriksA[0])):\n",
        "        print (matriksA[x][y] - matriksB[x][y], end=' '),\n",
        "    print ()"
      ],
      "execution_count": 17,
      "outputs": [
        {
          "output_type": "stream",
          "name": "stdout",
          "text": [
            "[[2 1 2 3]\n",
            " [2 3 2 1]\n",
            " [1 2 2 1]]\n",
            "\n",
            "[[1 1 1 2]\n",
            " [1 1 1 2]\n",
            " [1 2 1 2]]\n",
            "\n",
            "Hasil Pengurangan matriksA dan matriksB Baris ke- 1\n",
            "\n",
            "1 0 1 1 \n",
            "Hasil Pengurangan matriksA dan matriksB Baris ke- 2\n",
            "\n",
            "1 2 1 -1 \n",
            "Hasil Pengurangan matriksA dan matriksB Baris ke- 3\n",
            "\n",
            "0 0 1 -1 \n"
          ]
        }
      ]
    },
    {
      "cell_type": "code",
      "metadata": {
        "id": "MQ7B-h9SJxdB",
        "colab": {
          "base_uri": "https://localhost:8080/"
        },
        "outputId": "6d7613f7-5a23-422d-9054-e215ae310e6e"
      },
      "source": [
        "#Pengurangan Matriks\n",
        "#Contoh 4\n",
        "import numpy as np\n",
        "matriksA = np.random.randint(1, 4,(6, 10))\n",
        "matriksB = np.random.randint(1, 3,(6, 10))\n",
        "print (matriksA)\n",
        "print () #memberikan spasi baris pada matriks yang tercetak\n",
        "print (matriksB)\n",
        "print ()\n",
        "\n",
        "#pengurangan matriksA dengan matriks B\n",
        "for x in range(0, len(matriksA)):\n",
        "    print ()\n",
        "    for y in range(0, len(matriksA[0])):\n",
        "        print (matriksA[x][y] - matriksB[x][y], end=' '),\n",
        "    print ()"
      ],
      "execution_count": 18,
      "outputs": [
        {
          "output_type": "stream",
          "name": "stdout",
          "text": [
            "[[1 2 2 3 1 2 1 3 2 3]\n",
            " [2 2 2 1 1 3 2 2 2 1]\n",
            " [1 3 2 3 1 2 1 3 3 1]\n",
            " [2 3 3 1 1 3 3 1 2 3]\n",
            " [3 3 3 2 1 2 3 2 1 3]\n",
            " [3 3 1 2 1 1 1 2 3 2]]\n",
            "\n",
            "[[1 2 1 1 2 1 1 1 2 1]\n",
            " [1 1 1 2 1 1 2 2 2 1]\n",
            " [1 2 2 2 1 1 1 1 2 1]\n",
            " [1 1 2 1 2 1 2 1 1 1]\n",
            " [2 1 1 2 2 2 2 2 1 2]\n",
            " [2 2 1 2 1 1 2 2 2 1]]\n",
            "\n",
            "\n",
            "0 0 1 2 -1 1 0 2 0 2 \n",
            "\n",
            "1 1 1 -1 0 2 0 0 0 0 \n",
            "\n",
            "0 1 0 1 0 1 0 2 1 0 \n",
            "\n",
            "1 2 1 0 -1 2 1 0 1 2 \n",
            "\n",
            "1 2 2 0 -1 0 1 0 0 1 \n",
            "\n",
            "1 1 0 0 0 0 -1 0 1 1 \n"
          ]
        }
      ]
    },
    {
      "cell_type": "markdown",
      "metadata": {
        "id": "R8ci289TJxdB"
      },
      "source": [
        "# Latihan (6)\n",
        "\n",
        "Buatlah pengurangan dua matriks dengan menggunakan library Numpy, dengan matriks berukuran 7x9 yang nilainya didapatkan secara random."
      ]
    },
    {
      "cell_type": "code",
      "metadata": {
        "colab": {
          "base_uri": "https://localhost:8080/"
        },
        "id": "cDjGR-sYJxdC",
        "outputId": "5993f561-7496-4101-be6e-0a4304a9a4fc"
      },
      "source": [
        "#Latihan(6)\n",
        "#Pengurangan Matriks\n",
        "import numpy as np\n",
        "matriksA = np.random.randint(1, 10,(7, 9))\n",
        "matriksB = np.random.randint(1, 10,(7, 9))\n",
        "print (matriksA)\n",
        "print () #memberikan spasi baris pada matriks yang tercetak\n",
        "print (matriksB)\n",
        "print ()\n",
        "\n",
        "#pengurangan matriksA dengan matriks B\n",
        "for x in range(0, len(matriksA)):\n",
        "    print ()\n",
        "    for y in range(0, len(matriksA[0])):\n",
        "        print (matriksA[x][y] - matriksB[x][y], end=' '),\n",
        "    print ()"
      ],
      "execution_count": 19,
      "outputs": [
        {
          "output_type": "stream",
          "name": "stdout",
          "text": [
            "[[8 4 8 7 9 5 4 5 9]\n",
            " [8 1 7 1 1 3 5 7 3]\n",
            " [9 7 8 4 4 9 8 1 1]\n",
            " [5 3 5 6 5 2 8 6 4]\n",
            " [8 5 6 6 2 3 8 4 7]\n",
            " [9 5 9 9 3 6 6 2 6]\n",
            " [8 1 1 6 6 1 8 3 9]]\n",
            "\n",
            "[[5 4 8 7 8 3 9 5 9]\n",
            " [3 1 5 2 9 3 2 4 8]\n",
            " [9 4 7 8 6 3 7 6 8]\n",
            " [6 7 3 9 1 1 4 5 3]\n",
            " [8 7 6 3 2 1 7 2 8]\n",
            " [9 3 3 5 1 1 2 2 1]\n",
            " [1 9 5 8 1 5 5 4 7]]\n",
            "\n",
            "\n",
            "3 0 0 0 1 2 -5 0 0 \n",
            "\n",
            "5 0 2 -1 -8 0 3 3 -5 \n",
            "\n",
            "0 3 1 -4 -2 6 1 -5 -7 \n",
            "\n",
            "-1 -4 2 -3 4 1 4 1 1 \n",
            "\n",
            "0 -2 0 3 0 2 1 2 -1 \n",
            "\n",
            "0 2 6 4 2 5 4 0 5 \n",
            "\n",
            "7 -8 -4 -2 5 -4 3 -1 2 \n"
          ]
        }
      ]
    },
    {
      "cell_type": "markdown",
      "metadata": {
        "id": "XsMd9jUDJxdC"
      },
      "source": [
        "# Penggunaan Library Pandas"
      ]
    },
    {
      "cell_type": "markdown",
      "metadata": {
        "id": "cCB7nZoUJxdC"
      },
      "source": [
        "# Latihan (7)\n",
        "\n",
        "Lakukan import Library Pandas"
      ]
    },
    {
      "cell_type": "code",
      "metadata": {
        "id": "oky2w6CGJxdC"
      },
      "source": [
        "#Latihan(7)\n",
        "#Import Library Pandas\n",
        "\n",
        "import pandas as pd"
      ],
      "execution_count": 20,
      "outputs": []
    },
    {
      "cell_type": "markdown",
      "metadata": {
        "id": "f56WW6sJJxdC"
      },
      "source": [
        "# Latihan (8)\n",
        "\n",
        "Panggil file dengan format .csv yang bernama \"cloth_data\""
      ]
    },
    {
      "cell_type": "code",
      "metadata": {
        "id": "jpv2E8DgJxdD"
      },
      "source": [
        "#latihan(8)\n",
        "#Panggil file bernama cloth_data.csv\n",
        "\n",
        "url = 'https://raw.githubusercontent.com/anggaagustiratelkom/data_scientist/master/TugasPertemuan4/Pertemuan4_Tugas_cloth_data.csv'\n",
        "df = pd.read_csv(url)"
      ],
      "execution_count": 21,
      "outputs": []
    },
    {
      "cell_type": "markdown",
      "metadata": {
        "id": "oZCXGGaCJxdD"
      },
      "source": [
        "# Latihan (9)\n",
        "\n",
        "Tampilkan data dari \"cloth_data\" "
      ]
    },
    {
      "cell_type": "code",
      "metadata": {
        "id": "JOv9dn1UJxdD",
        "colab": {
          "base_uri": "https://localhost:8080/",
          "height": 1000
        },
        "outputId": "f6c376d4-ea75-42c0-d192-75554dc4edb0"
      },
      "source": [
        "#latihan(9)\n",
        "#Tampilkan data dari dataset cloth_data \n",
        "\n",
        "df"
      ],
      "execution_count": 22,
      "outputs": [
        {
          "output_type": "execute_result",
          "data": {
            "text/html": [
              "<div>\n",
              "<style scoped>\n",
              "    .dataframe tbody tr th:only-of-type {\n",
              "        vertical-align: middle;\n",
              "    }\n",
              "\n",
              "    .dataframe tbody tr th {\n",
              "        vertical-align: top;\n",
              "    }\n",
              "\n",
              "    .dataframe thead th {\n",
              "        text-align: right;\n",
              "    }\n",
              "</style>\n",
              "<table border=\"1\" class=\"dataframe\">\n",
              "  <thead>\n",
              "    <tr style=\"text-align: right;\">\n",
              "      <th></th>\n",
              "      <th>weight</th>\n",
              "      <th>age</th>\n",
              "      <th>height</th>\n",
              "      <th>size</th>\n",
              "    </tr>\n",
              "  </thead>\n",
              "  <tbody>\n",
              "    <tr>\n",
              "      <th>0</th>\n",
              "      <td>62</td>\n",
              "      <td>28.0</td>\n",
              "      <td>172.72</td>\n",
              "      <td>XL</td>\n",
              "    </tr>\n",
              "    <tr>\n",
              "      <th>1</th>\n",
              "      <td>59</td>\n",
              "      <td>36.0</td>\n",
              "      <td>167.64</td>\n",
              "      <td>L</td>\n",
              "    </tr>\n",
              "    <tr>\n",
              "      <th>2</th>\n",
              "      <td>61</td>\n",
              "      <td>34.0</td>\n",
              "      <td>165.10</td>\n",
              "      <td>M</td>\n",
              "    </tr>\n",
              "    <tr>\n",
              "      <th>3</th>\n",
              "      <td>65</td>\n",
              "      <td>27.0</td>\n",
              "      <td>175.26</td>\n",
              "      <td>L</td>\n",
              "    </tr>\n",
              "    <tr>\n",
              "      <th>4</th>\n",
              "      <td>62</td>\n",
              "      <td>45.0</td>\n",
              "      <td>172.72</td>\n",
              "      <td>M</td>\n",
              "    </tr>\n",
              "    <tr>\n",
              "      <th>5</th>\n",
              "      <td>50</td>\n",
              "      <td>27.0</td>\n",
              "      <td>160.02</td>\n",
              "      <td>S</td>\n",
              "    </tr>\n",
              "    <tr>\n",
              "      <th>6</th>\n",
              "      <td>53</td>\n",
              "      <td>65.0</td>\n",
              "      <td>160.02</td>\n",
              "      <td>M</td>\n",
              "    </tr>\n",
              "    <tr>\n",
              "      <th>7</th>\n",
              "      <td>51</td>\n",
              "      <td>33.0</td>\n",
              "      <td>160.02</td>\n",
              "      <td>XXS</td>\n",
              "    </tr>\n",
              "    <tr>\n",
              "      <th>8</th>\n",
              "      <td>54</td>\n",
              "      <td>26.0</td>\n",
              "      <td>167.64</td>\n",
              "      <td>M</td>\n",
              "    </tr>\n",
              "    <tr>\n",
              "      <th>9</th>\n",
              "      <td>53</td>\n",
              "      <td>32.0</td>\n",
              "      <td>165.10</td>\n",
              "      <td>S</td>\n",
              "    </tr>\n",
              "    <tr>\n",
              "      <th>10</th>\n",
              "      <td>63</td>\n",
              "      <td>30.0</td>\n",
              "      <td>170.18</td>\n",
              "      <td>XXXL</td>\n",
              "    </tr>\n",
              "    <tr>\n",
              "      <th>11</th>\n",
              "      <td>77</td>\n",
              "      <td>35.0</td>\n",
              "      <td>172.72</td>\n",
              "      <td>XXXL</td>\n",
              "    </tr>\n",
              "    <tr>\n",
              "      <th>12</th>\n",
              "      <td>64</td>\n",
              "      <td>26.0</td>\n",
              "      <td>165.10</td>\n",
              "      <td>L</td>\n",
              "    </tr>\n",
              "    <tr>\n",
              "      <th>13</th>\n",
              "      <td>52</td>\n",
              "      <td>28.0</td>\n",
              "      <td>160.02</td>\n",
              "      <td>M</td>\n",
              "    </tr>\n",
              "    <tr>\n",
              "      <th>14</th>\n",
              "      <td>65</td>\n",
              "      <td>33.0</td>\n",
              "      <td>165.10</td>\n",
              "      <td>L</td>\n",
              "    </tr>\n",
              "    <tr>\n",
              "      <th>15</th>\n",
              "      <td>63</td>\n",
              "      <td>30.0</td>\n",
              "      <td>167.64</td>\n",
              "      <td>L</td>\n",
              "    </tr>\n",
              "    <tr>\n",
              "      <th>16</th>\n",
              "      <td>54</td>\n",
              "      <td>21.0</td>\n",
              "      <td>167.64</td>\n",
              "      <td>XXS</td>\n",
              "    </tr>\n",
              "    <tr>\n",
              "      <th>17</th>\n",
              "      <td>63</td>\n",
              "      <td>27.0</td>\n",
              "      <td>172.72</td>\n",
              "      <td>M</td>\n",
              "    </tr>\n",
              "    <tr>\n",
              "      <th>18</th>\n",
              "      <td>63</td>\n",
              "      <td>30.0</td>\n",
              "      <td>167.64</td>\n",
              "      <td>M</td>\n",
              "    </tr>\n",
              "    <tr>\n",
              "      <th>19</th>\n",
              "      <td>54</td>\n",
              "      <td>20.0</td>\n",
              "      <td>167.64</td>\n",
              "      <td>S</td>\n",
              "    </tr>\n",
              "    <tr>\n",
              "      <th>20</th>\n",
              "      <td>55</td>\n",
              "      <td>32.0</td>\n",
              "      <td>154.94</td>\n",
              "      <td>S</td>\n",
              "    </tr>\n",
              "    <tr>\n",
              "      <th>21</th>\n",
              "      <td>55</td>\n",
              "      <td>37.0</td>\n",
              "      <td>160.02</td>\n",
              "      <td>M</td>\n",
              "    </tr>\n",
              "    <tr>\n",
              "      <th>22</th>\n",
              "      <td>55</td>\n",
              "      <td>50.0</td>\n",
              "      <td>165.10</td>\n",
              "      <td>S</td>\n",
              "    </tr>\n",
              "    <tr>\n",
              "      <th>23</th>\n",
              "      <td>50</td>\n",
              "      <td>43.0</td>\n",
              "      <td>160.02</td>\n",
              "      <td>M</td>\n",
              "    </tr>\n",
              "    <tr>\n",
              "      <th>24</th>\n",
              "      <td>74</td>\n",
              "      <td>29.0</td>\n",
              "      <td>177.80</td>\n",
              "      <td>XL</td>\n",
              "    </tr>\n",
              "    <tr>\n",
              "      <th>25</th>\n",
              "      <td>64</td>\n",
              "      <td>32.0</td>\n",
              "      <td>160.02</td>\n",
              "      <td>XL</td>\n",
              "    </tr>\n",
              "    <tr>\n",
              "      <th>26</th>\n",
              "      <td>58</td>\n",
              "      <td>29.0</td>\n",
              "      <td>167.64</td>\n",
              "      <td>XXS</td>\n",
              "    </tr>\n",
              "    <tr>\n",
              "      <th>27</th>\n",
              "      <td>54</td>\n",
              "      <td>47.0</td>\n",
              "      <td>165.10</td>\n",
              "      <td>M</td>\n",
              "    </tr>\n",
              "    <tr>\n",
              "      <th>28</th>\n",
              "      <td>58</td>\n",
              "      <td>31.0</td>\n",
              "      <td>154.94</td>\n",
              "      <td>XL</td>\n",
              "    </tr>\n",
              "    <tr>\n",
              "      <th>29</th>\n",
              "      <td>65</td>\n",
              "      <td>27.0</td>\n",
              "      <td>172.72</td>\n",
              "      <td>L</td>\n",
              "    </tr>\n",
              "    <tr>\n",
              "      <th>30</th>\n",
              "      <td>47</td>\n",
              "      <td>43.0</td>\n",
              "      <td>157.48</td>\n",
              "      <td>S</td>\n",
              "    </tr>\n",
              "    <tr>\n",
              "      <th>31</th>\n",
              "      <td>61</td>\n",
              "      <td>27.0</td>\n",
              "      <td>165.10</td>\n",
              "      <td>M</td>\n",
              "    </tr>\n",
              "    <tr>\n",
              "      <th>32</th>\n",
              "      <td>58</td>\n",
              "      <td>29.0</td>\n",
              "      <td>172.72</td>\n",
              "      <td>M</td>\n",
              "    </tr>\n",
              "    <tr>\n",
              "      <th>33</th>\n",
              "      <td>86</td>\n",
              "      <td>48.0</td>\n",
              "      <td>172.72</td>\n",
              "      <td>XXXL</td>\n",
              "    </tr>\n",
              "    <tr>\n",
              "      <th>34</th>\n",
              "      <td>68</td>\n",
              "      <td>36.0</td>\n",
              "      <td>162.56</td>\n",
              "      <td>XL</td>\n",
              "    </tr>\n",
              "    <tr>\n",
              "      <th>35</th>\n",
              "      <td>65</td>\n",
              "      <td>27.0</td>\n",
              "      <td>170.18</td>\n",
              "      <td>L</td>\n",
              "    </tr>\n",
              "    <tr>\n",
              "      <th>36</th>\n",
              "      <td>65</td>\n",
              "      <td>34.0</td>\n",
              "      <td>170.18</td>\n",
              "      <td>L</td>\n",
              "    </tr>\n",
              "    <tr>\n",
              "      <th>37</th>\n",
              "      <td>54</td>\n",
              "      <td>40.0</td>\n",
              "      <td>157.48</td>\n",
              "      <td>M</td>\n",
              "    </tr>\n",
              "    <tr>\n",
              "      <th>38</th>\n",
              "      <td>52</td>\n",
              "      <td>45.0</td>\n",
              "      <td>154.94</td>\n",
              "      <td>M</td>\n",
              "    </tr>\n",
              "    <tr>\n",
              "      <th>39</th>\n",
              "      <td>52</td>\n",
              "      <td>30.0</td>\n",
              "      <td>170.18</td>\n",
              "      <td>S</td>\n",
              "    </tr>\n",
              "    <tr>\n",
              "      <th>40</th>\n",
              "      <td>58</td>\n",
              "      <td>52.0</td>\n",
              "      <td>162.56</td>\n",
              "      <td>XXXL</td>\n",
              "    </tr>\n",
              "    <tr>\n",
              "      <th>41</th>\n",
              "      <td>78</td>\n",
              "      <td>37.0</td>\n",
              "      <td>175.26</td>\n",
              "      <td>XXXL</td>\n",
              "    </tr>\n",
              "    <tr>\n",
              "      <th>42</th>\n",
              "      <td>61</td>\n",
              "      <td>34.0</td>\n",
              "      <td>172.72</td>\n",
              "      <td>L</td>\n",
              "    </tr>\n",
              "    <tr>\n",
              "      <th>43</th>\n",
              "      <td>49</td>\n",
              "      <td>24.0</td>\n",
              "      <td>167.64</td>\n",
              "      <td>S</td>\n",
              "    </tr>\n",
              "    <tr>\n",
              "      <th>44</th>\n",
              "      <td>61</td>\n",
              "      <td>28.0</td>\n",
              "      <td>162.56</td>\n",
              "      <td>M</td>\n",
              "    </tr>\n",
              "    <tr>\n",
              "      <th>45</th>\n",
              "      <td>64</td>\n",
              "      <td>34.0</td>\n",
              "      <td>162.56</td>\n",
              "      <td>XXXL</td>\n",
              "    </tr>\n",
              "    <tr>\n",
              "      <th>46</th>\n",
              "      <td>63</td>\n",
              "      <td>25.0</td>\n",
              "      <td>167.64</td>\n",
              "      <td>S</td>\n",
              "    </tr>\n",
              "    <tr>\n",
              "      <th>47</th>\n",
              "      <td>56</td>\n",
              "      <td>32.0</td>\n",
              "      <td>157.48</td>\n",
              "      <td>M</td>\n",
              "    </tr>\n",
              "    <tr>\n",
              "      <th>48</th>\n",
              "      <td>50</td>\n",
              "      <td>27.0</td>\n",
              "      <td>170.18</td>\n",
              "      <td>S</td>\n",
              "    </tr>\n",
              "    <tr>\n",
              "      <th>49</th>\n",
              "      <td>77</td>\n",
              "      <td>29.0</td>\n",
              "      <td>172.72</td>\n",
              "      <td>XXXL</td>\n",
              "    </tr>\n",
              "  </tbody>\n",
              "</table>\n",
              "</div>"
            ],
            "text/plain": [
              "    weight   age  height  size\n",
              "0       62  28.0  172.72    XL\n",
              "1       59  36.0  167.64     L\n",
              "2       61  34.0  165.10     M\n",
              "3       65  27.0  175.26     L\n",
              "4       62  45.0  172.72     M\n",
              "5       50  27.0  160.02     S\n",
              "6       53  65.0  160.02     M\n",
              "7       51  33.0  160.02   XXS\n",
              "8       54  26.0  167.64     M\n",
              "9       53  32.0  165.10     S\n",
              "10      63  30.0  170.18  XXXL\n",
              "11      77  35.0  172.72  XXXL\n",
              "12      64  26.0  165.10     L\n",
              "13      52  28.0  160.02     M\n",
              "14      65  33.0  165.10     L\n",
              "15      63  30.0  167.64     L\n",
              "16      54  21.0  167.64   XXS\n",
              "17      63  27.0  172.72     M\n",
              "18      63  30.0  167.64     M\n",
              "19      54  20.0  167.64     S\n",
              "20      55  32.0  154.94     S\n",
              "21      55  37.0  160.02     M\n",
              "22      55  50.0  165.10     S\n",
              "23      50  43.0  160.02     M\n",
              "24      74  29.0  177.80    XL\n",
              "25      64  32.0  160.02    XL\n",
              "26      58  29.0  167.64   XXS\n",
              "27      54  47.0  165.10     M\n",
              "28      58  31.0  154.94    XL\n",
              "29      65  27.0  172.72     L\n",
              "30      47  43.0  157.48     S\n",
              "31      61  27.0  165.10     M\n",
              "32      58  29.0  172.72     M\n",
              "33      86  48.0  172.72  XXXL\n",
              "34      68  36.0  162.56    XL\n",
              "35      65  27.0  170.18     L\n",
              "36      65  34.0  170.18     L\n",
              "37      54  40.0  157.48     M\n",
              "38      52  45.0  154.94     M\n",
              "39      52  30.0  170.18     S\n",
              "40      58  52.0  162.56  XXXL\n",
              "41      78  37.0  175.26  XXXL\n",
              "42      61  34.0  172.72     L\n",
              "43      49  24.0  167.64     S\n",
              "44      61  28.0  162.56     M\n",
              "45      64  34.0  162.56  XXXL\n",
              "46      63  25.0  167.64     S\n",
              "47      56  32.0  157.48     M\n",
              "48      50  27.0  170.18     S\n",
              "49      77  29.0  172.72  XXXL"
            ]
          },
          "metadata": {},
          "execution_count": 22
        }
      ]
    },
    {
      "cell_type": "markdown",
      "metadata": {
        "id": "UyODISyDJxdD"
      },
      "source": [
        "# Latihan (10)\n",
        "\n",
        "Tampilkan data dari \"cloth_data\" mulai dari indeks 0 (nol) sampai dengan indeks 10 (sepuluh)"
      ]
    },
    {
      "cell_type": "code",
      "metadata": {
        "id": "GLo39GFxJxdD",
        "colab": {
          "base_uri": "https://localhost:8080/",
          "height": 388
        },
        "outputId": "787ffca2-b220-4d9d-97ef-a33bd85e7a51"
      },
      "source": [
        "#Latihan(10)\n",
        "#Tampilkan data dari \"cloth_data\" mulai dari indeks 0 (nol) sampai dengan indeks 10 (sepuluh)\n",
        "\n",
        "df[0:11]"
      ],
      "execution_count": 23,
      "outputs": [
        {
          "output_type": "execute_result",
          "data": {
            "text/html": [
              "<div>\n",
              "<style scoped>\n",
              "    .dataframe tbody tr th:only-of-type {\n",
              "        vertical-align: middle;\n",
              "    }\n",
              "\n",
              "    .dataframe tbody tr th {\n",
              "        vertical-align: top;\n",
              "    }\n",
              "\n",
              "    .dataframe thead th {\n",
              "        text-align: right;\n",
              "    }\n",
              "</style>\n",
              "<table border=\"1\" class=\"dataframe\">\n",
              "  <thead>\n",
              "    <tr style=\"text-align: right;\">\n",
              "      <th></th>\n",
              "      <th>weight</th>\n",
              "      <th>age</th>\n",
              "      <th>height</th>\n",
              "      <th>size</th>\n",
              "    </tr>\n",
              "  </thead>\n",
              "  <tbody>\n",
              "    <tr>\n",
              "      <th>0</th>\n",
              "      <td>62</td>\n",
              "      <td>28.0</td>\n",
              "      <td>172.72</td>\n",
              "      <td>XL</td>\n",
              "    </tr>\n",
              "    <tr>\n",
              "      <th>1</th>\n",
              "      <td>59</td>\n",
              "      <td>36.0</td>\n",
              "      <td>167.64</td>\n",
              "      <td>L</td>\n",
              "    </tr>\n",
              "    <tr>\n",
              "      <th>2</th>\n",
              "      <td>61</td>\n",
              "      <td>34.0</td>\n",
              "      <td>165.10</td>\n",
              "      <td>M</td>\n",
              "    </tr>\n",
              "    <tr>\n",
              "      <th>3</th>\n",
              "      <td>65</td>\n",
              "      <td>27.0</td>\n",
              "      <td>175.26</td>\n",
              "      <td>L</td>\n",
              "    </tr>\n",
              "    <tr>\n",
              "      <th>4</th>\n",
              "      <td>62</td>\n",
              "      <td>45.0</td>\n",
              "      <td>172.72</td>\n",
              "      <td>M</td>\n",
              "    </tr>\n",
              "    <tr>\n",
              "      <th>5</th>\n",
              "      <td>50</td>\n",
              "      <td>27.0</td>\n",
              "      <td>160.02</td>\n",
              "      <td>S</td>\n",
              "    </tr>\n",
              "    <tr>\n",
              "      <th>6</th>\n",
              "      <td>53</td>\n",
              "      <td>65.0</td>\n",
              "      <td>160.02</td>\n",
              "      <td>M</td>\n",
              "    </tr>\n",
              "    <tr>\n",
              "      <th>7</th>\n",
              "      <td>51</td>\n",
              "      <td>33.0</td>\n",
              "      <td>160.02</td>\n",
              "      <td>XXS</td>\n",
              "    </tr>\n",
              "    <tr>\n",
              "      <th>8</th>\n",
              "      <td>54</td>\n",
              "      <td>26.0</td>\n",
              "      <td>167.64</td>\n",
              "      <td>M</td>\n",
              "    </tr>\n",
              "    <tr>\n",
              "      <th>9</th>\n",
              "      <td>53</td>\n",
              "      <td>32.0</td>\n",
              "      <td>165.10</td>\n",
              "      <td>S</td>\n",
              "    </tr>\n",
              "    <tr>\n",
              "      <th>10</th>\n",
              "      <td>63</td>\n",
              "      <td>30.0</td>\n",
              "      <td>170.18</td>\n",
              "      <td>XXXL</td>\n",
              "    </tr>\n",
              "  </tbody>\n",
              "</table>\n",
              "</div>"
            ],
            "text/plain": [
              "    weight   age  height  size\n",
              "0       62  28.0  172.72    XL\n",
              "1       59  36.0  167.64     L\n",
              "2       61  34.0  165.10     M\n",
              "3       65  27.0  175.26     L\n",
              "4       62  45.0  172.72     M\n",
              "5       50  27.0  160.02     S\n",
              "6       53  65.0  160.02     M\n",
              "7       51  33.0  160.02   XXS\n",
              "8       54  26.0  167.64     M\n",
              "9       53  32.0  165.10     S\n",
              "10      63  30.0  170.18  XXXL"
            ]
          },
          "metadata": {},
          "execution_count": 23
        }
      ]
    },
    {
      "cell_type": "markdown",
      "metadata": {
        "id": "sGeOf0LwJxdE"
      },
      "source": [
        "# Latihan (11)\n",
        "\n",
        "Tampilkan data dari \"cloth_data\" untuk kolom age dan size"
      ]
    },
    {
      "cell_type": "code",
      "metadata": {
        "id": "SOz4eQ7MJxdG",
        "colab": {
          "base_uri": "https://localhost:8080/",
          "height": 1000
        },
        "outputId": "60827d33-5967-4c22-e6e3-fa8b37933ad2"
      },
      "source": [
        "#Latihan(11)\n",
        "#Tampilkan data dari \"cloth_data\" untuk kolom age dan size\n",
        "\n",
        "pd.DataFrame(df, columns=['age','size'])"
      ],
      "execution_count": 24,
      "outputs": [
        {
          "output_type": "execute_result",
          "data": {
            "text/html": [
              "<div>\n",
              "<style scoped>\n",
              "    .dataframe tbody tr th:only-of-type {\n",
              "        vertical-align: middle;\n",
              "    }\n",
              "\n",
              "    .dataframe tbody tr th {\n",
              "        vertical-align: top;\n",
              "    }\n",
              "\n",
              "    .dataframe thead th {\n",
              "        text-align: right;\n",
              "    }\n",
              "</style>\n",
              "<table border=\"1\" class=\"dataframe\">\n",
              "  <thead>\n",
              "    <tr style=\"text-align: right;\">\n",
              "      <th></th>\n",
              "      <th>age</th>\n",
              "      <th>size</th>\n",
              "    </tr>\n",
              "  </thead>\n",
              "  <tbody>\n",
              "    <tr>\n",
              "      <th>0</th>\n",
              "      <td>28.0</td>\n",
              "      <td>XL</td>\n",
              "    </tr>\n",
              "    <tr>\n",
              "      <th>1</th>\n",
              "      <td>36.0</td>\n",
              "      <td>L</td>\n",
              "    </tr>\n",
              "    <tr>\n",
              "      <th>2</th>\n",
              "      <td>34.0</td>\n",
              "      <td>M</td>\n",
              "    </tr>\n",
              "    <tr>\n",
              "      <th>3</th>\n",
              "      <td>27.0</td>\n",
              "      <td>L</td>\n",
              "    </tr>\n",
              "    <tr>\n",
              "      <th>4</th>\n",
              "      <td>45.0</td>\n",
              "      <td>M</td>\n",
              "    </tr>\n",
              "    <tr>\n",
              "      <th>5</th>\n",
              "      <td>27.0</td>\n",
              "      <td>S</td>\n",
              "    </tr>\n",
              "    <tr>\n",
              "      <th>6</th>\n",
              "      <td>65.0</td>\n",
              "      <td>M</td>\n",
              "    </tr>\n",
              "    <tr>\n",
              "      <th>7</th>\n",
              "      <td>33.0</td>\n",
              "      <td>XXS</td>\n",
              "    </tr>\n",
              "    <tr>\n",
              "      <th>8</th>\n",
              "      <td>26.0</td>\n",
              "      <td>M</td>\n",
              "    </tr>\n",
              "    <tr>\n",
              "      <th>9</th>\n",
              "      <td>32.0</td>\n",
              "      <td>S</td>\n",
              "    </tr>\n",
              "    <tr>\n",
              "      <th>10</th>\n",
              "      <td>30.0</td>\n",
              "      <td>XXXL</td>\n",
              "    </tr>\n",
              "    <tr>\n",
              "      <th>11</th>\n",
              "      <td>35.0</td>\n",
              "      <td>XXXL</td>\n",
              "    </tr>\n",
              "    <tr>\n",
              "      <th>12</th>\n",
              "      <td>26.0</td>\n",
              "      <td>L</td>\n",
              "    </tr>\n",
              "    <tr>\n",
              "      <th>13</th>\n",
              "      <td>28.0</td>\n",
              "      <td>M</td>\n",
              "    </tr>\n",
              "    <tr>\n",
              "      <th>14</th>\n",
              "      <td>33.0</td>\n",
              "      <td>L</td>\n",
              "    </tr>\n",
              "    <tr>\n",
              "      <th>15</th>\n",
              "      <td>30.0</td>\n",
              "      <td>L</td>\n",
              "    </tr>\n",
              "    <tr>\n",
              "      <th>16</th>\n",
              "      <td>21.0</td>\n",
              "      <td>XXS</td>\n",
              "    </tr>\n",
              "    <tr>\n",
              "      <th>17</th>\n",
              "      <td>27.0</td>\n",
              "      <td>M</td>\n",
              "    </tr>\n",
              "    <tr>\n",
              "      <th>18</th>\n",
              "      <td>30.0</td>\n",
              "      <td>M</td>\n",
              "    </tr>\n",
              "    <tr>\n",
              "      <th>19</th>\n",
              "      <td>20.0</td>\n",
              "      <td>S</td>\n",
              "    </tr>\n",
              "    <tr>\n",
              "      <th>20</th>\n",
              "      <td>32.0</td>\n",
              "      <td>S</td>\n",
              "    </tr>\n",
              "    <tr>\n",
              "      <th>21</th>\n",
              "      <td>37.0</td>\n",
              "      <td>M</td>\n",
              "    </tr>\n",
              "    <tr>\n",
              "      <th>22</th>\n",
              "      <td>50.0</td>\n",
              "      <td>S</td>\n",
              "    </tr>\n",
              "    <tr>\n",
              "      <th>23</th>\n",
              "      <td>43.0</td>\n",
              "      <td>M</td>\n",
              "    </tr>\n",
              "    <tr>\n",
              "      <th>24</th>\n",
              "      <td>29.0</td>\n",
              "      <td>XL</td>\n",
              "    </tr>\n",
              "    <tr>\n",
              "      <th>25</th>\n",
              "      <td>32.0</td>\n",
              "      <td>XL</td>\n",
              "    </tr>\n",
              "    <tr>\n",
              "      <th>26</th>\n",
              "      <td>29.0</td>\n",
              "      <td>XXS</td>\n",
              "    </tr>\n",
              "    <tr>\n",
              "      <th>27</th>\n",
              "      <td>47.0</td>\n",
              "      <td>M</td>\n",
              "    </tr>\n",
              "    <tr>\n",
              "      <th>28</th>\n",
              "      <td>31.0</td>\n",
              "      <td>XL</td>\n",
              "    </tr>\n",
              "    <tr>\n",
              "      <th>29</th>\n",
              "      <td>27.0</td>\n",
              "      <td>L</td>\n",
              "    </tr>\n",
              "    <tr>\n",
              "      <th>30</th>\n",
              "      <td>43.0</td>\n",
              "      <td>S</td>\n",
              "    </tr>\n",
              "    <tr>\n",
              "      <th>31</th>\n",
              "      <td>27.0</td>\n",
              "      <td>M</td>\n",
              "    </tr>\n",
              "    <tr>\n",
              "      <th>32</th>\n",
              "      <td>29.0</td>\n",
              "      <td>M</td>\n",
              "    </tr>\n",
              "    <tr>\n",
              "      <th>33</th>\n",
              "      <td>48.0</td>\n",
              "      <td>XXXL</td>\n",
              "    </tr>\n",
              "    <tr>\n",
              "      <th>34</th>\n",
              "      <td>36.0</td>\n",
              "      <td>XL</td>\n",
              "    </tr>\n",
              "    <tr>\n",
              "      <th>35</th>\n",
              "      <td>27.0</td>\n",
              "      <td>L</td>\n",
              "    </tr>\n",
              "    <tr>\n",
              "      <th>36</th>\n",
              "      <td>34.0</td>\n",
              "      <td>L</td>\n",
              "    </tr>\n",
              "    <tr>\n",
              "      <th>37</th>\n",
              "      <td>40.0</td>\n",
              "      <td>M</td>\n",
              "    </tr>\n",
              "    <tr>\n",
              "      <th>38</th>\n",
              "      <td>45.0</td>\n",
              "      <td>M</td>\n",
              "    </tr>\n",
              "    <tr>\n",
              "      <th>39</th>\n",
              "      <td>30.0</td>\n",
              "      <td>S</td>\n",
              "    </tr>\n",
              "    <tr>\n",
              "      <th>40</th>\n",
              "      <td>52.0</td>\n",
              "      <td>XXXL</td>\n",
              "    </tr>\n",
              "    <tr>\n",
              "      <th>41</th>\n",
              "      <td>37.0</td>\n",
              "      <td>XXXL</td>\n",
              "    </tr>\n",
              "    <tr>\n",
              "      <th>42</th>\n",
              "      <td>34.0</td>\n",
              "      <td>L</td>\n",
              "    </tr>\n",
              "    <tr>\n",
              "      <th>43</th>\n",
              "      <td>24.0</td>\n",
              "      <td>S</td>\n",
              "    </tr>\n",
              "    <tr>\n",
              "      <th>44</th>\n",
              "      <td>28.0</td>\n",
              "      <td>M</td>\n",
              "    </tr>\n",
              "    <tr>\n",
              "      <th>45</th>\n",
              "      <td>34.0</td>\n",
              "      <td>XXXL</td>\n",
              "    </tr>\n",
              "    <tr>\n",
              "      <th>46</th>\n",
              "      <td>25.0</td>\n",
              "      <td>S</td>\n",
              "    </tr>\n",
              "    <tr>\n",
              "      <th>47</th>\n",
              "      <td>32.0</td>\n",
              "      <td>M</td>\n",
              "    </tr>\n",
              "    <tr>\n",
              "      <th>48</th>\n",
              "      <td>27.0</td>\n",
              "      <td>S</td>\n",
              "    </tr>\n",
              "    <tr>\n",
              "      <th>49</th>\n",
              "      <td>29.0</td>\n",
              "      <td>XXXL</td>\n",
              "    </tr>\n",
              "  </tbody>\n",
              "</table>\n",
              "</div>"
            ],
            "text/plain": [
              "     age  size\n",
              "0   28.0    XL\n",
              "1   36.0     L\n",
              "2   34.0     M\n",
              "3   27.0     L\n",
              "4   45.0     M\n",
              "5   27.0     S\n",
              "6   65.0     M\n",
              "7   33.0   XXS\n",
              "8   26.0     M\n",
              "9   32.0     S\n",
              "10  30.0  XXXL\n",
              "11  35.0  XXXL\n",
              "12  26.0     L\n",
              "13  28.0     M\n",
              "14  33.0     L\n",
              "15  30.0     L\n",
              "16  21.0   XXS\n",
              "17  27.0     M\n",
              "18  30.0     M\n",
              "19  20.0     S\n",
              "20  32.0     S\n",
              "21  37.0     M\n",
              "22  50.0     S\n",
              "23  43.0     M\n",
              "24  29.0    XL\n",
              "25  32.0    XL\n",
              "26  29.0   XXS\n",
              "27  47.0     M\n",
              "28  31.0    XL\n",
              "29  27.0     L\n",
              "30  43.0     S\n",
              "31  27.0     M\n",
              "32  29.0     M\n",
              "33  48.0  XXXL\n",
              "34  36.0    XL\n",
              "35  27.0     L\n",
              "36  34.0     L\n",
              "37  40.0     M\n",
              "38  45.0     M\n",
              "39  30.0     S\n",
              "40  52.0  XXXL\n",
              "41  37.0  XXXL\n",
              "42  34.0     L\n",
              "43  24.0     S\n",
              "44  28.0     M\n",
              "45  34.0  XXXL\n",
              "46  25.0     S\n",
              "47  32.0     M\n",
              "48  27.0     S\n",
              "49  29.0  XXXL"
            ]
          },
          "metadata": {},
          "execution_count": 24
        }
      ]
    },
    {
      "cell_type": "markdown",
      "metadata": {
        "id": "WVJSLwSPJxdG"
      },
      "source": [
        "# Latihan (12)\n",
        "\n",
        "Tampilkan data dari \"cloth_data\" untuk kolom age dan size, mulai dari indeks 0 (nol) sampai dengan indeks 10 (sepuluh)"
      ]
    },
    {
      "cell_type": "code",
      "metadata": {
        "id": "DPNWfNIwJxdH",
        "colab": {
          "base_uri": "https://localhost:8080/",
          "height": 388
        },
        "outputId": "6a5d5589-60cd-4816-a437-971a0d5c176d"
      },
      "source": [
        "#Latihan(12)\n",
        "#Tampilkan data dari \"cloth_data\" untuk kolom age dan size, mulai dari indeks 0 (nol) sampai dengan indeks 10 (sepuluh)\n",
        "\n",
        "pd.DataFrame(df[0:11], columns=['age','size'])"
      ],
      "execution_count": 25,
      "outputs": [
        {
          "output_type": "execute_result",
          "data": {
            "text/html": [
              "<div>\n",
              "<style scoped>\n",
              "    .dataframe tbody tr th:only-of-type {\n",
              "        vertical-align: middle;\n",
              "    }\n",
              "\n",
              "    .dataframe tbody tr th {\n",
              "        vertical-align: top;\n",
              "    }\n",
              "\n",
              "    .dataframe thead th {\n",
              "        text-align: right;\n",
              "    }\n",
              "</style>\n",
              "<table border=\"1\" class=\"dataframe\">\n",
              "  <thead>\n",
              "    <tr style=\"text-align: right;\">\n",
              "      <th></th>\n",
              "      <th>age</th>\n",
              "      <th>size</th>\n",
              "    </tr>\n",
              "  </thead>\n",
              "  <tbody>\n",
              "    <tr>\n",
              "      <th>0</th>\n",
              "      <td>28.0</td>\n",
              "      <td>XL</td>\n",
              "    </tr>\n",
              "    <tr>\n",
              "      <th>1</th>\n",
              "      <td>36.0</td>\n",
              "      <td>L</td>\n",
              "    </tr>\n",
              "    <tr>\n",
              "      <th>2</th>\n",
              "      <td>34.0</td>\n",
              "      <td>M</td>\n",
              "    </tr>\n",
              "    <tr>\n",
              "      <th>3</th>\n",
              "      <td>27.0</td>\n",
              "      <td>L</td>\n",
              "    </tr>\n",
              "    <tr>\n",
              "      <th>4</th>\n",
              "      <td>45.0</td>\n",
              "      <td>M</td>\n",
              "    </tr>\n",
              "    <tr>\n",
              "      <th>5</th>\n",
              "      <td>27.0</td>\n",
              "      <td>S</td>\n",
              "    </tr>\n",
              "    <tr>\n",
              "      <th>6</th>\n",
              "      <td>65.0</td>\n",
              "      <td>M</td>\n",
              "    </tr>\n",
              "    <tr>\n",
              "      <th>7</th>\n",
              "      <td>33.0</td>\n",
              "      <td>XXS</td>\n",
              "    </tr>\n",
              "    <tr>\n",
              "      <th>8</th>\n",
              "      <td>26.0</td>\n",
              "      <td>M</td>\n",
              "    </tr>\n",
              "    <tr>\n",
              "      <th>9</th>\n",
              "      <td>32.0</td>\n",
              "      <td>S</td>\n",
              "    </tr>\n",
              "    <tr>\n",
              "      <th>10</th>\n",
              "      <td>30.0</td>\n",
              "      <td>XXXL</td>\n",
              "    </tr>\n",
              "  </tbody>\n",
              "</table>\n",
              "</div>"
            ],
            "text/plain": [
              "     age  size\n",
              "0   28.0    XL\n",
              "1   36.0     L\n",
              "2   34.0     M\n",
              "3   27.0     L\n",
              "4   45.0     M\n",
              "5   27.0     S\n",
              "6   65.0     M\n",
              "7   33.0   XXS\n",
              "8   26.0     M\n",
              "9   32.0     S\n",
              "10  30.0  XXXL"
            ]
          },
          "metadata": {},
          "execution_count": 25
        }
      ]
    },
    {
      "cell_type": "markdown",
      "metadata": {
        "id": "w4-MCh5YJxdH"
      },
      "source": [
        "# Penggunaan Library Matplotlib"
      ]
    },
    {
      "cell_type": "markdown",
      "metadata": {
        "id": "DwIfOw-_JxdH"
      },
      "source": [
        "# Latihan (13)\n",
        "\n",
        "Lakukan import Library Matplotlib"
      ]
    },
    {
      "cell_type": "code",
      "metadata": {
        "id": "b3FVzxESJxdH"
      },
      "source": [
        "#Latihan(13)\n",
        "#Import Library Matplotlib\n",
        "\n",
        "import matplotlib.pyplot as plt"
      ],
      "execution_count": 26,
      "outputs": []
    },
    {
      "cell_type": "markdown",
      "metadata": {
        "id": "aHwgAlLUJxdI"
      },
      "source": [
        "# Latihan (14)\n",
        "\n",
        "Buatlah visualisasi dalam bentuk histogram pada data \"cloth_data\" untuk kolom size"
      ]
    },
    {
      "cell_type": "code",
      "metadata": {
        "id": "3ofuZdJFJxdI",
        "colab": {
          "base_uri": "https://localhost:8080/",
          "height": 265
        },
        "outputId": "aec25351-ac29-49ff-b8e1-d3fd75c1d030"
      },
      "source": [
        "#Latihan(14)\n",
        "#Buat histogram untuk kolom size\n",
        "\n",
        "ax = plt.gca()\n",
        "df.plot(kind='hist', x='size', ax=ax)\n",
        "plt.show()"
      ],
      "execution_count": 55,
      "outputs": [
        {
          "output_type": "display_data",
          "data": {
            "image/png": "[encoded data removed]",
            "text/plain": [
              "<Figure size 432x288 with 1 Axes>"
            ]
          },
          "metadata": {
            "needs_background": "light"
          }
        }
      ]
    },
    {
      "cell_type": "markdown",
      "metadata": {
        "id": "GZEzXmEgJxdI"
      },
      "source": [
        "# Latihan (15)\n",
        "\n",
        "Buatlah visualisasi dalam bentuk grafik (plot) pada data \"cloth_data\" untuk kolom age dan kolom size"
      ]
    },
    {
      "cell_type": "code",
      "metadata": {
        "id": "wInnfhT1JxdI",
        "colab": {
          "base_uri": "https://localhost:8080/",
          "height": 279
        },
        "outputId": "fd40a2ec-7013-4e61-8346-3e094db0e6f0"
      },
      "source": [
        "#Latihan(15)\n",
        "#Visualisasi dalam bentuk grafik (plot) pada data \"cloth_data\" untuk kolom age dan kolom size\n",
        "\n",
        "ax = plt.gca()\n",
        "df.plot(kind='line',x='size',y='age',ax=ax)\n",
        "plt.show()"
      ],
      "execution_count": 46,
      "outputs": [
        {
          "output_type": "display_data",
          "data": {
            "image/png": "[encoded data removed]",
            "text/plain": [
              "<Figure size 432x288 with 1 Axes>"
            ]
          },
          "metadata": {
            "needs_background": "light"
          }
        }
      ]
    },
    {
      "cell_type": "markdown",
      "metadata": {
        "id": "HkXTn8GgJxdJ"
      },
      "source": [
        "# Latihan (16)\n",
        "\n",
        "Buatlah visualisasi dalam bentuk grafik (plot) pada data \"cloth_data\" untuk kolom size dan kolom age"
      ]
    },
    {
      "cell_type": "code",
      "metadata": {
        "id": "I7IioF8lJxdJ",
        "colab": {
          "base_uri": "https://localhost:8080/",
          "height": 279
        },
        "outputId": "b4ea8630-da83-4c1b-d9e3-dfb3690bce98"
      },
      "source": [
        "#Latihan(16)\n",
        "#Visualisasi dalam bentuk grafik (plot) pada data \"cloth_data\" untuk kolom size dan kolom age\n",
        "\n",
        "ax = plt.gca()\n",
        "df.plot(kind='line',x='size',y='age',ax=ax)\n",
        "plt.show()"
      ],
      "execution_count": 44,
      "outputs": [
        {
          "output_type": "display_data",
          "data": {
            "image/png": "[encoded data removed]",
            "text/plain": [
              "<Figure size 432x288 with 1 Axes>"
            ]
          },
          "metadata": {
            "needs_background": "light"
          }
        }
      ]
    },
    {
      "cell_type": "markdown",
      "metadata": {
        "id": "qXf-BY9jJxdJ"
      },
      "source": [
        "# Latihan (17)\n",
        "\n",
        "Import library seaborn"
      ]
    },
    {
      "cell_type": "code",
      "metadata": {
        "id": "AY2XgxNGJxdJ"
      },
      "source": [
        "#Latihan(17)\n",
        "#Import library seaborn\n",
        "\n",
        "import seaborn as sb"
      ],
      "execution_count": 56,
      "outputs": []
    },
    {
      "cell_type": "markdown",
      "metadata": {
        "id": "dqJCaOBEJxdJ"
      },
      "source": [
        "# Latihan (18)\n",
        "\n",
        "Buatlah visualisasi dalam bentuk scatterplot pada data \"cloth_data\" untuk kolom age dan kolom size"
      ]
    },
    {
      "cell_type": "code",
      "metadata": {
        "id": "TgwzmCnjJxdJ",
        "colab": {
          "base_uri": "https://localhost:8080/",
          "height": 458
        },
        "outputId": "38691a63-3949-443b-92a2-3b11ecc9c17a"
      },
      "source": [
        "#latihan(18)\n",
        "#Buat scatterplot dengan kolom age dan size\n",
        "\n",
        "sb.jointplot(x = df['age'], y = df['size'], kind = 'scatter')"
      ],
      "execution_count": 57,
      "outputs": [
        {
          "output_type": "execute_result",
          "data": {
            "text/plain": [
              "<seaborn.axisgrid.JointGrid at 0x7f99b83a6b10>"
            ]
          },
          "metadata": {},
          "execution_count": 57
        },
        {
          "output_type": "display_data",
          "data": {
            "image/png": "[encoded data removed]",
            "text/plain": [
              "<Figure size 432x432 with 3 Axes>"
            ]
          },
          "metadata": {
            "needs_background": "light"
          }
        }
      ]
    },
    {
      "cell_type": "markdown",
      "metadata": {
        "id": "LXKtQ71SJxdK"
      },
      "source": [
        "# Latihan (19)\n",
        "\n",
        "Buatlah visualisasi dalam bentuk scatterplot pada data \"cloth_data\" untuk kolom size dan kolom age"
      ]
    },
    {
      "cell_type": "code",
      "metadata": {
        "id": "Txh8C-95JxdK",
        "colab": {
          "base_uri": "https://localhost:8080/",
          "height": 458
        },
        "outputId": "2f930fe1-5482-4730-c0d5-6f155ba1707a"
      },
      "source": [
        "#latihan(19)\n",
        "#Buat scatterplot dengan kolom size dan age\n",
        "\n",
        "sb.jointplot(x = df['size'], y = df['age'], kind = 'scatter')"
      ],
      "execution_count": 58,
      "outputs": [
        {
          "output_type": "execute_result",
          "data": {
            "text/plain": [
              "<seaborn.axisgrid.JointGrid at 0x7f99ae7c3310>"
            ]
          },
          "metadata": {},
          "execution_count": 58
        },
        {
          "output_type": "display_data",
          "data": {
            "image/png": "[encoded data removed]",
            "text/plain": [
              "<Figure size 432x432 with 3 Axes>"
            ]
          },
          "metadata": {
            "needs_background": "light"
          }
        }
      ]
    },
    {
      "cell_type": "markdown",
      "metadata": {
        "id": "kWx7s2vpJxdK"
      },
      "source": [
        "# Latihan (20)\n",
        "\n",
        "Buatlah visualisasi dalam bentuk histogram pada data \"cloth_data\" untuk kolom age"
      ]
    },
    {
      "cell_type": "code",
      "metadata": {
        "id": "XFiEaFctJxdK",
        "colab": {
          "base_uri": "https://localhost:8080/",
          "height": 339
        },
        "outputId": "e0fa0b9f-84db-494d-c036-16d53b08ae94"
      },
      "source": [
        "#Latihan(20)\n",
        "#Buat histogram untuk kolom size\n",
        "\n",
        "sb.distplot(x = df['age'], bins = 10)"
      ],
      "execution_count": 59,
      "outputs": [
        {
          "output_type": "stream",
          "name": "stderr",
          "text": [
            "/usr/local/lib/python3.7/dist-packages/seaborn/distributions.py:2619: FutureWarning: `distplot` is a deprecated function and will be removed in a future version. Please adapt your code to use either `displot` (a figure-level function with similar flexibility) or `histplot` (an axes-level function for histograms).\n",
            "  warnings.warn(msg, FutureWarning)\n"
          ]
        },
        {
          "output_type": "execute_result",
          "data": {
            "text/plain": [
              "<matplotlib.axes._subplots.AxesSubplot at 0x7f99ae686190>"
            ]
          },
          "metadata": {},
          "execution_count": 59
        },
        {
          "output_type": "display_data",
          "data": {
            "image/png": "[encoded data removed]",
            "text/plain": [
              "<Figure size 432x288 with 1 Axes>"
            ]
          },
          "metadata": {
            "needs_background": "light"
          }
        }
      ]
    }
  ]
}
