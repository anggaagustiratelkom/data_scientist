{
  "nbformat": 4,
  "nbformat_minor": 0,
  "metadata": {
    "kernelspec": {
      "display_name": "Python 3",
      "language": "python",
      "name": "python3"
    },
    "language_info": {
      "codemirror_mode": {
        "name": "ipython",
        "version": 3
      },
      "file_extension": ".py",
      "mimetype": "text/x-python",
      "name": "python",
      "nbconvert_exporter": "python",
      "pygments_lexer": "ipython3",
      "version": "3.8.8"
    },
    "colab": {
      "name": "Pertemuan 4_Contoh Kasus_Microcredential_Angga Agustira.ipynb",
      "provenance": [],
      "include_colab_link": true
    }
  },
  "cells": [
    {
      "cell_type": "markdown",
      "metadata": {
        "id": "view-in-github",
        "colab_type": "text"
      },
      "source": [
        "<a href=\"https://colab.research.google.com/github/anggaagustiratelkom/data_scientist/blob/TugasPertemuan4/Pertemuan_4_Contoh_Kasus_Microcredential_Angga_Agustira.ipynb\" target=\"_parent\"><img src=\"https://colab.research.google.com/assets/colab-badge.svg\" alt=\"Open In Colab\"/></a>"
      ]
    },
    {
      "cell_type": "markdown",
      "metadata": {
        "id": "zKxsBYpsTqWt"
      },
      "source": [
        "![header%20ipynb.png](attachment:header%20ipynb.png)"
      ]
    },
    {
      "cell_type": "markdown",
      "metadata": {
        "id": "zCmbk2X0TqW0"
      },
      "source": [
        "# Hands-On\n",
        "Hands-On ini digunakan pada kegiatan Microcredential Associate Data Scientist 2021"
      ]
    },
    {
      "cell_type": "markdown",
      "metadata": {
        "id": "Rxx3_yAeTqW1"
      },
      "source": [
        "## Memulai Python!"
      ]
    },
    {
      "cell_type": "markdown",
      "metadata": {
        "id": "YH6JrwurTqW2"
      },
      "source": [
        "Dapat menuliskan keterangan kode menggunakan _Markdown_"
      ]
    },
    {
      "cell_type": "code",
      "metadata": {
        "colab": {
          "base_uri": "https://localhost:8080/"
        },
        "id": "3F2y-G_3TqW2",
        "outputId": "1f52bf65-de82-4a02-b844-d055d555e31f"
      },
      "source": [
        "print(\"Hello world!\")   # mode skrip"
      ],
      "execution_count": 1,
      "outputs": [
        {
          "output_type": "stream",
          "name": "stdout",
          "text": [
            "Hello world!\n"
          ]
        }
      ]
    },
    {
      "cell_type": "code",
      "metadata": {
        "id": "jQwR6eZeTqW4"
      },
      "source": [
        "height = 1.84"
      ],
      "execution_count": 2,
      "outputs": []
    },
    {
      "cell_type": "code",
      "metadata": {
        "id": "lz4931NbTqW5"
      },
      "source": [
        "tall = True"
      ],
      "execution_count": 3,
      "outputs": []
    },
    {
      "cell_type": "code",
      "metadata": {
        "id": "axI1mzyPTqW6"
      },
      "source": [
        "height1 = 1.84"
      ],
      "execution_count": 4,
      "outputs": []
    },
    {
      "cell_type": "code",
      "metadata": {
        "id": "T3cD7rt_TqW6"
      },
      "source": [
        "height2 = 1.79"
      ],
      "execution_count": 5,
      "outputs": []
    },
    {
      "cell_type": "code",
      "metadata": {
        "id": "gyOJVMJmTqW7"
      },
      "source": [
        "height3 = 1.82"
      ],
      "execution_count": 6,
      "outputs": []
    },
    {
      "cell_type": "code",
      "metadata": {
        "id": "kL1q1f8RTqW8"
      },
      "source": [
        "height4 = 1.90"
      ],
      "execution_count": 7,
      "outputs": []
    },
    {
      "cell_type": "markdown",
      "metadata": {
        "id": "kbgfBfZDTqW8"
      },
      "source": [
        "<b>Masalah</b> : \n",
        "- Terlalu banyak data masukan untuk tipe data yang sama\n",
        "- Tidak nyaman\n",
        "- Solusi: Python List\n"
      ]
    },
    {
      "cell_type": "code",
      "metadata": {
        "colab": {
          "base_uri": "https://localhost:8080/"
        },
        "id": "7QtU69F-TqW9",
        "outputId": "2cecaf23-f8de-419a-d0d5-e567e419bc09"
      },
      "source": [
        "[1.84, 1.79, 1.82, 1.90, 1.80]\n"
      ],
      "execution_count": 8,
      "outputs": [
        {
          "output_type": "execute_result",
          "data": {
            "text/plain": [
              "[1.84, 1.79, 1.82, 1.9, 1.8]"
            ]
          },
          "metadata": {},
          "execution_count": 8
        }
      ]
    },
    {
      "cell_type": "code",
      "metadata": {
        "id": "xl22s9kCTqW9"
      },
      "source": [
        "height = [1.84, 1.79, 1.82, 1.90, 1.80]"
      ],
      "execution_count": 9,
      "outputs": []
    },
    {
      "cell_type": "code",
      "metadata": {
        "colab": {
          "base_uri": "https://localhost:8080/"
        },
        "id": "glCEUpVCTqW-",
        "outputId": "8cb4cd46-0fc0-45f8-ad76-aa1925748bbc"
      },
      "source": [
        "height"
      ],
      "execution_count": 10,
      "outputs": [
        {
          "output_type": "execute_result",
          "data": {
            "text/plain": [
              "[1.84, 1.79, 1.82, 1.9, 1.8]"
            ]
          },
          "metadata": {},
          "execution_count": 10
        }
      ]
    },
    {
      "cell_type": "code",
      "metadata": {
        "id": "oKQROTpJTqW-"
      },
      "source": [
        "famz = [\"Abe\", 1.84, \"Beb\", 1.79, \"Cory\", 1.82, \"Dad\", 1.90]\n"
      ],
      "execution_count": 11,
      "outputs": []
    },
    {
      "cell_type": "code",
      "metadata": {
        "colab": {
          "base_uri": "https://localhost:8080/"
        },
        "id": "-FtVVJRuTqW-",
        "outputId": "e71fa55a-9441-4541-fbfd-a66cbf2ed569"
      },
      "source": [
        "famz"
      ],
      "execution_count": 12,
      "outputs": [
        {
          "output_type": "execute_result",
          "data": {
            "text/plain": [
              "['Abe', 1.84, 'Beb', 1.79, 'Cory', 1.82, 'Dad', 1.9]"
            ]
          },
          "metadata": {},
          "execution_count": 12
        }
      ]
    },
    {
      "cell_type": "code",
      "metadata": {
        "id": "VVw5OAelTqW_"
      },
      "source": [
        "weight = [66.5, 60.3, 64.7, 89.5, 69.8] "
      ],
      "execution_count": 13,
      "outputs": []
    },
    {
      "cell_type": "code",
      "metadata": {
        "colab": {
          "base_uri": "https://localhost:8080/"
        },
        "id": "d9nv0AXOTqW_",
        "outputId": "e38ddcbc-b608-4352-82c6-5b9f3719ca5b"
      },
      "source": [
        "weight"
      ],
      "execution_count": 14,
      "outputs": [
        {
          "output_type": "execute_result",
          "data": {
            "text/plain": [
              "[66.5, 60.3, 64.7, 89.5, 69.8]"
            ]
          },
          "metadata": {},
          "execution_count": 14
        }
      ]
    },
    {
      "cell_type": "code",
      "metadata": {
        "colab": {
          "base_uri": "https://localhost:8080/",
          "height": 162
        },
        "id": "do6U0VxvTqXA",
        "outputId": "0c2e2760-fd6b-4ab6-b50e-4d367b14a45d"
      },
      "source": [
        "weight / (height)**2 "
      ],
      "execution_count": 15,
      "outputs": [
        {
          "output_type": "error",
          "ename": "TypeError",
          "evalue": "ignored",
          "traceback": [
            "\u001b[0;31m---------------------------------------------------------------------------\u001b[0m",
            "\u001b[0;31mTypeError\u001b[0m                                 Traceback (most recent call last)",
            "\u001b[0;32m<ipython-input-15-7dd674dd3b8e>\u001b[0m in \u001b[0;36m<module>\u001b[0;34m()\u001b[0m\n\u001b[0;32m----> 1\u001b[0;31m \u001b[0mweight\u001b[0m \u001b[0;34m/\u001b[0m \u001b[0;34m(\u001b[0m\u001b[0mheight\u001b[0m\u001b[0;34m)\u001b[0m\u001b[0;34m**\u001b[0m\u001b[0;36m2\u001b[0m\u001b[0;34m\u001b[0m\u001b[0;34m\u001b[0m\u001b[0m\n\u001b[0m",
            "\u001b[0;31mTypeError\u001b[0m: unsupported operand type(s) for ** or pow(): 'list' and 'int'"
          ]
        }
      ]
    },
    {
      "cell_type": "markdown",
      "metadata": {
        "id": "--jf9khOTqXA"
      },
      "source": [
        "### Solusi: NumPy \n",
        "- Library dasar untuk perhitungan saintifik (scientific computing) dengan Python (https://numpy.org/)\n",
        "- Alternatif untuk Python List: Numpy Array untuk n-dimensi\n",
        "- Mudah digunakan dan bersifat open source\n",
        "- Jika library belum terpasang, tuliskan perintah instalasi: _pip install numpy_\n",
        "- Kemudian impor: _import numpy as np_\n"
      ]
    },
    {
      "cell_type": "code",
      "metadata": {
        "id": "ygl9ONqFTqXA"
      },
      "source": [
        "import numpy as np"
      ],
      "execution_count": 23,
      "outputs": []
    },
    {
      "cell_type": "code",
      "metadata": {
        "id": "S62RUajPTqXB"
      },
      "source": [
        "np_height = np.array(height)"
      ],
      "execution_count": 24,
      "outputs": []
    },
    {
      "cell_type": "code",
      "metadata": {
        "colab": {
          "base_uri": "https://localhost:8080/"
        },
        "id": "UJ2-KSSHTqXB",
        "outputId": "71bc5fcf-524c-4d38-ff32-4651c547f41c"
      },
      "source": [
        "np_height "
      ],
      "execution_count": 25,
      "outputs": [
        {
          "output_type": "execute_result",
          "data": {
            "text/plain": [
              "array([1.84, 1.79, 1.82, 1.9 , 1.8 ])"
            ]
          },
          "metadata": {},
          "execution_count": 25
        }
      ]
    },
    {
      "cell_type": "code",
      "metadata": {
        "id": "ke7kwUO_TqXB"
      },
      "source": [
        "np_weight = np.array(weight)"
      ],
      "execution_count": 26,
      "outputs": []
    },
    {
      "cell_type": "code",
      "metadata": {
        "colab": {
          "base_uri": "https://localhost:8080/"
        },
        "id": "3lgU8JrmTqXB",
        "outputId": "b4a9401c-fed4-4897-be84-10022c7f05fa"
      },
      "source": [
        "np_weight"
      ],
      "execution_count": 27,
      "outputs": [
        {
          "output_type": "execute_result",
          "data": {
            "text/plain": [
              "array([66.5, 60.3, 64.7, 89.5, 69.8])"
            ]
          },
          "metadata": {},
          "execution_count": 27
        }
      ]
    },
    {
      "cell_type": "code",
      "metadata": {
        "id": "qujWVkENTqXC"
      },
      "source": [
        "bmi = np_weight / np_height ** 2"
      ],
      "execution_count": 28,
      "outputs": []
    },
    {
      "cell_type": "code",
      "metadata": {
        "colab": {
          "base_uri": "https://localhost:8080/"
        },
        "id": "XagSspaGTqXC",
        "outputId": "9239b660-0260-4767-de14-852758bc5abc"
      },
      "source": [
        "bmi"
      ],
      "execution_count": 29,
      "outputs": [
        {
          "output_type": "execute_result",
          "data": {
            "text/plain": [
              "array([19.64201323, 18.81963734, 19.53266514, 24.79224377, 21.54320988])"
            ]
          },
          "metadata": {},
          "execution_count": 29
        }
      ]
    },
    {
      "cell_type": "markdown",
      "metadata": {
        "id": "3DcDj7GDTqXC"
      },
      "source": [
        "Untuk melihat fungsi lain pada NumPy, gunakan perintah _np.< TAB >_"
      ]
    },
    {
      "cell_type": "code",
      "metadata": {
        "colab": {
          "base_uri": "https://localhost:8080/",
          "height": 128
        },
        "id": "K4M-soSQTqXD",
        "outputId": "54e57d80-8eff-4e5e-aa7c-e85389b3a0b5"
      },
      "source": [
        "np."
      ],
      "execution_count": 30,
      "outputs": [
        {
          "output_type": "error",
          "ename": "SyntaxError",
          "evalue": "ignored",
          "traceback": [
            "\u001b[0;36m  File \u001b[0;32m\"<ipython-input-30-df0eca0bfa5c>\"\u001b[0;36m, line \u001b[0;32m1\u001b[0m\n\u001b[0;31m    np.\u001b[0m\n\u001b[0m       ^\u001b[0m\n\u001b[0;31mSyntaxError\u001b[0m\u001b[0;31m:\u001b[0m invalid syntax\n"
          ]
        }
      ]
    },
    {
      "cell_type": "code",
      "metadata": {
        "id": "UNOLKvlsTqXD"
      },
      "source": [
        "np_height = np.array([1.84, 1.79, 1.82, 1.9, 1.8])"
      ],
      "execution_count": 31,
      "outputs": []
    },
    {
      "cell_type": "code",
      "metadata": {
        "id": "OHSYK8kFTqXD"
      },
      "source": [
        "np_weight = np.array([66.5, 60.3, 64.7, 89.5, 69.8])"
      ],
      "execution_count": 32,
      "outputs": []
    },
    {
      "cell_type": "code",
      "metadata": {
        "id": "RJIyh1wKTqXD",
        "colab": {
          "base_uri": "https://localhost:8080/"
        },
        "outputId": "e081189f-c47b-4f8c-e56e-ce30984e186f"
      },
      "source": [
        "type(np_height)"
      ],
      "execution_count": 33,
      "outputs": [
        {
          "output_type": "execute_result",
          "data": {
            "text/plain": [
              "numpy.ndarray"
            ]
          },
          "metadata": {},
          "execution_count": 33
        }
      ]
    },
    {
      "cell_type": "code",
      "metadata": {
        "id": "iULXp6ABTqXD",
        "colab": {
          "base_uri": "https://localhost:8080/"
        },
        "outputId": "eb5cb2ab-e55a-4d32-dab3-7b3673222567"
      },
      "source": [
        "type(np_weight)"
      ],
      "execution_count": 34,
      "outputs": [
        {
          "output_type": "execute_result",
          "data": {
            "text/plain": [
              "numpy.ndarray"
            ]
          },
          "metadata": {},
          "execution_count": 34
        }
      ]
    },
    {
      "cell_type": "code",
      "metadata": {
        "id": "8vuQwRWGTqXE"
      },
      "source": [
        "np_2d = np.array([[1, 2, 3, 4, 5], [6, 7, 8, 9, 10]])"
      ],
      "execution_count": 35,
      "outputs": []
    },
    {
      "cell_type": "code",
      "metadata": {
        "id": "mjfJ6M3aTqXE",
        "colab": {
          "base_uri": "https://localhost:8080/"
        },
        "outputId": "d24c3dba-ab69-44a5-887a-2ead93f838a6"
      },
      "source": [
        "np_2d"
      ],
      "execution_count": 36,
      "outputs": [
        {
          "output_type": "execute_result",
          "data": {
            "text/plain": [
              "array([[ 1,  2,  3,  4,  5],\n",
              "       [ 6,  7,  8,  9, 10]])"
            ]
          },
          "metadata": {},
          "execution_count": 36
        }
      ]
    },
    {
      "cell_type": "code",
      "metadata": {
        "id": "SzcA0kofTqXG",
        "colab": {
          "base_uri": "https://localhost:8080/"
        },
        "outputId": "283e3d60-1d87-4f7b-aa3b-aec79fdf85a3"
      },
      "source": [
        "np_2d.shape"
      ],
      "execution_count": 37,
      "outputs": [
        {
          "output_type": "execute_result",
          "data": {
            "text/plain": [
              "(2, 5)"
            ]
          },
          "metadata": {},
          "execution_count": 37
        }
      ]
    },
    {
      "cell_type": "markdown",
      "metadata": {
        "id": "q7QZ22lMTqXG"
      },
      "source": [
        "### SciPy\n",
        "\n",
        "- SciPy (dibaca “Sigh Pie”) merupakan library yang bersifat open source dan tersedia di https://www.scipy.org/ \n",
        "- SciPy dibangun untuk untuk bekerja dengan NumPy array dan menyediakan kumpulan algoritma numerik, termasuk pemrosesan sinyal, optimasi, statistika, dan library Matplotlib untuk visualisasi data. \n",
        "- Jika library belum terpasang, tuliskan perintah instalasi: _pip install scipy_"
      ]
    },
    {
      "cell_type": "markdown",
      "metadata": {
        "id": "3kkZNJI4TqXG"
      },
      "source": [
        "### Pandas\n",
        "\n",
        "- Pandas (Panel Data) merupakan library popular di Python yang digunakan untuk data structure dan data analysis\n",
        "- Bersifat open source dan tersedia di https://pandas.pydata.org/ \n",
        "- Pandas sangat berkaitan dengan NumPy\n",
        "- Jika library belum terpasang, tuliskan perintah instalasi: _pip install pandas_\n",
        "- Kemudian impor: _import pandas as pd_"
      ]
    },
    {
      "cell_type": "code",
      "metadata": {
        "colab": {
          "base_uri": "https://localhost:8080/"
        },
        "id": "maZCya72TqXH",
        "outputId": "8817af37-a9d3-46d2-877a-51da3b2e0ebd"
      },
      "source": [
        "#  series\n",
        "np.array([1, 2, 3, 4, 5])"
      ],
      "execution_count": 38,
      "outputs": [
        {
          "output_type": "execute_result",
          "data": {
            "text/plain": [
              "array([1, 2, 3, 4, 5])"
            ]
          },
          "metadata": {},
          "execution_count": 38
        }
      ]
    },
    {
      "cell_type": "code",
      "metadata": {
        "id": "0KevJNejTqXH",
        "colab": {
          "base_uri": "https://localhost:8080/"
        },
        "outputId": "4ead4519-7ccd-4e8e-8335-5a1063ffe860"
      },
      "source": [
        "# DataFrame\n",
        "np.array([[1, 2], [3, 4]])"
      ],
      "execution_count": 39,
      "outputs": [
        {
          "output_type": "execute_result",
          "data": {
            "text/plain": [
              "array([[1, 2],\n",
              "       [3, 4]])"
            ]
          },
          "metadata": {},
          "execution_count": 39
        }
      ]
    },
    {
      "cell_type": "code",
      "metadata": {
        "id": "wP19v3SqTqXH"
      },
      "source": [
        "import pandas as pd"
      ],
      "execution_count": 40,
      "outputs": []
    },
    {
      "cell_type": "code",
      "metadata": {
        "id": "J2kBn1_eTqXH"
      },
      "source": [
        "url = 'https://raw.githubusercontent.com/anggaagustiratelkom/data_scientist/TugasPertemuan4/Tab.csv'\n",
        "Tab = pd.read_csv(url)"
      ],
      "execution_count": 47,
      "outputs": []
    },
    {
      "cell_type": "code",
      "metadata": {
        "id": "bLN2-b2rTqXI",
        "colab": {
          "base_uri": "https://localhost:8080/",
          "height": 203
        },
        "outputId": "33a3df1e-83fc-401e-cfbe-11623a8edd72"
      },
      "source": [
        "Tab"
      ],
      "execution_count": 49,
      "outputs": [
        {
          "output_type": "execute_result",
          "data": {
            "text/html": [
              "<div>\n",
              "<style scoped>\n",
              "    .dataframe tbody tr th:only-of-type {\n",
              "        vertical-align: middle;\n",
              "    }\n",
              "\n",
              "    .dataframe tbody tr th {\n",
              "        vertical-align: top;\n",
              "    }\n",
              "\n",
              "    .dataframe thead th {\n",
              "        text-align: right;\n",
              "    }\n",
              "</style>\n",
              "<table border=\"1\" class=\"dataframe\">\n",
              "  <thead>\n",
              "    <tr style=\"text-align: right;\">\n",
              "      <th></th>\n",
              "      <th>Unnamed: 0</th>\n",
              "      <th>Negara</th>\n",
              "      <th>Populasi</th>\n",
              "      <th>Area</th>\n",
              "      <th>Ibukota</th>\n",
              "    </tr>\n",
              "  </thead>\n",
              "  <tbody>\n",
              "    <tr>\n",
              "      <th>0</th>\n",
              "      <td>IN</td>\n",
              "      <td>Indonesia</td>\n",
              "      <td>250</td>\n",
              "      <td>123456</td>\n",
              "      <td>Jakarta</td>\n",
              "    </tr>\n",
              "    <tr>\n",
              "      <th>1</th>\n",
              "      <td>MA</td>\n",
              "      <td>Malaysia</td>\n",
              "      <td>25</td>\n",
              "      <td>3456</td>\n",
              "      <td>KL</td>\n",
              "    </tr>\n",
              "    <tr>\n",
              "      <th>2</th>\n",
              "      <td>SI</td>\n",
              "      <td>Singapura</td>\n",
              "      <td>15</td>\n",
              "      <td>456</td>\n",
              "      <td>Singapura</td>\n",
              "    </tr>\n",
              "    <tr>\n",
              "      <th>3</th>\n",
              "      <td>JP</td>\n",
              "      <td>Jepang</td>\n",
              "      <td>60</td>\n",
              "      <td>5678</td>\n",
              "      <td>Tokyo</td>\n",
              "    </tr>\n",
              "    <tr>\n",
              "      <th>4</th>\n",
              "      <td>TH</td>\n",
              "      <td>Thailand</td>\n",
              "      <td>45</td>\n",
              "      <td>678</td>\n",
              "      <td>Bangkok</td>\n",
              "    </tr>\n",
              "  </tbody>\n",
              "</table>\n",
              "</div>"
            ],
            "text/plain": [
              "  Unnamed: 0     Negara  Populasi    Area    Ibukota\n",
              "0         IN  Indonesia       250  123456    Jakarta\n",
              "1         MA   Malaysia        25    3456         KL\n",
              "2         SI  Singapura        15     456  Singapura\n",
              "3         JP     Jepang        60    5678      Tokyo\n",
              "4         TH   Thailand        45     678    Bangkok"
            ]
          },
          "metadata": {},
          "execution_count": 49
        }
      ]
    },
    {
      "cell_type": "code",
      "metadata": {
        "id": "lY9XRTRbTqXI",
        "colab": {
          "base_uri": "https://localhost:8080/"
        },
        "outputId": "bcac5af1-9929-43e6-9345-46f354b84e9d"
      },
      "source": [
        "Tab[\"Negara\"]"
      ],
      "execution_count": 50,
      "outputs": [
        {
          "output_type": "execute_result",
          "data": {
            "text/plain": [
              "0    Indonesia\n",
              "1     Malaysia\n",
              "2    Singapura\n",
              "3       Jepang\n",
              "4     Thailand\n",
              "Name: Negara, dtype: object"
            ]
          },
          "metadata": {},
          "execution_count": 50
        }
      ]
    },
    {
      "cell_type": "code",
      "metadata": {
        "id": "VaiaqLkdTqXI",
        "colab": {
          "base_uri": "https://localhost:8080/"
        },
        "outputId": "aac38f8d-8ebe-4757-936d-c20b16dac768"
      },
      "source": [
        "Tab.Ibukota"
      ],
      "execution_count": 51,
      "outputs": [
        {
          "output_type": "execute_result",
          "data": {
            "text/plain": [
              "0      Jakarta\n",
              "1           KL\n",
              "2    Singapura\n",
              "3        Tokyo\n",
              "4      Bangkok\n",
              "Name: Ibukota, dtype: object"
            ]
          },
          "metadata": {},
          "execution_count": 51
        }
      ]
    },
    {
      "cell_type": "markdown",
      "metadata": {
        "id": "oXUA1UU-TqXI"
      },
      "source": [
        "### Matplotlib\n",
        "\n",
        "- Matplotlib adalah library Python untuk visualisasi data dengan dua dimensi\n",
        "- Bersifat open source dan tersedia di https://matplotlib.org/ \n",
        "- Matplotlib berkaitan dengan NumPy dan Pandas\n",
        "- Jika library belum terpasang, tuliskan perintah instalasi: _pip install matplotlib_\n",
        "- Kemudian impor: _import matplotlib.pyplot as plt_"
      ]
    },
    {
      "cell_type": "code",
      "metadata": {
        "id": "D3eg8-MXTqXI"
      },
      "source": [
        "import matplotlib.pyplot as plt"
      ],
      "execution_count": 16,
      "outputs": []
    },
    {
      "cell_type": "code",
      "metadata": {
        "id": "J5WifEW7TqXJ"
      },
      "source": [
        "year = [1980, 1990, 2000, 2010, 2020]"
      ],
      "execution_count": 17,
      "outputs": []
    },
    {
      "cell_type": "code",
      "metadata": {
        "id": "7GpZ7CYKTqXJ"
      },
      "source": [
        "price = [2.5, 7.6, 9.7, 15.8, 22.9]"
      ],
      "execution_count": 18,
      "outputs": []
    },
    {
      "cell_type": "code",
      "metadata": {
        "id": "yJKPDvpjTqXJ",
        "colab": {
          "base_uri": "https://localhost:8080/",
          "height": 265
        },
        "outputId": "16b4d043-084d-42e0-a137-d3ffc23eb346"
      },
      "source": [
        "plt.plot(year, price)\n",
        "plt.show()"
      ],
      "execution_count": 19,
      "outputs": [
        {
          "output_type": "display_data",
          "data": {
            "image/png": "[encoded data removed]",
            "text/plain": [
              "<Figure size 432x288 with 1 Axes>"
            ]
          },
          "metadata": {
            "needs_background": "light"
          }
        }
      ]
    },
    {
      "cell_type": "code",
      "metadata": {
        "id": "OYegd7noTqXJ",
        "colab": {
          "base_uri": "https://localhost:8080/",
          "height": 282
        },
        "outputId": "d5ce6f27-b33f-4ea4-f8d0-5a3ae0736025"
      },
      "source": [
        "plt.scatter(year,price)"
      ],
      "execution_count": 20,
      "outputs": [
        {
          "output_type": "execute_result",
          "data": {
            "text/plain": [
              "<matplotlib.collections.PathCollection at 0x7f9ff42e1a90>"
            ]
          },
          "metadata": {},
          "execution_count": 20
        },
        {
          "output_type": "display_data",
          "data": {
            "image/png": "[encoded data removed]",
            "text/plain": [
              "<Figure size 432x288 with 1 Axes>"
            ]
          },
          "metadata": {
            "needs_background": "light"
          }
        }
      ]
    },
    {
      "cell_type": "code",
      "metadata": {
        "id": "ocbuDpD0TqXJ",
        "colab": {
          "base_uri": "https://localhost:8080/",
          "height": 282
        },
        "outputId": "563ae338-cf5e-4e97-bda1-4d9e741485a1"
      },
      "source": [
        "plt.bar(year,price)"
      ],
      "execution_count": 21,
      "outputs": [
        {
          "output_type": "execute_result",
          "data": {
            "text/plain": [
              "<BarContainer object of 5 artists>"
            ]
          },
          "metadata": {},
          "execution_count": 21
        },
        {
          "output_type": "display_data",
          "data": {
            "image/png": "[encoded data removed]",
            "text/plain": [
              "<Figure size 432x288 with 1 Axes>"
            ]
          },
          "metadata": {
            "needs_background": "light"
          }
        }
      ]
    },
    {
      "cell_type": "code",
      "metadata": {
        "id": "etgY24ivTqXK"
      },
      "source": [
        ""
      ],
      "execution_count": 21,
      "outputs": []
    }
  ]
}