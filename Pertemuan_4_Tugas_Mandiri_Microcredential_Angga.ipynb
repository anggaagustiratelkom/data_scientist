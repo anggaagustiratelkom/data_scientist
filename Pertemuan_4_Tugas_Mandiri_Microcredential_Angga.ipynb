{
  "nbformat": 4,
  "nbformat_minor": 0,
  "metadata": {
    "kernelspec": {
      "display_name": "Python 3",
      "language": "python",
      "name": "python3"
    },
    "language_info": {
      "codemirror_mode": {
        "name": "ipython",
        "version": 3
      },
      "file_extension": ".py",
      "mimetype": "text/x-python",
      "name": "python",
      "nbconvert_exporter": "python",
      "pygments_lexer": "ipython3",
      "version": "3.8.8"
    },
    "colab": {
      "name": "Pertemuan 4_Tugas Mandiri_Microcredential_Angga.ipynb",
      "provenance": [],
      "include_colab_link": true
    }
  },
  "cells": [
    {
      "cell_type": "markdown",
      "metadata": {
        "id": "view-in-github",
        "colab_type": "text"
      },
      "source": [
        "<a href=\"https://colab.research.google.com/github/anggaagustiratelkom/data_scientist/blob/TugasPertemuan4/Pertemuan_4_Tugas_Mandiri_Microcredential_Angga.ipynb\" target=\"_parent\"><img src=\"https://colab.research.google.com/assets/colab-badge.svg\" alt=\"Open In Colab\"/></a>"
      ]
    },
    {
      "cell_type": "markdown",
      "metadata": {
        "id": "sTzLUweSJxcr"
      },
      "source": [
        "![header%20ipynb.png](attachment:header%20ipynb.png)"
      ]
    },
    {
      "cell_type": "markdown",
      "metadata": {
        "id": "faxhArXoJxcx"
      },
      "source": [
        "# Hands-On\n",
        "\n",
        "Hands-On ini digunakan pada kegiatan Microcredential Associate Data Scientist 2021"
      ]
    },
    {
      "cell_type": "markdown",
      "metadata": {
        "id": "g45Sg3tIJxcy"
      },
      "source": [
        "# Definisi Matriks\n",
        "\n",
        "Matriks dalam dunia metematika merupakan suatu bilangan, simbol, ataupun ekspresi yang disusun dalam baris dan kolom yang membentuk suatu bidang persegi/persegi panjang. Matriks memiliki ukuran/orde. Pada Python, matriks dapat dibuat sesuai kebutuhan dengan menentukan ukuran/orde dari matriks. Bentuk umum ukuran/orde matriks adalah mxn, m adalah banyak baris dan n adalah banyak kolom."
      ]
    },
    {
      "cell_type": "markdown",
      "metadata": {
        "id": "_ll_ZKlZJxcz"
      },
      "source": [
        "# Contoh Membuat Matriks Orde 2x2\n",
        "Berikut ini adalah syntax untuk membuat sebuah matriks yang diberi nama matriksA dengan ukuran/orde 2x2. Matriks orde 2x2 merupakan matriks yang memiliki nilai pada 2 baris dan 2 kolom. \n",
        "Pada contoh: \n",
        "matriksA memiliki:\n",
        "Baris 1 Kolom 1, nilai = 1\n",
        "Baris 1 Kolom 2, nilai = 0\n",
        "Baris 2 Kolom 1, nilai = 0\n",
        "Baris 2 Kolom 2, nilai = 1"
      ]
    },
    {
      "cell_type": "code",
      "metadata": {
        "colab": {
          "base_uri": "https://localhost:8080/"
        },
        "id": "YNgffmfxJxc0",
        "outputId": "477a4fd2-84ba-4af1-df82-7d2ed5964d97"
      },
      "source": [
        "#Matriks dengan ukuran 2x2\n",
        "matriksA = [ [1,0],[0,1] ]\n",
        "#Menampilkan matriks dengan nama matriksA\n",
        "print (matriksA)"
      ],
      "execution_count": null,
      "outputs": [
        {
          "output_type": "stream",
          "name": "stdout",
          "text": [
            "[[1, 0], [0, 1]]\n"
          ]
        }
      ]
    },
    {
      "cell_type": "markdown",
      "metadata": {
        "id": "ccmaeCrjJxc1"
      },
      "source": [
        "# Contoh Membuat Matriks Orde 3x3\n",
        "Berikut ini adalah syntax untuk membuat sebuah matriks yang diberi nama matriksB dengan ukuran/orde 3x3. Matriks orde 3x3 merupakan matriks yang memiliki nilai pada 3 baris dan 3 kolom. \n",
        "Pada contoh: \n",
        "matriksB memiliki:\n",
        "Baris 1 Kolom 1, nilai = 1\n",
        "Baris 1 Kolom 2, nilai = 0\n",
        "Baris 1 Kolom 3, nilai = 1\n",
        "Baris 2 Kolom 1, nilai = 0\n",
        "Baris 2 Kolom 2, nilai = 1\n",
        "Baris 2 Kolom 3, nilai = 0\n",
        "Baris 3 Kolom 1, nilai = 1\n",
        "Baris 3 Kolom 2, nilai = 0\n",
        "Baris 3 Kolom 3, nilai = 1"
      ]
    },
    {
      "cell_type": "code",
      "metadata": {
        "colab": {
          "base_uri": "https://localhost:8080/"
        },
        "id": "muECvDAVJxc2",
        "outputId": "b028f93d-ab61-4029-c025-9fb2641e2c9f"
      },
      "source": [
        "#Matriks dengan ukuran 3x3\n",
        "matriksB = [ [1,0,1],[0,1,0],[1,0,1] ]\n",
        "#Menampilkan matriks dengan nama MatriksB\n",
        "print (matriksB)"
      ],
      "execution_count": null,
      "outputs": [
        {
          "output_type": "stream",
          "name": "stdout",
          "text": [
            "[[1, 0, 1], [0, 1, 0], [1, 0, 1]]\n"
          ]
        }
      ]
    },
    {
      "cell_type": "markdown",
      "metadata": {
        "id": "sFoQvZOQJxc3"
      },
      "source": [
        "# Latihan (1)\n",
        "Buatlah matriksC dengan orde 2x3, dan nilai yang diberikan pada matriksC adalah sebagai berikut:\n",
        "Baris 1 Kolom 1, nilai = 1\n",
        "Baris 1 Kolom 2, nilai = 2\n",
        "Baris 1 Kolom 3, nilai = 3\n",
        "Baris 2 Kolom 1, nilai = 4\n",
        "Baris 2 Kolom 2, nilai = 5\n",
        "Baris 2 Kolom 3, nilai = 6"
      ]
    },
    {
      "cell_type": "code",
      "metadata": {
        "colab": {
          "base_uri": "https://localhost:8080/"
        },
        "id": "09dImbnWJxc4",
        "outputId": "4bbeafc3-d327-4d7f-f183-ca0e8a2e1c8e"
      },
      "source": [
        "#Latihan(1)\n",
        "#Matriks dengan ukuran 2x3\n",
        "matriksC = [ [1,2,3],[4,5,6] ]\n",
        "\n",
        "#Menampilkan matriks dengan nama MatriksC\n",
        "print (matriksC)"
      ],
      "execution_count": null,
      "outputs": [
        {
          "output_type": "stream",
          "name": "stdout",
          "text": [
            "[[1, 2, 3], [4, 5, 6]]\n"
          ]
        }
      ]
    },
    {
      "cell_type": "markdown",
      "metadata": {
        "id": "iyDzmgsJJxc5"
      },
      "source": [
        "# Membuat Matriks dengan Menggunakan Perulangan\n",
        "Matriks dapat juga dibuat dengan menggunakan fungsi perulangan.\n",
        "Fungsi perulangan atau biasa disebut looping atau iterasi memerlukan tes kondisi. Bila hasil tes kondisi True, maka blok kode kembali dieksekusi. Tapi jika False, maka keluar dari perulangan.\n",
        "Di python, perulangan bisa dilakukan dengan dua cara atau metode, yaitu: menggunakan For atau menggunakan While."
      ]
    },
    {
      "cell_type": "markdown",
      "metadata": {
        "id": "KE8NHy8pJxc5"
      },
      "source": [
        "# Contoh Membuat Matriks dengan Perulangan FOR\n",
        "Pada contoh berikut ini, dibuat matriks dengan menggunakan perulangan for. Matriks mempunyai orde mxn, yaitu: orde 2x3, dan nilai yang diberikan adalah:\n",
        "Baris 1 Kolom 1, nilai = 1\n",
        "Baris 1 Kolom 2, nilai = 1\n",
        "Baris 1 Kolom 3, nilai = 1\n",
        "Baris 2 Kolom 1, nilai = 1\n",
        "Baris 2 Kolom 2, nilai = 1\n",
        "Baris 2 Kolom 3, nilai = 1"
      ]
    },
    {
      "cell_type": "code",
      "metadata": {
        "colab": {
          "base_uri": "https://localhost:8080/"
        },
        "id": "HOTF5YONJxc6",
        "outputId": "07e3fde6-5c08-4fb1-cbf1-a4cc0d38f6fc"
      },
      "source": [
        "#Matriks dengan menggunakan fungsi perulangan\n",
        "m = 2\n",
        "n = 3 \n",
        "x = [0]*m\n",
        "#Fungsi perulangan dengan menggunakan for\n",
        "for i in range(m): \n",
        "    x[i] = [1]*n \n",
        "#Menampilkan matriks\n",
        "print (x)"
      ],
      "execution_count": null,
      "outputs": [
        {
          "output_type": "stream",
          "name": "stdout",
          "text": [
            "[[1, 1, 1], [1, 1, 1]]\n"
          ]
        }
      ]
    },
    {
      "cell_type": "markdown",
      "metadata": {
        "id": "bYGfR7FrJxc7"
      },
      "source": [
        "# Latihan (2)\n",
        "Buatlah matriks dengan orde 3x2, dengan nilai adalah:\n",
        "Baris 1 Kolom 1, nilai = 2\n",
        "Baris 1 Kolom 2, nilai = 2\n",
        "Baris 2 Kolom 1, nilai = 2\n",
        "Baris 2 Kolom 2, nilai = 2\n",
        "Baris 3 Kolom 1, nilai = 2\n",
        "Baris 3 Kolom 2, nilai = 2"
      ]
    },
    {
      "cell_type": "code",
      "metadata": {
        "colab": {
          "base_uri": "https://localhost:8080/"
        },
        "id": "kIaL-PJKJxc7",
        "outputId": "54bfe48a-7f8e-445c-e93e-217c9d4ef15d"
      },
      "source": [
        "#Latihan(2)\n",
        "#Matriks dengan menggunakan fungsi perulangan\n",
        "o = 3\n",
        "p = 2\n",
        "y = [0]*o\n",
        "\n",
        "#Fungsi perulangan dengan menggunakan for\n",
        "for i in range(o): \n",
        "    y[i] = [2]*p \n",
        "\n",
        "#Menampilkan matriks\n",
        "print (y)"
      ],
      "execution_count": null,
      "outputs": [
        {
          "output_type": "stream",
          "name": "stdout",
          "text": [
            "[[2, 2], [2, 2], [2, 2]]\n"
          ]
        }
      ]
    },
    {
      "cell_type": "markdown",
      "metadata": {
        "id": "4WpxcqwkJxc8"
      },
      "source": [
        "# Membuat Matriks dengan Menggunakan Library Numpy\n",
        "Library pada Python merupakan sebutan untuk kode program tambahan yang digunakan dalam kebutuhan tertentu. Python mempunyai lebih dari 140.000 library yang dikembangkan melalui open source project.\n",
        "\n",
        "Library Numpy memiliki kegunaan untuk operasi vektor dan matriks. Fiturnya hampir sama dengan MATLAB dalam mengelola array dan array multidimensi. Numpy merupakan salah satu library yang digunakan oleh library lain seperti Scikit-Learn untuk keperluan analisis data."
      ]
    },
    {
      "cell_type": "markdown",
      "metadata": {
        "id": "ilzQK8MGJxc8"
      },
      "source": [
        "# Contoh Membuat Matriks dengan Numpy\n",
        "Pada contoh berikut dibuat matriks dengan panjang elemen sebanyak 12 dengan nilai elemen dimulai dari indeks 0 sampai 11, dengan ukuran/orde matriks adalah 4x3."
      ]
    },
    {
      "cell_type": "code",
      "metadata": {
        "colab": {
          "base_uri": "https://localhost:8080/"
        },
        "id": "K75T-xphJxc8",
        "outputId": "de12a411-f837-4afa-a51b-226b25074a6a"
      },
      "source": [
        "#Panggil Library Numpy\n",
        "from numpy import * \n",
        "#Menentukan panjang elemen sebanyak 12\n",
        "matriks = range(12) \n",
        "#Matriks orde adalah 4x3\n",
        "matriks = reshape(matriks,(4,3)) \n",
        "#Menampilkan matriks\n",
        "print (matriks)"
      ],
      "execution_count": null,
      "outputs": [
        {
          "output_type": "stream",
          "name": "stdout",
          "text": [
            "[[ 0  1  2]\n",
            " [ 3  4  5]\n",
            " [ 6  7  8]\n",
            " [ 9 10 11]]\n"
          ]
        }
      ]
    },
    {
      "cell_type": "markdown",
      "metadata": {
        "id": "9Kp-8vm6Jxc9"
      },
      "source": [
        "# Latihan (3)\n",
        "Buatlah matriks dengan menggunakan Library Numpy dengan panjang elemen adalah 32 dan matriks memiliki orde 4x8"
      ]
    },
    {
      "cell_type": "code",
      "metadata": {
        "colab": {
          "base_uri": "https://localhost:8080/"
        },
        "id": "ZJFgx7j3Jxc9",
        "outputId": "113d47ab-79c6-4629-d80a-6d38faceaff4"
      },
      "source": [
        "#Latihan(3)\n",
        "#Panggil Library Numpy\n",
        "from numpy import * \n",
        "\n",
        "#Menentukan panjang elemen sebanyak 32\n",
        "matriks = range(32) \n",
        "\n",
        "#Matriks orde adalah 4x8\n",
        "matriks = reshape(matriks,(4,8)) \n",
        "\n",
        "#Menampilkan matriks\n",
        "print (matriks)"
      ],
      "execution_count": null,
      "outputs": [
        {
          "output_type": "stream",
          "name": "stdout",
          "text": [
            "[[ 0  1  2  3  4  5  6  7]\n",
            " [ 8  9 10 11 12 13 14 15]\n",
            " [16 17 18 19 20 21 22 23]\n",
            " [24 25 26 27 28 29 30 31]]\n"
          ]
        }
      ]
    },
    {
      "cell_type": "markdown",
      "metadata": {
        "id": "sGv60cULJxc9"
      },
      "source": [
        "# Membuat Matriks dengan Nilai Random\n",
        "Jika ingin elemen pada matriks bernilai random, dapat menggunakan fungsi random yang tersedia pada numpy."
      ]
    },
    {
      "cell_type": "markdown",
      "metadata": {
        "id": "ofUVR-PBJxc-"
      },
      "source": [
        "# Contoh Membuat Matriks Random dengan Numpy\n",
        "Pada contoh berikut ini dibuat matriks dengan ukuran/orde 3x4 dengan nilai elemen dimulai dari indeks 1 sampai 4 secara random. "
      ]
    },
    {
      "cell_type": "code",
      "metadata": {
        "colab": {
          "base_uri": "https://localhost:8080/"
        },
        "id": "Qqj0yBS_Jxc-",
        "outputId": "81d0de06-477b-48fd-bba2-5991e9e2ebfa"
      },
      "source": [
        "#Memanggil Library numpy dan diberikan nama alias np\n",
        "import numpy as np\n",
        "#Membuat matriks ukuran 3x4 dengan random\n",
        "\n",
        "matriks = np.random.randint(1,4,(3,4))\n",
        "#Menampilkan matriks\n",
        "print (matriks)"
      ],
      "execution_count": null,
      "outputs": [
        {
          "output_type": "stream",
          "name": "stdout",
          "text": [
            "[[2 3 2 3]\n",
            " [1 1 2 2]\n",
            " [3 1 2 1]]\n"
          ]
        }
      ]
    },
    {
      "cell_type": "markdown",
      "metadata": {
        "id": "KubWamJIJxc-"
      },
      "source": [
        "# Latihan (4)\n",
        "Buatlah matriks dengan menggunakan Library Numpy dengan orde 3x30, dan nilai elemen dimulai dari indeks 1 sampai dengan 5 secara random."
      ]
    },
    {
      "cell_type": "code",
      "metadata": {
        "colab": {
          "base_uri": "https://localhost:8080/"
        },
        "id": "uu_qmaGQJxc_",
        "outputId": "c5ab12b1-e1e3-45ac-d7f9-20acbb12560d"
      },
      "source": [
        "#Latihan(4)\n",
        "#Memanggil Library numpy dan diberikan nama alias np\n",
        "import numpy as np\n",
        "\n",
        "#Membuat matriks ukuran 3x30 dengan random\n",
        "matriks = np.random.randint(1,5,(3,30))\n",
        "\n",
        "#Menampilkan matriks\n",
        "print (matriks)"
      ],
      "execution_count": null,
      "outputs": [
        {
          "output_type": "stream",
          "name": "stdout",
          "text": [
            "[[3 1 1 4 3 4 4 3 4 1 1 1 4 4 3 3 3 1 4 1 2 2 1 1 2 1 3 3 2 1]\n",
            " [3 4 3 3 4 1 3 2 1 4 2 3 4 4 1 3 4 3 3 2 4 2 1 2 3 2 1 2 3 1]\n",
            " [4 4 1 2 3 3 3 3 2 3 2 2 4 1 3 4 4 1 4 4 2 1 4 3 3 2 3 1 1 2]]\n"
          ]
        }
      ]
    },
    {
      "cell_type": "markdown",
      "metadata": {
        "id": "kiSiJ6A-Jxc_"
      },
      "source": [
        "# Penjumlahan Matriks\n",
        "\n",
        "Penjumlahan matriks dilakukan dengan menjumlahkan setiap elemen, menggunakan tanda plus (+). Hasil penjumlahan tersebut akan menjadi elemen baru. Masing - masing matriks diakses setiap elemennya pada koordinat yang sama kemudian dijumlahkan untuk mendapatkan elemen baru. Penjumlahan matriks dilakukan pada dua buah matriks yang memiliki orde sama."
      ]
    },
    {
      "cell_type": "code",
      "metadata": {
        "colab": {
          "base_uri": "https://localhost:8080/"
        },
        "id": "9khkDTK6Jxc_",
        "outputId": "9b4913e1-5f7a-4d73-9aa1-2c7c0b4cd637"
      },
      "source": [
        "#Penjumlahan Matriks\n",
        "#Contoh 1\n",
        "mat1 = [\n",
        "    [5, 0],\n",
        "    [2, 6],\n",
        "]\n",
        "\n",
        "mat2 = [\n",
        "    [1, 0],\n",
        "    [4, 2],\n",
        "]\n",
        "\n",
        "\n",
        "for x in range(0, len(mat1)):\n",
        "    for y in range(0, len(mat1[0])):\n",
        "        print (mat1[x][y] + mat2[x][y], end=' '),\n",
        "    print"
      ],
      "execution_count": null,
      "outputs": [
        {
          "output_type": "stream",
          "name": "stdout",
          "text": [
            "6 0 6 8 "
          ]
        }
      ]
    },
    {
      "cell_type": "code",
      "metadata": {
        "colab": {
          "base_uri": "https://localhost:8080/"
        },
        "id": "P1ranlp6Jxc_",
        "outputId": "f5e33cb6-22bb-4390-a184-34c767b56f46"
      },
      "source": [
        "#Penjumlahan Matriks\n",
        "#Contoh 2\n",
        "import numpy as np\n",
        "matriksA = np.random.randint(1, 4,(3, 4))\n",
        "matriksB = np.random.randint(1, 3,(3, 4))\n",
        "print (matriksA)\n",
        "print () #memberikan spasi baris pada matriks yang tercetak\n",
        "print (matriksB)\n",
        "print ()\n",
        "\n",
        "#penjumlahan matriksA dan matriks B\n",
        "for x in range(0, len(matriksA)):\n",
        "    print ('Hasil Penjumlahan matriksA dan matriksB', 'Baris ke-', x+1)\n",
        "    print ()\n",
        "    for y in range(0, len(matriksA[0])):\n",
        "        print (matriksA[x][y] + matriksB[x][y], end=' '),\n",
        "    print ()"
      ],
      "execution_count": null,
      "outputs": [
        {
          "output_type": "stream",
          "name": "stdout",
          "text": [
            "[[1 2 2 2]\n",
            " [3 1 3 3]\n",
            " [3 2 3 3]]\n",
            "\n",
            "[[2 2 2 1]\n",
            " [1 2 1 2]\n",
            " [2 2 1 2]]\n",
            "\n",
            "Hasil Penjumlahan matriksA dan matriksB Baris ke- 1\n",
            "\n",
            "3 4 4 3 \n",
            "Hasil Penjumlahan matriksA dan matriksB Baris ke- 2\n",
            "\n",
            "4 3 4 5 \n",
            "Hasil Penjumlahan matriksA dan matriksB Baris ke- 3\n",
            "\n",
            "5 4 4 5 \n"
          ]
        }
      ]
    },
    {
      "cell_type": "code",
      "metadata": {
        "colab": {
          "base_uri": "https://localhost:8080/"
        },
        "id": "cpUV7V7NJxdA",
        "outputId": "4ec3b8d4-27a5-4ccc-bbaf-5ad1abb2af79"
      },
      "source": [
        "#Penjumlahan Matriks\n",
        "#Contoh 3\n",
        "import numpy as np\n",
        "matriksA = np.random.randint(1, 4,(6, 10))\n",
        "matriksB = np.random.randint(1, 3,(6, 10))\n",
        "print (matriksA)\n",
        "print () #memberikan spasi baris pada matriks yang tercetak\n",
        "print (matriksB)\n",
        "print ()\n",
        "\n",
        "#penjumlahan matriksA dan matriks B\n",
        "for x in range(0, len(matriksA)):\n",
        "    print ()\n",
        "    for y in range(0, len(matriksA[0])):\n",
        "        print (matriksA[x][y] + matriksB[x][y], end=' '),\n",
        "    print ()"
      ],
      "execution_count": null,
      "outputs": [
        {
          "output_type": "stream",
          "name": "stdout",
          "text": [
            "[[3 2 3 3 2 3 3 2 3 1]\n",
            " [3 2 1 1 2 3 2 2 3 3]\n",
            " [3 1 2 3 1 3 3 1 2 3]\n",
            " [3 3 2 3 1 1 3 1 2 1]\n",
            " [3 1 1 1 2 2 3 1 1 3]\n",
            " [2 2 2 3 2 3 2 2 2 3]]\n",
            "\n",
            "[[1 2 1 1 1 1 1 2 1 1]\n",
            " [2 1 2 2 1 1 1 2 1 2]\n",
            " [1 2 2 1 2 1 1 1 1 2]\n",
            " [1 1 2 2 2 1 2 1 1 1]\n",
            " [2 1 2 2 2 2 2 2 1 1]\n",
            " [2 2 1 1 2 2 1 2 2 2]]\n",
            "\n",
            "\n",
            "4 4 4 4 3 4 4 4 4 2 \n",
            "\n",
            "5 3 3 3 3 4 3 4 4 5 \n",
            "\n",
            "4 3 4 4 3 4 4 2 3 5 \n",
            "\n",
            "4 4 4 5 3 2 5 2 3 2 \n",
            "\n",
            "5 2 3 3 4 4 5 3 2 4 \n",
            "\n",
            "4 4 3 4 4 5 3 4 4 5 \n"
          ]
        }
      ]
    },
    {
      "cell_type": "markdown",
      "metadata": {
        "id": "j-jFh_ILJxdA"
      },
      "source": [
        "# Latihan (5)\n",
        "\n",
        "Buatlah penjumlahan dua matriks dengan menggunakan library Numpy, dengan matriks berukuran 7x9 yang nilainya didapatkan secara random."
      ]
    },
    {
      "cell_type": "code",
      "metadata": {
        "colab": {
          "base_uri": "https://localhost:8080/"
        },
        "id": "5zFCd_XGJxdA",
        "outputId": "31fcbc9e-feb4-4ec1-c9d0-27fbd0c89c0a"
      },
      "source": [
        "#Latihan(5)\n",
        "#Penjumlahan Matriks\n",
        "import numpy as np\n",
        "matriksA = np.random.randint(1, 4,(7, 9))\n",
        "matriksB = np.random.randint(1, 4,(7, 9))\n",
        "print (matriksA)\n",
        "print () #memberikan spasi baris pada matriks yang tercetak\n",
        "print (matriksB)\n",
        "print ()\n",
        "\n",
        "#penjumlahan matriksA dan matriks B\n",
        "for x in range(0, len(matriksA)):\n",
        "    print ()\n",
        "    for y in range(0, len(matriksA[0])):\n",
        "        print (matriksA[x][y] + matriksB[x][y], end=' '),\n",
        "    print ()"
      ],
      "execution_count": null,
      "outputs": [
        {
          "output_type": "stream",
          "name": "stdout",
          "text": [
            "[[3 3 1 3 3 1 1 2 3]\n",
            " [1 2 1 1 1 1 2 3 1]\n",
            " [2 1 2 2 3 2 3 3 3]\n",
            " [1 3 2 2 2 1 3 3 1]\n",
            " [1 1 1 3 1 3 1 2 3]\n",
            " [1 1 3 3 3 3 3 3 1]\n",
            " [3 1 1 2 3 1 1 1 2]]\n",
            "\n",
            "[[1 3 3 2 3 2 2 3 2]\n",
            " [3 2 3 3 1 1 2 2 1]\n",
            " [2 1 2 2 3 2 2 2 1]\n",
            " [1 3 2 2 2 2 3 2 1]\n",
            " [1 1 1 1 3 3 2 2 3]\n",
            " [2 3 2 3 1 3 2 1 2]\n",
            " [3 3 2 2 3 1 2 2 3]]\n",
            "\n",
            "\n",
            "4 6 4 5 6 3 3 5 5 \n",
            "\n",
            "4 4 4 4 2 2 4 5 2 \n",
            "\n",
            "4 2 4 4 6 4 5 5 4 \n",
            "\n",
            "2 6 4 4 4 3 6 5 2 \n",
            "\n",
            "2 2 2 4 4 6 3 4 6 \n",
            "\n",
            "3 4 5 6 4 6 5 4 3 \n",
            "\n",
            "6 4 3 4 6 2 3 3 5 \n"
          ]
        }
      ]
    },
    {
      "cell_type": "markdown",
      "metadata": {
        "id": "2ZZ2wvggJxdA"
      },
      "source": [
        "# Pengurangan Matriks\n",
        "\n",
        "Pengurangan matriks menggunakan operator dengan tanda kurang (-). Matriks baru akan terbentuk sebagai hasil dari pengurangan setiap kedua elemen matriks. Pengurangan matriks dilakukan pada dua matriks yang memiliki orde yang sama."
      ]
    },
    {
      "cell_type": "code",
      "metadata": {
        "id": "UlWUBapBJxdB"
      },
      "source": [
        "#Pengurangan Matriks\n",
        "#Contoh 1\n",
        "mat1 = [\n",
        "    [5, 0],\n",
        "    [2, 6],\n",
        "]\n",
        "\n",
        "mat2 = [\n",
        "    [1, 0],\n",
        "    [4, 2],\n",
        "]\n",
        "\n",
        "\n",
        "for x in range(0, len(mat1)):\n",
        "    for y in range(0, len(mat1[0])):\n",
        "        print (mat1[x][y] - mat2[x][y], end=' '),\n",
        "    print"
      ],
      "execution_count": null,
      "outputs": []
    },
    {
      "cell_type": "code",
      "metadata": {
        "id": "A4R-gOj1JxdB"
      },
      "source": [
        "#Pengurangan Matriks\n",
        "#Contoh 2\n",
        "mat1 = [\n",
        "    [5, 0],\n",
        "    [2, 6],\n",
        "]\n",
        "\n",
        "mat2 = [\n",
        "    [1, 0],\n",
        "    [4, 2],\n",
        "]\n",
        "\n",
        "\n",
        "for x in range(0, len(mat1)):\n",
        "    for y in range(0, len(mat1[0])):\n",
        "        print (mat1[x][y] - mat2[x][y], end=' '),\n",
        "    print ()"
      ],
      "execution_count": null,
      "outputs": []
    },
    {
      "cell_type": "code",
      "metadata": {
        "id": "2ta8dm7TJxdB"
      },
      "source": [
        "#Pengurangan Matriks\n",
        "#Contoh 3\n",
        "import numpy as np\n",
        "matriksA = np.random.randint(1, 4,(3, 4))\n",
        "matriksB = np.random.randint(1, 3,(3, 4))\n",
        "print (matriksA)\n",
        "print () #memberikan spasi baris pada matriks yang tercetak\n",
        "print (matriksB)\n",
        "print ()\n",
        "\n",
        "#pengurangan matriksA dengan matriks B\n",
        "for x in range(0, len(matriksA)):\n",
        "    print ('Hasil Pengurangan matriksA dan matriksB', 'Baris ke-', x+1)\n",
        "    print ()\n",
        "    for y in range(0, len(matriksA[0])):\n",
        "        print (matriksA[x][y] - matriksB[x][y], end=' '),\n",
        "    print ()"
      ],
      "execution_count": null,
      "outputs": []
    },
    {
      "cell_type": "code",
      "metadata": {
        "id": "MQ7B-h9SJxdB"
      },
      "source": [
        "#Pengurangan Matriks\n",
        "#Contoh 4\n",
        "import numpy as np\n",
        "matriksA = np.random.randint(1, 4,(6, 10))\n",
        "matriksB = np.random.randint(1, 3,(6, 10))\n",
        "print (matriksA)\n",
        "print () #memberikan spasi baris pada matriks yang tercetak\n",
        "print (matriksB)\n",
        "print ()\n",
        "\n",
        "#pengurangan matriksA dengan matriks B\n",
        "for x in range(0, len(matriksA)):\n",
        "    print ()\n",
        "    for y in range(0, len(matriksA[0])):\n",
        "        print (matriksA[x][y] - matriksB[x][y], end=' '),\n",
        "    print ()"
      ],
      "execution_count": null,
      "outputs": []
    },
    {
      "cell_type": "markdown",
      "metadata": {
        "id": "R8ci289TJxdB"
      },
      "source": [
        "# Latihan (6)\n",
        "\n",
        "Buatlah pengurangan dua matriks dengan menggunakan library Numpy, dengan matriks berukuran 7x9 yang nilainya didapatkan secara random."
      ]
    },
    {
      "cell_type": "code",
      "metadata": {
        "colab": {
          "base_uri": "https://localhost:8080/"
        },
        "id": "cDjGR-sYJxdC",
        "outputId": "abd67c11-4138-4ed7-8e69-f08793dc9db8"
      },
      "source": [
        "#Latihan(6)\n",
        "#Pengurangan Matriks\n",
        "import numpy as np\n",
        "matriksA = np.random.randint(1, 10,(7, 9))\n",
        "matriksB = np.random.randint(1, 10,(7, 9))\n",
        "print (matriksA)\n",
        "print () #memberikan spasi baris pada matriks yang tercetak\n",
        "print (matriksB)\n",
        "print ()\n",
        "\n",
        "#pengurangan matriksA dengan matriks B\n",
        "for x in range(0, len(matriksA)):\n",
        "    print ()\n",
        "    for y in range(0, len(matriksA[0])):\n",
        "        print (matriksA[x][y] - matriksB[x][y], end=' '),\n",
        "    print ()"
      ],
      "execution_count": null,
      "outputs": [
        {
          "output_type": "stream",
          "name": "stdout",
          "text": [
            "[[4 2 8 1 2 9 1 4 2]\n",
            " [5 7 9 6 9 1 2 9 5]\n",
            " [5 2 7 6 4 7 7 8 1]\n",
            " [9 2 8 8 1 5 8 2 4]\n",
            " [2 3 4 4 7 7 7 4 8]\n",
            " [1 3 8 1 4 7 4 9 8]\n",
            " [8 5 9 6 3 7 7 6 2]]\n",
            "\n",
            "[[5 6 4 8 7 7 5 6 5]\n",
            " [2 5 9 8 2 9 3 3 3]\n",
            " [7 1 8 8 5 8 5 7 8]\n",
            " [7 2 3 3 7 5 2 4 1]\n",
            " [7 1 7 4 7 4 7 2 8]\n",
            " [9 5 7 7 8 8 5 2 3]\n",
            " [7 7 2 8 3 5 2 3 3]]\n",
            "\n",
            "\n",
            "-1 -4 4 -7 -5 2 -4 -2 -3 \n",
            "\n",
            "3 2 0 -2 7 -8 -1 6 2 \n",
            "\n",
            "-2 1 -1 -2 -1 -1 2 1 -7 \n",
            "\n",
            "2 0 5 5 -6 0 6 -2 3 \n",
            "\n",
            "-5 2 -3 0 0 3 0 2 0 \n",
            "\n",
            "-8 -2 1 -6 -4 -1 -1 7 5 \n",
            "\n",
            "1 -2 7 -2 0 2 5 3 -1 \n"
          ]
        }
      ]
    },
    {
      "cell_type": "markdown",
      "metadata": {
        "id": "XsMd9jUDJxdC"
      },
      "source": [
        "# Penggunaan Library Pandas"
      ]
    },
    {
      "cell_type": "markdown",
      "metadata": {
        "id": "cCB7nZoUJxdC"
      },
      "source": [
        "# Latihan (7)\n",
        "\n",
        "Lakukan import Library Pandas"
      ]
    },
    {
      "cell_type": "code",
      "metadata": {
        "id": "oky2w6CGJxdC"
      },
      "source": [
        "#Latihan(7)\n",
        "#Import Library Pandas\n",
        "\n",
        "..............."
      ],
      "execution_count": null,
      "outputs": []
    },
    {
      "cell_type": "markdown",
      "metadata": {
        "id": "f56WW6sJJxdC"
      },
      "source": [
        "# Latihan (8)\n",
        "\n",
        "Panggil file dengan format .csv yang bernama \"cloth_data\""
      ]
    },
    {
      "cell_type": "code",
      "metadata": {
        "id": "jpv2E8DgJxdD"
      },
      "source": [
        "#latihan(8)\n",
        "#Panggil file bernama cloth_data.csv\n",
        "\n",
        "..............."
      ],
      "execution_count": null,
      "outputs": []
    },
    {
      "cell_type": "markdown",
      "metadata": {
        "id": "oZCXGGaCJxdD"
      },
      "source": [
        "# Latihan (9)\n",
        "\n",
        "Tampilkan data dari \"cloth_data\" "
      ]
    },
    {
      "cell_type": "code",
      "metadata": {
        "id": "JOv9dn1UJxdD"
      },
      "source": [
        "#latihan(9)\n",
        "#Tampilkan data dari dataset cloth_data \n",
        "\n",
        "..............."
      ],
      "execution_count": null,
      "outputs": []
    },
    {
      "cell_type": "markdown",
      "metadata": {
        "id": "UyODISyDJxdD"
      },
      "source": [
        "# Latihan (10)\n",
        "\n",
        "Tampilkan data dari \"cloth_data\" mulai dari indeks 0 (nol) sampai dengan indeks 10 (sepuluh)"
      ]
    },
    {
      "cell_type": "code",
      "metadata": {
        "id": "GLo39GFxJxdD"
      },
      "source": [
        "#Latihan(10)\n",
        "#Tampilkan data dari \"cloth_data\" mulai dari indeks 0 (nol) sampai dengan indeks 10 (sepuluh)\n",
        "\n",
        "...............\n"
      ],
      "execution_count": null,
      "outputs": []
    },
    {
      "cell_type": "markdown",
      "metadata": {
        "id": "sGeOf0LwJxdE"
      },
      "source": [
        "# Latihan (11)\n",
        "\n",
        "Tampilkan data dari \"cloth_data\" untuk kolom age dan size"
      ]
    },
    {
      "cell_type": "code",
      "metadata": {
        "id": "SOz4eQ7MJxdG"
      },
      "source": [
        "#Latihan(11)\n",
        "#Tampilkan data dari \"cloth_data\" untuk kolom age dan size\n",
        "\n",
        "..............."
      ],
      "execution_count": null,
      "outputs": []
    },
    {
      "cell_type": "markdown",
      "metadata": {
        "id": "WVJSLwSPJxdG"
      },
      "source": [
        "# Latihan (12)\n",
        "\n",
        "Tampilkan data dari \"cloth_data\" untuk kolom age dan size, mulai dari indeks 0 (nol) sampai dengan indeks 10 (sepuluh)"
      ]
    },
    {
      "cell_type": "code",
      "metadata": {
        "id": "DPNWfNIwJxdH"
      },
      "source": [
        "#Latihan(12)\n",
        "#Tampilkan data dari \"cloth_data\" untuk kolom age dan size, mulai dari indeks 0 (nol) sampai dengan indeks 10 (sepuluh)\n",
        "\n",
        "..............."
      ],
      "execution_count": null,
      "outputs": []
    },
    {
      "cell_type": "markdown",
      "metadata": {
        "id": "w4-MCh5YJxdH"
      },
      "source": [
        "# Penggunaan Library Matplotlib"
      ]
    },
    {
      "cell_type": "markdown",
      "metadata": {
        "id": "DwIfOw-_JxdH"
      },
      "source": [
        "# Latihan (13)\n",
        "\n",
        "Lakukan import Library Matplotlib"
      ]
    },
    {
      "cell_type": "code",
      "metadata": {
        "id": "b3FVzxESJxdH"
      },
      "source": [
        "#Latihan(13)\n",
        "#Import Library Matplotlib\n",
        "\n",
        "..............."
      ],
      "execution_count": null,
      "outputs": []
    },
    {
      "cell_type": "markdown",
      "metadata": {
        "id": "aHwgAlLUJxdI"
      },
      "source": [
        "# Latihan (14)\n",
        "\n",
        "Buatlah visualisasi dalam bentuk histogram pada data \"cloth_data\" untuk kolom size"
      ]
    },
    {
      "cell_type": "code",
      "metadata": {
        "id": "3ofuZdJFJxdI"
      },
      "source": [
        "#Latihan(14)\n",
        "#Buat histogram untuk kolom size\n",
        "\n",
        "..............."
      ],
      "execution_count": null,
      "outputs": []
    },
    {
      "cell_type": "markdown",
      "metadata": {
        "id": "GZEzXmEgJxdI"
      },
      "source": [
        "# Latihan (15)\n",
        "\n",
        "Buatlah visualisasi dalam bentuk grafik (plot) pada data \"cloth_data\" untuk kolom age dan kolom size"
      ]
    },
    {
      "cell_type": "code",
      "metadata": {
        "id": "wInnfhT1JxdI"
      },
      "source": [
        "#Latihan(15)\n",
        "#Visualisasi dalam bentuk grafik (plot) pada data \"cloth_data\" untuk kolom age dan kolom size\n",
        "\n",
        "..............."
      ],
      "execution_count": null,
      "outputs": []
    },
    {
      "cell_type": "markdown",
      "metadata": {
        "id": "HkXTn8GgJxdJ"
      },
      "source": [
        "# Latihan (16)\n",
        "\n",
        "Buatlah visualisasi dalam bentuk grafik (plot) pada data \"cloth_data\" untuk kolom size dan kolom age"
      ]
    },
    {
      "cell_type": "code",
      "metadata": {
        "id": "I7IioF8lJxdJ"
      },
      "source": [
        "#Latihan(16)\n",
        "#Visualisasi dalam bentuk grafik (plot) pada data \"cloth_data\" untuk kolom size dan kolom age\n",
        "\n",
        "..............."
      ],
      "execution_count": null,
      "outputs": []
    },
    {
      "cell_type": "markdown",
      "metadata": {
        "id": "qXf-BY9jJxdJ"
      },
      "source": [
        "# Latihan (17)\n",
        "\n",
        "Import library seaborn"
      ]
    },
    {
      "cell_type": "code",
      "metadata": {
        "id": "AY2XgxNGJxdJ"
      },
      "source": [
        "#Latihan(17)\n",
        "#Import library seaborn\n",
        "\n",
        "..............."
      ],
      "execution_count": null,
      "outputs": []
    },
    {
      "cell_type": "markdown",
      "metadata": {
        "id": "dqJCaOBEJxdJ"
      },
      "source": [
        "# Latihan (18)\n",
        "\n",
        "Buatlah visualisasi dalam bentuk scatterplot pada data \"cloth_data\" untuk kolom age dan kolom size"
      ]
    },
    {
      "cell_type": "code",
      "metadata": {
        "id": "TgwzmCnjJxdJ"
      },
      "source": [
        "#latihan(18)\n",
        "#Buat scatterplot dengan kolom age dan size\n",
        "\n",
        "............"
      ],
      "execution_count": null,
      "outputs": []
    },
    {
      "cell_type": "markdown",
      "metadata": {
        "id": "LXKtQ71SJxdK"
      },
      "source": [
        "# Latihan (19)\n",
        "\n",
        "Buatlah visualisasi dalam bentuk scatterplot pada data \"cloth_data\" untuk kolom size dan kolom age"
      ]
    },
    {
      "cell_type": "code",
      "metadata": {
        "id": "Txh8C-95JxdK"
      },
      "source": [
        "#latihan(19)\n",
        "#Buat scatterplot dengan kolom size dan age\n",
        "\n",
        "....................."
      ],
      "execution_count": null,
      "outputs": []
    },
    {
      "cell_type": "markdown",
      "metadata": {
        "id": "kWx7s2vpJxdK"
      },
      "source": [
        "# Latihan (20)\n",
        "\n",
        "Buatlah visualisasi dalam bentuk histogram pada data \"cloth_data\" untuk kolom age"
      ]
    },
    {
      "cell_type": "code",
      "metadata": {
        "id": "XFiEaFctJxdK"
      },
      "source": [
        "#Latihan(20)\n",
        "#Buat histogram untuk kolom size\n",
        "\n",
        "...................."
      ],
      "execution_count": null,
      "outputs": []
    }
  ]
}