{
  "nbformat": 4,
  "nbformat_minor": 5,
  "metadata": {
    "kernelspec": {
      "display_name": "Python 3",
      "language": "python",
      "name": "python3"
    },
    "language_info": {
      "codemirror_mode": {
        "name": "ipython",
        "version": 3
      },
      "file_extension": ".py",
      "mimetype": "text/x-python",
      "name": "python",
      "nbconvert_exporter": "python",
      "pygments_lexer": "ipython3",
      "version": "3.8.8"
    },
    "colab": {
      "name": "Tugas Mandiri Pertemuan 9_Angga Agustira_UNUD-03",
      "provenance": [],
      "include_colab_link": true
    }
  },
  "cells": [
    {
      "cell_type": "markdown",
      "metadata": {
        "id": "view-in-github",
        "colab_type": "text"
      },
      "source": [
        "<a href=\"https://colab.research.google.com/github/anggaagustiratelkom/data_scientist/blob/master/Tugas_Mandiri_Pertemuan_9_Angga_Agustira_UNUD_03.ipynb\" target=\"_parent\"><img src=\"https://colab.research.google.com/assets/colab-badge.svg\" alt=\"Open In Colab\"/></a>"
      ]
    },
    {
      "cell_type": "markdown",
      "metadata": {
        "id": "d57d62f8"
      },
      "source": [
        "# Hands-On\n",
        "---\n",
        "\n",
        "Hands-On ini digunakan pada kegiatan Microcredential Associate Data Scientist 2021"
      ],
      "id": "d57d62f8"
    },
    {
      "cell_type": "markdown",
      "metadata": {
        "id": "afcc8ef8"
      },
      "source": [
        "# Pertemuan 9\n",
        "---\n",
        "Pertemuan 9 (sembilan) pada Microcredential Associate Data Scientist 2021 menyampaikan materi mengenai Mengkonstruksi Data"
      ],
      "id": "afcc8ef8"
    },
    {
      "cell_type": "markdown",
      "metadata": {
        "id": "ec93c66e"
      },
      "source": [
        "## Pada Tugas Mandiri Pertemuan 9 \n",
        "\n",
        "#### silakan Anda kerjakan Latihan 1 s/d 10. Output yang anda lihat merupakan panduan yang dapat Anda ikuti dalam penulisan code :)"
      ],
      "id": "ec93c66e"
    },
    {
      "cell_type": "markdown",
      "metadata": {
        "id": "296142b0"
      },
      "source": [
        "# Latihan (1)\n",
        "\n",
        "### Melakukan import library yang dibutuhkan"
      ],
      "id": "296142b0"
    },
    {
      "cell_type": "code",
      "metadata": {
        "colab": {
          "base_uri": "https://localhost:8080/"
        },
        "id": "12a26b6b",
        "outputId": "fb0dd9f9-3349-47a6-ceff-3340dfa951d1"
      },
      "source": [
        "# import library pandas\n",
        "\n",
        "import pandas as pd\n",
        "\n",
        "# Import library scipy\n",
        "\n",
        "from scipy import ndimage\n",
        "\n",
        "# Import library winsorize dari scipy\n",
        "\n",
        "from scipy.stats.mstats import winsorize\n",
        "\n",
        "# Import library trima dari scipy\n",
        "\n",
        "from scipy.stats.mstats import trima\n",
        "\n",
        "# Import library RandomSampleImputer dari feature engine imputation\n",
        "\n",
        "!pip install feature-engine\n",
        "from feature_engine.imputation import RandomSampleImputer\n",
        "\n",
        "# import library StandardScaler dari sklearn\n",
        "\n",
        "from sklearn.preprocessing import StandardScaler"
      ],
      "id": "12a26b6b",
      "execution_count": 201,
      "outputs": [
        {
          "output_type": "stream",
          "name": "stdout",
          "text": [
            "Requirement already satisfied: feature-engine in /usr/local/lib/python3.7/dist-packages (1.1.2)\n",
            "Requirement already satisfied: scikit-learn>=0.22.2 in /usr/local/lib/python3.7/dist-packages (from feature-engine) (1.0.1)\n",
            "Requirement already satisfied: pandas>=1.0.3 in /usr/local/lib/python3.7/dist-packages (from feature-engine) (1.1.5)\n",
            "Requirement already satisfied: statsmodels>=0.11.1 in /usr/local/lib/python3.7/dist-packages (from feature-engine) (0.13.1)\n",
            "Requirement already satisfied: numpy>=1.18.2 in /usr/local/lib/python3.7/dist-packages (from feature-engine) (1.19.5)\n",
            "Requirement already satisfied: scipy>=1.4.1 in /usr/local/lib/python3.7/dist-packages (from feature-engine) (1.4.1)\n",
            "Requirement already satisfied: python-dateutil>=2.7.3 in /usr/local/lib/python3.7/dist-packages (from pandas>=1.0.3->feature-engine) (2.8.2)\n",
            "Requirement already satisfied: pytz>=2017.2 in /usr/local/lib/python3.7/dist-packages (from pandas>=1.0.3->feature-engine) (2018.9)\n",
            "Requirement already satisfied: six>=1.5 in /usr/local/lib/python3.7/dist-packages (from python-dateutil>=2.7.3->pandas>=1.0.3->feature-engine) (1.15.0)\n",
            "Requirement already satisfied: threadpoolctl>=2.0.0 in /usr/local/lib/python3.7/dist-packages (from scikit-learn>=0.22.2->feature-engine) (3.0.0)\n",
            "Requirement already satisfied: joblib>=0.11 in /usr/local/lib/python3.7/dist-packages (from scikit-learn>=0.22.2->feature-engine) (1.1.0)\n",
            "Requirement already satisfied: patsy>=0.5.2 in /usr/local/lib/python3.7/dist-packages (from statsmodels>=0.11.1->feature-engine) (0.5.2)\n"
          ]
        }
      ]
    },
    {
      "cell_type": "markdown",
      "metadata": {
        "id": "910ae971"
      },
      "source": [
        "# Latihan (2)\n",
        "\n",
        "### Menghitung nilai null pada dataset :\n",
        "\n",
        "    1. Load dataset Iris_Unclean\n",
        "    2. Tampilkan dataset\n",
        "    3. Hitung jumlah nilai null pada dataset"
      ],
      "id": "910ae971"
    },
    {
      "cell_type": "code",
      "metadata": {
        "id": "8e556b05"
      },
      "source": [
        "# load dataset Iris_Unclean\n",
        "\n",
        "url = 'https://raw.githubusercontent.com/anggaagustiratelkom/data_scientist/master/TugasPertemuan9/Iris_unclean.csv'\n",
        "df = pd.read_csv(url)"
      ],
      "id": "8e556b05",
      "execution_count": 202,
      "outputs": []
    },
    {
      "cell_type": "code",
      "metadata": {
        "colab": {
          "base_uri": "https://localhost:8080/",
          "height": 423
        },
        "id": "85627815",
        "outputId": "8a6fc159-859a-4810-bc03-b5ba143ccd62"
      },
      "source": [
        "# tampilkan dataset\n",
        "\n",
        "df"
      ],
      "id": "85627815",
      "execution_count": 203,
      "outputs": [
        {
          "output_type": "execute_result",
          "data": {
            "text/html": [
              "<div>\n",
              "<style scoped>\n",
              "    .dataframe tbody tr th:only-of-type {\n",
              "        vertical-align: middle;\n",
              "    }\n",
              "\n",
              "    .dataframe tbody tr th {\n",
              "        vertical-align: top;\n",
              "    }\n",
              "\n",
              "    .dataframe thead th {\n",
              "        text-align: right;\n",
              "    }\n",
              "</style>\n",
              "<table border=\"1\" class=\"dataframe\">\n",
              "  <thead>\n",
              "    <tr style=\"text-align: right;\">\n",
              "      <th></th>\n",
              "      <th>SepalLengthCm</th>\n",
              "      <th>SepalWidthCm</th>\n",
              "      <th>PetalLengthCm</th>\n",
              "      <th>PetalWidthCm</th>\n",
              "      <th>Species</th>\n",
              "    </tr>\n",
              "  </thead>\n",
              "  <tbody>\n",
              "    <tr>\n",
              "      <th>0</th>\n",
              "      <td>NaN</td>\n",
              "      <td>3.5</td>\n",
              "      <td>1.4</td>\n",
              "      <td>0.2</td>\n",
              "      <td>Iris-setosa</td>\n",
              "    </tr>\n",
              "    <tr>\n",
              "      <th>1</th>\n",
              "      <td>4.9</td>\n",
              "      <td>2000.0</td>\n",
              "      <td>1.4</td>\n",
              "      <td>0.2</td>\n",
              "      <td>Iris-setosa</td>\n",
              "    </tr>\n",
              "    <tr>\n",
              "      <th>2</th>\n",
              "      <td>4.7</td>\n",
              "      <td>3.2</td>\n",
              "      <td>-1.3</td>\n",
              "      <td>0.2</td>\n",
              "      <td>Iris-setosa</td>\n",
              "    </tr>\n",
              "    <tr>\n",
              "      <th>3</th>\n",
              "      <td>4.6</td>\n",
              "      <td>3.1</td>\n",
              "      <td>1.5</td>\n",
              "      <td>0.2</td>\n",
              "      <td>Iris-setosa</td>\n",
              "    </tr>\n",
              "    <tr>\n",
              "      <th>4</th>\n",
              "      <td>5.0</td>\n",
              "      <td>3.6</td>\n",
              "      <td>1.4</td>\n",
              "      <td>0.2</td>\n",
              "      <td>Iris-setosa</td>\n",
              "    </tr>\n",
              "    <tr>\n",
              "      <th>...</th>\n",
              "      <td>...</td>\n",
              "      <td>...</td>\n",
              "      <td>...</td>\n",
              "      <td>...</td>\n",
              "      <td>...</td>\n",
              "    </tr>\n",
              "    <tr>\n",
              "      <th>145</th>\n",
              "      <td>6.7</td>\n",
              "      <td>3.0</td>\n",
              "      <td>5.2</td>\n",
              "      <td>2.3</td>\n",
              "      <td>Iris-virginica</td>\n",
              "    </tr>\n",
              "    <tr>\n",
              "      <th>146</th>\n",
              "      <td>6.3</td>\n",
              "      <td>2.5</td>\n",
              "      <td>5.0</td>\n",
              "      <td>1.9</td>\n",
              "      <td>Iris-virginica</td>\n",
              "    </tr>\n",
              "    <tr>\n",
              "      <th>147</th>\n",
              "      <td>6.5</td>\n",
              "      <td>3.0</td>\n",
              "      <td>5.2</td>\n",
              "      <td>2.0</td>\n",
              "      <td>Iris-virginica</td>\n",
              "    </tr>\n",
              "    <tr>\n",
              "      <th>148</th>\n",
              "      <td>6.2</td>\n",
              "      <td>3.4</td>\n",
              "      <td>5.4</td>\n",
              "      <td>2.3</td>\n",
              "      <td>Iris-virginica</td>\n",
              "    </tr>\n",
              "    <tr>\n",
              "      <th>149</th>\n",
              "      <td>5.9</td>\n",
              "      <td>3.0</td>\n",
              "      <td>5.1</td>\n",
              "      <td>1.8</td>\n",
              "      <td>Iris-virginica</td>\n",
              "    </tr>\n",
              "  </tbody>\n",
              "</table>\n",
              "<p>150 rows × 5 columns</p>\n",
              "</div>"
            ],
            "text/plain": [
              "     SepalLengthCm  SepalWidthCm  PetalLengthCm  PetalWidthCm         Species\n",
              "0              NaN           3.5            1.4           0.2     Iris-setosa\n",
              "1              4.9        2000.0            1.4           0.2     Iris-setosa\n",
              "2              4.7           3.2           -1.3           0.2     Iris-setosa\n",
              "3              4.6           3.1            1.5           0.2     Iris-setosa\n",
              "4              5.0           3.6            1.4           0.2     Iris-setosa\n",
              "..             ...           ...            ...           ...             ...\n",
              "145            6.7           3.0            5.2           2.3  Iris-virginica\n",
              "146            6.3           2.5            5.0           1.9  Iris-virginica\n",
              "147            6.5           3.0            5.2           2.0  Iris-virginica\n",
              "148            6.2           3.4            5.4           2.3  Iris-virginica\n",
              "149            5.9           3.0            5.1           1.8  Iris-virginica\n",
              "\n",
              "[150 rows x 5 columns]"
            ]
          },
          "metadata": {},
          "execution_count": 203
        }
      ]
    },
    {
      "cell_type": "code",
      "metadata": {
        "colab": {
          "base_uri": "https://localhost:8080/"
        },
        "id": "f9f84ae7",
        "outputId": "5cfa99f7-b709-4313-e5f2-24d30cc88c77"
      },
      "source": [
        "# hitung jumlah nilai null pada dataset\n",
        "\n",
        "df.isnull().sum()"
      ],
      "id": "f9f84ae7",
      "execution_count": 204,
      "outputs": [
        {
          "output_type": "execute_result",
          "data": {
            "text/plain": [
              "SepalLengthCm    2\n",
              "SepalWidthCm     0\n",
              "PetalLengthCm    0\n",
              "PetalWidthCm     0\n",
              "Species          0\n",
              "dtype: int64"
            ]
          },
          "metadata": {},
          "execution_count": 204
        }
      ]
    },
    {
      "cell_type": "markdown",
      "metadata": {
        "id": "4fb76245"
      },
      "source": [
        "# Latihan (3)\n",
        "\n",
        "### Melakukan handle missing value dengan Imputasi Mean:\n",
        "\n",
        "     1. Load dataset Iris_Unclean\n",
        "     2. Ambil 10 data teratas \"SepalLengthCm\", kemudian tampilkan\n",
        "     3. Mengganti missing value Imputasi dengan mean, kemudian masukkan ke variable\n",
        "     4. Tampilkan 10 data teratas \"SepalLengthCm\" setelah handle missing value dengan Imputasi mean()"
      ],
      "id": "4fb76245"
    },
    {
      "cell_type": "code",
      "metadata": {
        "id": "d81cbac5"
      },
      "source": [
        "# load dataset Iris_Unclean\n",
        "\n",
        "url = 'https://raw.githubusercontent.com/anggaagustiratelkom/data_scientist/master/TugasPertemuan9/Iris_unclean.csv'\n",
        "df = pd.read_csv(url)"
      ],
      "id": "d81cbac5",
      "execution_count": 205,
      "outputs": []
    },
    {
      "cell_type": "code",
      "metadata": {
        "colab": {
          "base_uri": "https://localhost:8080/"
        },
        "id": "14a9b64e",
        "outputId": "bba77f44-258f-4f11-8da9-2845b3719f40"
      },
      "source": [
        "# ambil 10 data teratas SepalLengthCm, kemudian tampilkan\n",
        "\n",
        "df = df['SepalLengthCm'].head(10)\n",
        "df"
      ],
      "id": "14a9b64e",
      "execution_count": 206,
      "outputs": [
        {
          "output_type": "execute_result",
          "data": {
            "text/plain": [
              "0    NaN\n",
              "1    4.9\n",
              "2    4.7\n",
              "3    4.6\n",
              "4    5.0\n",
              "5    5.4\n",
              "6    NaN\n",
              "7    5.0\n",
              "8    4.4\n",
              "9    4.9\n",
              "Name: SepalLengthCm, dtype: float64"
            ]
          },
          "metadata": {},
          "execution_count": 206
        }
      ]
    },
    {
      "cell_type": "code",
      "metadata": {
        "id": "7db11cee"
      },
      "source": [
        "# mengganti missing value dengan mean(), kemudian masukkan ke variabel\n",
        "\n",
        "mean = df.mean()\n",
        "df = df.replace(np.nan,mean)"
      ],
      "id": "7db11cee",
      "execution_count": 207,
      "outputs": []
    },
    {
      "cell_type": "code",
      "metadata": {
        "colab": {
          "base_uri": "https://localhost:8080/"
        },
        "id": "f03740f8",
        "outputId": "2c794fef-f9af-466b-8373-c6e2629d2684"
      },
      "source": [
        "# tampilkan 10 data teratas SepalLengthCm setelah handle missing value dengan imputasi mean\n",
        "\n",
        "df.head(10)"
      ],
      "id": "f03740f8",
      "execution_count": 208,
      "outputs": [
        {
          "output_type": "execute_result",
          "data": {
            "text/plain": [
              "0    4.8625\n",
              "1    4.9000\n",
              "2    4.7000\n",
              "3    4.6000\n",
              "4    5.0000\n",
              "5    5.4000\n",
              "6    4.8625\n",
              "7    5.0000\n",
              "8    4.4000\n",
              "9    4.9000\n",
              "Name: SepalLengthCm, dtype: float64"
            ]
          },
          "metadata": {},
          "execution_count": 208
        }
      ]
    },
    {
      "cell_type": "markdown",
      "metadata": {
        "id": "ffc520e0"
      },
      "source": [
        "# Latihan (4)\n",
        "\n",
        "### Melakukan handle missing value dengan nilai suka-suka (Arbitrary):\n",
        "\n",
        "     1. Load dataset Iris_Unclean\n",
        "     2. Ambil 10 data teratas \"SepalLengthCm\", kemudian tampilkan\n",
        "     3. Mengganti missing value dengan imputasi nilai suka-suka (Arbitrary), kemudian masukkan ke variable\n",
        "     4. Tampilkan 10 data teratas \"SepalLengthCm\" setelah handle missing value dengan nilai suka-suka "
      ],
      "id": "ffc520e0"
    },
    {
      "cell_type": "code",
      "metadata": {
        "id": "f6d89b20"
      },
      "source": [
        "# load dataset Iris_Unclean\n",
        "\n",
        "url = 'https://raw.githubusercontent.com/anggaagustiratelkom/data_scientist/master/TugasPertemuan9/Iris_unclean.csv'\n",
        "df = pd.read_csv(url)"
      ],
      "id": "f6d89b20",
      "execution_count": 209,
      "outputs": []
    },
    {
      "cell_type": "code",
      "metadata": {
        "colab": {
          "base_uri": "https://localhost:8080/"
        },
        "id": "41d6177f",
        "outputId": "77125ea1-ce39-44e3-829f-427dfa45677b"
      },
      "source": [
        "# ambil 10 data teratas SepalLengthCm, kemudian tampilkan\n",
        "\n",
        "df = df['SepalLengthCm'].head(10)\n",
        "df"
      ],
      "id": "41d6177f",
      "execution_count": 210,
      "outputs": [
        {
          "output_type": "execute_result",
          "data": {
            "text/plain": [
              "0    NaN\n",
              "1    4.9\n",
              "2    4.7\n",
              "3    4.6\n",
              "4    5.0\n",
              "5    5.4\n",
              "6    NaN\n",
              "7    5.0\n",
              "8    4.4\n",
              "9    4.9\n",
              "Name: SepalLengthCm, dtype: float64"
            ]
          },
          "metadata": {},
          "execution_count": 210
        }
      ]
    },
    {
      "cell_type": "code",
      "metadata": {
        "id": "6304b7f6"
      },
      "source": [
        "# melakukan imputasi nilai suka-suka (Arbitrary), masukkan ke dalam variabel\n",
        "\n",
        "df = df.replace(np.nan,99)"
      ],
      "id": "6304b7f6",
      "execution_count": 211,
      "outputs": []
    },
    {
      "cell_type": "code",
      "metadata": {
        "colab": {
          "base_uri": "https://localhost:8080/"
        },
        "id": "998b1ef5",
        "outputId": "b36bb46c-ce97-435b-d81f-a922952d45a5"
      },
      "source": [
        "# tampilkan 10 data teratas SepalLengthCm setelah handle missing value dengan nilai suka-suka (arbitary)\n",
        "\n",
        "df.head(10)"
      ],
      "id": "998b1ef5",
      "execution_count": 212,
      "outputs": [
        {
          "output_type": "execute_result",
          "data": {
            "text/plain": [
              "0    99.0\n",
              "1     4.9\n",
              "2     4.7\n",
              "3     4.6\n",
              "4     5.0\n",
              "5     5.4\n",
              "6    99.0\n",
              "7     5.0\n",
              "8     4.4\n",
              "9     4.9\n",
              "Name: SepalLengthCm, dtype: float64"
            ]
          },
          "metadata": {},
          "execution_count": 212
        }
      ]
    },
    {
      "cell_type": "markdown",
      "metadata": {
        "id": "218f5b1d"
      },
      "source": [
        "# Latihan (5)\n",
        "\n",
        "### Melakukan handle missing value dengan frequent category / modus:\n",
        "\n",
        "     1. Load dataset Iris_Unclean\n",
        "     2. Ambil 10 data teratas \"SepalLengthCm\", kemudian tampilkan\n",
        "     3. Mengganti missing value dengan frequent category / modus\n",
        "     4. Tampilkan hasil imputasi \"SepalLengthCm\" setelah handle dengan frequent category / modus"
      ],
      "id": "218f5b1d"
    },
    {
      "cell_type": "code",
      "metadata": {
        "id": "5f2c9c3d"
      },
      "source": [
        "# load dataset Iris_Unclean\n",
        "\n",
        "url = 'https://raw.githubusercontent.com/anggaagustiratelkom/data_scientist/master/TugasPertemuan9/Iris_unclean.csv'\n",
        "df = pd.read_csv(url)"
      ],
      "id": "5f2c9c3d",
      "execution_count": 213,
      "outputs": []
    },
    {
      "cell_type": "code",
      "metadata": {
        "colab": {
          "base_uri": "https://localhost:8080/"
        },
        "id": "87430ef7",
        "outputId": "00c2f072-f422-475e-a181-4edc81cc3f21"
      },
      "source": [
        "# tampilkan 10 data teratas kolom SepalLengthCm\n",
        "\n",
        "df['SepalLengthCm'].head(10)"
      ],
      "id": "87430ef7",
      "execution_count": 214,
      "outputs": [
        {
          "output_type": "execute_result",
          "data": {
            "text/plain": [
              "0    NaN\n",
              "1    4.9\n",
              "2    4.7\n",
              "3    4.6\n",
              "4    5.0\n",
              "5    5.4\n",
              "6    NaN\n",
              "7    5.0\n",
              "8    4.4\n",
              "9    4.9\n",
              "Name: SepalLengthCm, dtype: float64"
            ]
          },
          "metadata": {},
          "execution_count": 214
        }
      ]
    },
    {
      "cell_type": "code",
      "metadata": {
        "id": "1adaa0e9"
      },
      "source": [
        "# Import SimpleImputer dari sklearn.impute\n",
        "\n",
        "from sklearn.impute import SimpleImputer\n",
        "\n",
        "# Mengatasi missing value dengan frequent category / modus\n",
        "\n",
        "imp = SimpleImputer(strategy='most_frequent')"
      ],
      "id": "1adaa0e9",
      "execution_count": 215,
      "outputs": []
    },
    {
      "cell_type": "code",
      "metadata": {
        "colab": {
          "base_uri": "https://localhost:8080/"
        },
        "id": "b9fd73b1",
        "outputId": "991a7242-91b4-4efd-b0d5-e0fb7b1474a9"
      },
      "source": [
        "# Tampilkan hasil imputasi \"SepalLengthCm\"\n",
        "\n",
        "imp.fit_transform(df[['SepalLengthCm']])"
      ],
      "id": "b9fd73b1",
      "execution_count": 216,
      "outputs": [
        {
          "output_type": "execute_result",
          "data": {
            "text/plain": [
              "array([[5. ],\n",
              "       [4.9],\n",
              "       [4.7],\n",
              "       [4.6],\n",
              "       [5. ],\n",
              "       [5.4],\n",
              "       [5. ],\n",
              "       [5. ],\n",
              "       [4.4],\n",
              "       [4.9],\n",
              "       [5.4],\n",
              "       [4.8],\n",
              "       [4.8],\n",
              "       [4.3],\n",
              "       [5.8],\n",
              "       [5.7],\n",
              "       [5.4],\n",
              "       [5.1],\n",
              "       [5.7],\n",
              "       [5.1],\n",
              "       [5.4],\n",
              "       [5.1],\n",
              "       [4.6],\n",
              "       [5.1],\n",
              "       [4.8],\n",
              "       [5. ],\n",
              "       [5. ],\n",
              "       [5.2],\n",
              "       [5.2],\n",
              "       [4.7],\n",
              "       [4.8],\n",
              "       [5.4],\n",
              "       [5.2],\n",
              "       [5.5],\n",
              "       [4.9],\n",
              "       [5. ],\n",
              "       [5.5],\n",
              "       [4.9],\n",
              "       [4.4],\n",
              "       [5.1],\n",
              "       [5. ],\n",
              "       [4.5],\n",
              "       [4.4],\n",
              "       [5. ],\n",
              "       [5.1],\n",
              "       [4.8],\n",
              "       [5.1],\n",
              "       [4.6],\n",
              "       [5.3],\n",
              "       [5. ],\n",
              "       [7. ],\n",
              "       [6.4],\n",
              "       [6.9],\n",
              "       [5.5],\n",
              "       [6.5],\n",
              "       [5.7],\n",
              "       [6.3],\n",
              "       [4.9],\n",
              "       [6.6],\n",
              "       [5.2],\n",
              "       [5. ],\n",
              "       [5.9],\n",
              "       [6. ],\n",
              "       [6.1],\n",
              "       [5.6],\n",
              "       [6.7],\n",
              "       [5.6],\n",
              "       [5.8],\n",
              "       [6.2],\n",
              "       [5.6],\n",
              "       [5.9],\n",
              "       [6.1],\n",
              "       [6.3],\n",
              "       [6.1],\n",
              "       [6.4],\n",
              "       [6.6],\n",
              "       [6.8],\n",
              "       [6.7],\n",
              "       [6. ],\n",
              "       [5.7],\n",
              "       [5.5],\n",
              "       [5.5],\n",
              "       [5.8],\n",
              "       [6. ],\n",
              "       [5.4],\n",
              "       [6. ],\n",
              "       [6.7],\n",
              "       [6.3],\n",
              "       [5.6],\n",
              "       [5.5],\n",
              "       [5.5],\n",
              "       [6.1],\n",
              "       [5.8],\n",
              "       [5. ],\n",
              "       [5.6],\n",
              "       [5.7],\n",
              "       [5.7],\n",
              "       [6.2],\n",
              "       [5.1],\n",
              "       [5.7],\n",
              "       [6.3],\n",
              "       [5.8],\n",
              "       [7.1],\n",
              "       [6.3],\n",
              "       [6.5],\n",
              "       [7.6],\n",
              "       [4.9],\n",
              "       [7.3],\n",
              "       [6.7],\n",
              "       [7.2],\n",
              "       [6.5],\n",
              "       [6.4],\n",
              "       [6.8],\n",
              "       [5.7],\n",
              "       [5.8],\n",
              "       [6.4],\n",
              "       [6.5],\n",
              "       [7.7],\n",
              "       [7.7],\n",
              "       [6. ],\n",
              "       [6.9],\n",
              "       [5.6],\n",
              "       [7.7],\n",
              "       [6.3],\n",
              "       [6.7],\n",
              "       [7.2],\n",
              "       [6.2],\n",
              "       [6.1],\n",
              "       [6.4],\n",
              "       [7.2],\n",
              "       [7.4],\n",
              "       [7.9],\n",
              "       [6.4],\n",
              "       [6.3],\n",
              "       [6.1],\n",
              "       [7.7],\n",
              "       [6.3],\n",
              "       [6.4],\n",
              "       [6. ],\n",
              "       [6.9],\n",
              "       [6.7],\n",
              "       [6.9],\n",
              "       [5.8],\n",
              "       [6.8],\n",
              "       [6.7],\n",
              "       [6.7],\n",
              "       [6.3],\n",
              "       [6.5],\n",
              "       [6.2],\n",
              "       [5.9]])"
            ]
          },
          "metadata": {},
          "execution_count": 216
        }
      ]
    },
    {
      "cell_type": "markdown",
      "metadata": {
        "id": "aa135aae"
      },
      "source": [
        "# Latihan (6)\n",
        "\n",
        "### Melakukan handle missing value dengan Imputasi Random Sample:\n",
        "\n",
        "     1. Load dataset Iris_Unclean\n",
        "     2. Tampilkan 10 data teratas\n",
        "     3. Membuat imputer random sample dengan random state = 5\n",
        "     4. Cocokan imputer ke data\n",
        "     5. Ubah data dengan imputer masukkan ke dalam variable\n",
        "     6. Tampilkan hasil imputasi data \"SepalLengthCm\""
      ],
      "id": "aa135aae"
    },
    {
      "cell_type": "code",
      "metadata": {
        "id": "05ea0bcf"
      },
      "source": [
        "# load dataset Iris_Unclean\n",
        "\n",
        "url = 'https://raw.githubusercontent.com/anggaagustiratelkom/data_scientist/master/TugasPertemuan9/Iris_unclean.csv'\n",
        "data = pd.read_csv(url)"
      ],
      "id": "05ea0bcf",
      "execution_count": 217,
      "outputs": []
    },
    {
      "cell_type": "code",
      "metadata": {
        "colab": {
          "base_uri": "https://localhost:8080/"
        },
        "id": "8d70788e",
        "outputId": "63e996de-2c42-4551-f929-7f38f50f296b"
      },
      "source": [
        "# tampilkan 10 data teratas SepalLengthCm\n",
        "\n",
        "data['SepalLengthCm'].head(10)"
      ],
      "id": "8d70788e",
      "execution_count": 218,
      "outputs": [
        {
          "output_type": "execute_result",
          "data": {
            "text/plain": [
              "0    NaN\n",
              "1    4.9\n",
              "2    4.7\n",
              "3    4.6\n",
              "4    5.0\n",
              "5    5.4\n",
              "6    NaN\n",
              "7    5.0\n",
              "8    4.4\n",
              "9    4.9\n",
              "Name: SepalLengthCm, dtype: float64"
            ]
          },
          "metadata": {},
          "execution_count": 218
        }
      ]
    },
    {
      "cell_type": "code",
      "metadata": {
        "id": "78cd2a4a"
      },
      "source": [
        "# Membuat imputer random sample dengan random state = 5\n",
        "\n",
        "imputer = RandomSampleImputer(random_state=5)\n",
        "\n",
        "# Cocokan imputer ke data\n",
        "\n",
        "imputer.fit(data[['SepalLengthCm']])\n",
        "\n",
        "# Ubah data dengan imputer masukkan ke dalam variable\n",
        "\n",
        "test_t = imputer.transform(data[['SepalLengthCm']])"
      ],
      "id": "78cd2a4a",
      "execution_count": 219,
      "outputs": []
    },
    {
      "cell_type": "code",
      "metadata": {
        "colab": {
          "base_uri": "https://localhost:8080/",
          "height": 423
        },
        "id": "c391d5ef",
        "outputId": "34a67930-f78c-4e82-be62-fad621654e32"
      },
      "source": [
        "# Tampilkan data hasil imputasi data \"SepalLengthCm\"\n",
        "\n",
        "test_t"
      ],
      "id": "c391d5ef",
      "execution_count": 220,
      "outputs": [
        {
          "output_type": "execute_result",
          "data": {
            "text/html": [
              "<div>\n",
              "<style scoped>\n",
              "    .dataframe tbody tr th:only-of-type {\n",
              "        vertical-align: middle;\n",
              "    }\n",
              "\n",
              "    .dataframe tbody tr th {\n",
              "        vertical-align: top;\n",
              "    }\n",
              "\n",
              "    .dataframe thead th {\n",
              "        text-align: right;\n",
              "    }\n",
              "</style>\n",
              "<table border=\"1\" class=\"dataframe\">\n",
              "  <thead>\n",
              "    <tr style=\"text-align: right;\">\n",
              "      <th></th>\n",
              "      <th>SepalLengthCm</th>\n",
              "    </tr>\n",
              "  </thead>\n",
              "  <tbody>\n",
              "    <tr>\n",
              "      <th>0</th>\n",
              "      <td>5.8</td>\n",
              "    </tr>\n",
              "    <tr>\n",
              "      <th>1</th>\n",
              "      <td>4.9</td>\n",
              "    </tr>\n",
              "    <tr>\n",
              "      <th>2</th>\n",
              "      <td>4.7</td>\n",
              "    </tr>\n",
              "    <tr>\n",
              "      <th>3</th>\n",
              "      <td>4.6</td>\n",
              "    </tr>\n",
              "    <tr>\n",
              "      <th>4</th>\n",
              "      <td>5.0</td>\n",
              "    </tr>\n",
              "    <tr>\n",
              "      <th>...</th>\n",
              "      <td>...</td>\n",
              "    </tr>\n",
              "    <tr>\n",
              "      <th>145</th>\n",
              "      <td>6.7</td>\n",
              "    </tr>\n",
              "    <tr>\n",
              "      <th>146</th>\n",
              "      <td>6.3</td>\n",
              "    </tr>\n",
              "    <tr>\n",
              "      <th>147</th>\n",
              "      <td>6.5</td>\n",
              "    </tr>\n",
              "    <tr>\n",
              "      <th>148</th>\n",
              "      <td>6.2</td>\n",
              "    </tr>\n",
              "    <tr>\n",
              "      <th>149</th>\n",
              "      <td>5.9</td>\n",
              "    </tr>\n",
              "  </tbody>\n",
              "</table>\n",
              "<p>150 rows × 1 columns</p>\n",
              "</div>"
            ],
            "text/plain": [
              "     SepalLengthCm\n",
              "0              5.8\n",
              "1              4.9\n",
              "2              4.7\n",
              "3              4.6\n",
              "4              5.0\n",
              "..             ...\n",
              "145            6.7\n",
              "146            6.3\n",
              "147            6.5\n",
              "148            6.2\n",
              "149            5.9\n",
              "\n",
              "[150 rows x 1 columns]"
            ]
          },
          "metadata": {},
          "execution_count": 220
        }
      ]
    },
    {
      "cell_type": "markdown",
      "metadata": {
        "id": "b183faa8"
      },
      "source": [
        "# Latihan (7)\n",
        "\n",
        "### Melakukan Winsorizing\n",
        "\n",
        "    1. Import library winsorize dari scipy\n",
        "    2. Load data Iris_AfterClean\n",
        "    3. Ambil 10 data teratas \"SepalLengthCm\", kemudian masukkan ke dalam variabel datan tampilkan\n",
        "    4. Winsorize data dengan batas nilai terendah 10% dan batas nilai tinggi 20%\n",
        "    5. Tampilkan hasil winsorize"
      ],
      "id": "b183faa8"
    },
    {
      "cell_type": "code",
      "metadata": {
        "id": "1136245b"
      },
      "source": [
        "# Import library scipy\n",
        "\n",
        "import numpy as np\n",
        "from scipy.stats.mstats import winsorize\n",
        "from scipy.stats.mstats import trima"
      ],
      "id": "1136245b",
      "execution_count": 221,
      "outputs": []
    },
    {
      "cell_type": "code",
      "metadata": {
        "colab": {
          "base_uri": "https://localhost:8080/"
        },
        "id": "8746ff71",
        "outputId": "1fae2d0f-965d-4d10-da1b-038c149da5ab"
      },
      "source": [
        "# Load data Iris_AfterClean\n",
        "url = 'https://raw.githubusercontent.com/anggaagustiratelkom/data_scientist/master/TugasPertemuan9/Iris_AfterClean.csv'\n",
        "data = pd.read_csv(url)\n",
        "\n",
        "# Ambil 10 data teratas \"SepalLengthCm\", kemudian masukkan ke dalam variabel datan tampilkan\n",
        "a = data['SepalLengthCm'].head(10)\n",
        "a"
      ],
      "id": "8746ff71",
      "execution_count": 222,
      "outputs": [
        {
          "output_type": "execute_result",
          "data": {
            "text/plain": [
              "0    4.6\n",
              "1    5.0\n",
              "2    5.4\n",
              "3    4.9\n",
              "4    5.4\n",
              "5    4.8\n",
              "6    4.8\n",
              "7    4.3\n",
              "8    5.8\n",
              "9    5.4\n",
              "Name: SepalLengthCm, dtype: float64"
            ]
          },
          "metadata": {},
          "execution_count": 222
        }
      ]
    },
    {
      "cell_type": "code",
      "metadata": {
        "colab": {
          "base_uri": "https://localhost:8080/"
        },
        "id": "9f91f045",
        "outputId": "96d31553-0703-423e-ee45-3543044f3439"
      },
      "source": [
        "# Winsorize data dengan batas nilai terendah 10% dan batas nilai tinggi 20%\n",
        "\n",
        "wins = winsorize(a, limits=[0.1, 0.2])\n",
        "\n",
        "# Tampilkan hasil winsorize\n",
        "print(wins)"
      ],
      "id": "9f91f045",
      "execution_count": 223,
      "outputs": [
        {
          "output_type": "stream",
          "name": "stdout",
          "text": [
            "[4.6 5.  5.4 4.9 5.4 4.8 4.8 4.6 5.4 5.4]\n"
          ]
        }
      ]
    },
    {
      "cell_type": "markdown",
      "metadata": {
        "id": "3ddad90b"
      },
      "source": [
        "# Latihan (8)\n",
        "\n",
        "### Melakukan Trimming\n",
        "\n",
        "    1. Import library trima dari scopy\n",
        "    2. Load data Iris_AfterClean\n",
        "    3. Ambil 10 data teratas \"SepalLengthCm\", kemudian masukkan ke dalam variabel datan tampilkan\n",
        "    4. Trimming data dengan batas nilai terendah 2 dan batas nilai tinggi 5\n",
        "    5. Tampilkan hasil trimming"
      ],
      "id": "3ddad90b"
    },
    {
      "cell_type": "code",
      "metadata": {
        "id": "066d7abf"
      },
      "source": [
        "# Import library trima dari scipy\n",
        "\n",
        "from scipy.stats.mstats import trima"
      ],
      "id": "066d7abf",
      "execution_count": 224,
      "outputs": []
    },
    {
      "cell_type": "code",
      "metadata": {
        "colab": {
          "base_uri": "https://localhost:8080/"
        },
        "id": "9ab186a5",
        "outputId": "32ac9fa5-a960-4af9-e1b5-5c920df6cf9d"
      },
      "source": [
        "# Load data Iris_AfterClean\n",
        "url = 'https://raw.githubusercontent.com/anggaagustiratelkom/data_scientist/master/TugasPertemuan9/Iris_AfterClean.csv'\n",
        "data = pd.read_csv(url)\n",
        "\n",
        "# Ambil 10 data teratas \"SepalLengthCm\", kemudian masukkan ke dalam variabel datan tampilkan\n",
        "a = data['SepalLengthCm'].head(10)\n",
        "a"
      ],
      "id": "9ab186a5",
      "execution_count": 225,
      "outputs": [
        {
          "output_type": "execute_result",
          "data": {
            "text/plain": [
              "0    4.6\n",
              "1    5.0\n",
              "2    5.4\n",
              "3    4.9\n",
              "4    5.4\n",
              "5    4.8\n",
              "6    4.8\n",
              "7    4.3\n",
              "8    5.8\n",
              "9    5.4\n",
              "Name: SepalLengthCm, dtype: float64"
            ]
          },
          "metadata": {},
          "execution_count": 225
        }
      ]
    },
    {
      "cell_type": "code",
      "metadata": {
        "colab": {
          "base_uri": "https://localhost:8080/"
        },
        "id": "d0f8a511",
        "outputId": "ae6ed2a7-fb4d-494e-d9d9-69b1009fe941"
      },
      "source": [
        "# Trimming data dengan batas nilai terendah 2 dan batas nilai tinggi 5\n",
        "\n",
        "trims = trima(a, limits=(2,5))\n",
        "\n",
        "# Tampilkan hasil trimming\n",
        "\n",
        "print(trims)"
      ],
      "id": "d0f8a511",
      "execution_count": 226,
      "outputs": [
        {
          "output_type": "stream",
          "name": "stdout",
          "text": [
            "[4.6 5.0 -- 4.9 -- 4.8 4.8 4.3 -- --]\n"
          ]
        }
      ]
    },
    {
      "cell_type": "markdown",
      "metadata": {
        "id": "31044298"
      },
      "source": [
        "# Latihan (9)\n",
        "\n",
        "### Melakukan Scaling: Normalisasi\n",
        "\n",
        "    1. Load data Iris_AfterClean \n",
        "    2. Ambil 10 data teratas SepalLengthCm dan SepalWidthCm\n",
        "    3. Menghitung mean data\n",
        "    4. Menghitung max - min pada data\n",
        "    5. Menerapkan transformasi ke data\n",
        "    6. Tampilkan hasil scalling"
      ],
      "id": "31044298"
    },
    {
      "cell_type": "code",
      "metadata": {
        "colab": {
          "base_uri": "https://localhost:8080/",
          "height": 363
        },
        "id": "ab997af5",
        "outputId": "7a8468d2-5372-48f2-c3b4-183a3721b316"
      },
      "source": [
        "# Load data Iris_AfterClean \n",
        "\n",
        "url = 'https://raw.githubusercontent.com/anggaagustiratelkom/data_scientist/master/TugasPertemuan9/Iris_AfterClean.csv'\n",
        "data = pd.read_csv(url)\n",
        "\n",
        "# Ambil 10 data teratas SepalLengthCm dan SepalWidthCm\n",
        "\n",
        "data = pd.DataFrame(data[0:10], columns=['SepalLengthCm','SepalWidthCm'])\n",
        "data"
      ],
      "id": "ab997af5",
      "execution_count": 227,
      "outputs": [
        {
          "output_type": "execute_result",
          "data": {
            "text/html": [
              "<div>\n",
              "<style scoped>\n",
              "    .dataframe tbody tr th:only-of-type {\n",
              "        vertical-align: middle;\n",
              "    }\n",
              "\n",
              "    .dataframe tbody tr th {\n",
              "        vertical-align: top;\n",
              "    }\n",
              "\n",
              "    .dataframe thead th {\n",
              "        text-align: right;\n",
              "    }\n",
              "</style>\n",
              "<table border=\"1\" class=\"dataframe\">\n",
              "  <thead>\n",
              "    <tr style=\"text-align: right;\">\n",
              "      <th></th>\n",
              "      <th>SepalLengthCm</th>\n",
              "      <th>SepalWidthCm</th>\n",
              "    </tr>\n",
              "  </thead>\n",
              "  <tbody>\n",
              "    <tr>\n",
              "      <th>0</th>\n",
              "      <td>4.6</td>\n",
              "      <td>3.1</td>\n",
              "    </tr>\n",
              "    <tr>\n",
              "      <th>1</th>\n",
              "      <td>5.0</td>\n",
              "      <td>3.6</td>\n",
              "    </tr>\n",
              "    <tr>\n",
              "      <th>2</th>\n",
              "      <td>5.4</td>\n",
              "      <td>3.9</td>\n",
              "    </tr>\n",
              "    <tr>\n",
              "      <th>3</th>\n",
              "      <td>4.9</td>\n",
              "      <td>3.1</td>\n",
              "    </tr>\n",
              "    <tr>\n",
              "      <th>4</th>\n",
              "      <td>5.4</td>\n",
              "      <td>3.7</td>\n",
              "    </tr>\n",
              "    <tr>\n",
              "      <th>5</th>\n",
              "      <td>4.8</td>\n",
              "      <td>3.4</td>\n",
              "    </tr>\n",
              "    <tr>\n",
              "      <th>6</th>\n",
              "      <td>4.8</td>\n",
              "      <td>3.0</td>\n",
              "    </tr>\n",
              "    <tr>\n",
              "      <th>7</th>\n",
              "      <td>4.3</td>\n",
              "      <td>3.0</td>\n",
              "    </tr>\n",
              "    <tr>\n",
              "      <th>8</th>\n",
              "      <td>5.8</td>\n",
              "      <td>4.0</td>\n",
              "    </tr>\n",
              "    <tr>\n",
              "      <th>9</th>\n",
              "      <td>5.4</td>\n",
              "      <td>3.9</td>\n",
              "    </tr>\n",
              "  </tbody>\n",
              "</table>\n",
              "</div>"
            ],
            "text/plain": [
              "   SepalLengthCm  SepalWidthCm\n",
              "0            4.6           3.1\n",
              "1            5.0           3.6\n",
              "2            5.4           3.9\n",
              "3            4.9           3.1\n",
              "4            5.4           3.7\n",
              "5            4.8           3.4\n",
              "6            4.8           3.0\n",
              "7            4.3           3.0\n",
              "8            5.8           4.0\n",
              "9            5.4           3.9"
            ]
          },
          "metadata": {},
          "execution_count": 227
        }
      ]
    },
    {
      "cell_type": "code",
      "metadata": {
        "id": "57c8d6de"
      },
      "source": [
        "# Menghitung mean\n",
        "means = data.mean(axis=0)\n",
        "\n",
        "# menghitung max - min\n",
        "max_min = data.max(axis=0) - data.min(axis=0)\n",
        "\n",
        "# menerapkan transformasi ke data\n",
        "train_scaled = (data - means)/max_min"
      ],
      "id": "57c8d6de",
      "execution_count": 228,
      "outputs": []
    },
    {
      "cell_type": "code",
      "metadata": {
        "colab": {
          "base_uri": "https://localhost:8080/",
          "height": 363
        },
        "id": "9247b11c",
        "outputId": "4834b9d0-277d-416e-c602-c2fd4542cf38"
      },
      "source": [
        "# Tampilkan hasil scalling\n",
        "\n",
        "train_scaled"
      ],
      "id": "9247b11c",
      "execution_count": 229,
      "outputs": [
        {
          "output_type": "execute_result",
          "data": {
            "text/html": [
              "<div>\n",
              "<style scoped>\n",
              "    .dataframe tbody tr th:only-of-type {\n",
              "        vertical-align: middle;\n",
              "    }\n",
              "\n",
              "    .dataframe tbody tr th {\n",
              "        vertical-align: top;\n",
              "    }\n",
              "\n",
              "    .dataframe thead th {\n",
              "        text-align: right;\n",
              "    }\n",
              "</style>\n",
              "<table border=\"1\" class=\"dataframe\">\n",
              "  <thead>\n",
              "    <tr style=\"text-align: right;\">\n",
              "      <th></th>\n",
              "      <th>SepalLengthCm</th>\n",
              "      <th>SepalWidthCm</th>\n",
              "    </tr>\n",
              "  </thead>\n",
              "  <tbody>\n",
              "    <tr>\n",
              "      <th>0</th>\n",
              "      <td>-0.293333</td>\n",
              "      <td>-0.37</td>\n",
              "    </tr>\n",
              "    <tr>\n",
              "      <th>1</th>\n",
              "      <td>-0.026667</td>\n",
              "      <td>0.13</td>\n",
              "    </tr>\n",
              "    <tr>\n",
              "      <th>2</th>\n",
              "      <td>0.240000</td>\n",
              "      <td>0.43</td>\n",
              "    </tr>\n",
              "    <tr>\n",
              "      <th>3</th>\n",
              "      <td>-0.093333</td>\n",
              "      <td>-0.37</td>\n",
              "    </tr>\n",
              "    <tr>\n",
              "      <th>4</th>\n",
              "      <td>0.240000</td>\n",
              "      <td>0.23</td>\n",
              "    </tr>\n",
              "    <tr>\n",
              "      <th>5</th>\n",
              "      <td>-0.160000</td>\n",
              "      <td>-0.07</td>\n",
              "    </tr>\n",
              "    <tr>\n",
              "      <th>6</th>\n",
              "      <td>-0.160000</td>\n",
              "      <td>-0.47</td>\n",
              "    </tr>\n",
              "    <tr>\n",
              "      <th>7</th>\n",
              "      <td>-0.493333</td>\n",
              "      <td>-0.47</td>\n",
              "    </tr>\n",
              "    <tr>\n",
              "      <th>8</th>\n",
              "      <td>0.506667</td>\n",
              "      <td>0.53</td>\n",
              "    </tr>\n",
              "    <tr>\n",
              "      <th>9</th>\n",
              "      <td>0.240000</td>\n",
              "      <td>0.43</td>\n",
              "    </tr>\n",
              "  </tbody>\n",
              "</table>\n",
              "</div>"
            ],
            "text/plain": [
              "   SepalLengthCm  SepalWidthCm\n",
              "0      -0.293333         -0.37\n",
              "1      -0.026667          0.13\n",
              "2       0.240000          0.43\n",
              "3      -0.093333         -0.37\n",
              "4       0.240000          0.23\n",
              "5      -0.160000         -0.07\n",
              "6      -0.160000         -0.47\n",
              "7      -0.493333         -0.47\n",
              "8       0.506667          0.53\n",
              "9       0.240000          0.43"
            ]
          },
          "metadata": {},
          "execution_count": 229
        }
      ]
    },
    {
      "cell_type": "markdown",
      "metadata": {
        "id": "887be660"
      },
      "source": [
        "# Latihan (10)\n",
        "\n",
        "### Melakukan Scaling: Standardisasi\n",
        "\n",
        "    1. Load data Iris_AfterClean \n",
        "    2. Ambil 10 data teratas SepalLengthCm dan SepalWidthCm\n",
        "    2. Import library StandardScaler dari sklearn\n",
        "    3. Membuat objek scaler\n",
        "    4. Sesuaikan scaler dengan data\n",
        "    5. Mengubah data \n",
        "    6. Tampilkan hasil scalling dengan standarisasi"
      ],
      "id": "887be660"
    },
    {
      "cell_type": "code",
      "metadata": {
        "colab": {
          "base_uri": "https://localhost:8080/",
          "height": 363
        },
        "id": "bf973bbb",
        "outputId": "49a85109-a027-4959-8faf-e0728c85bfca"
      },
      "source": [
        "# Load data Iris_AfterClean \n",
        "\n",
        "url = 'https://raw.githubusercontent.com/anggaagustiratelkom/data_scientist/master/TugasPertemuan9/Iris_AfterClean.csv'\n",
        "data = pd.read_csv(url)\n",
        "\n",
        "# Ambil 10 data teratas SepalLengthCm dan SepalWidthCm\n",
        "\n",
        "data = pd.DataFrame(data[0:10], columns=['SepalLengthCm','SepalWidthCm'])\n",
        "data"
      ],
      "id": "bf973bbb",
      "execution_count": 230,
      "outputs": [
        {
          "output_type": "execute_result",
          "data": {
            "text/html": [
              "<div>\n",
              "<style scoped>\n",
              "    .dataframe tbody tr th:only-of-type {\n",
              "        vertical-align: middle;\n",
              "    }\n",
              "\n",
              "    .dataframe tbody tr th {\n",
              "        vertical-align: top;\n",
              "    }\n",
              "\n",
              "    .dataframe thead th {\n",
              "        text-align: right;\n",
              "    }\n",
              "</style>\n",
              "<table border=\"1\" class=\"dataframe\">\n",
              "  <thead>\n",
              "    <tr style=\"text-align: right;\">\n",
              "      <th></th>\n",
              "      <th>SepalLengthCm</th>\n",
              "      <th>SepalWidthCm</th>\n",
              "    </tr>\n",
              "  </thead>\n",
              "  <tbody>\n",
              "    <tr>\n",
              "      <th>0</th>\n",
              "      <td>4.6</td>\n",
              "      <td>3.1</td>\n",
              "    </tr>\n",
              "    <tr>\n",
              "      <th>1</th>\n",
              "      <td>5.0</td>\n",
              "      <td>3.6</td>\n",
              "    </tr>\n",
              "    <tr>\n",
              "      <th>2</th>\n",
              "      <td>5.4</td>\n",
              "      <td>3.9</td>\n",
              "    </tr>\n",
              "    <tr>\n",
              "      <th>3</th>\n",
              "      <td>4.9</td>\n",
              "      <td>3.1</td>\n",
              "    </tr>\n",
              "    <tr>\n",
              "      <th>4</th>\n",
              "      <td>5.4</td>\n",
              "      <td>3.7</td>\n",
              "    </tr>\n",
              "    <tr>\n",
              "      <th>5</th>\n",
              "      <td>4.8</td>\n",
              "      <td>3.4</td>\n",
              "    </tr>\n",
              "    <tr>\n",
              "      <th>6</th>\n",
              "      <td>4.8</td>\n",
              "      <td>3.0</td>\n",
              "    </tr>\n",
              "    <tr>\n",
              "      <th>7</th>\n",
              "      <td>4.3</td>\n",
              "      <td>3.0</td>\n",
              "    </tr>\n",
              "    <tr>\n",
              "      <th>8</th>\n",
              "      <td>5.8</td>\n",
              "      <td>4.0</td>\n",
              "    </tr>\n",
              "    <tr>\n",
              "      <th>9</th>\n",
              "      <td>5.4</td>\n",
              "      <td>3.9</td>\n",
              "    </tr>\n",
              "  </tbody>\n",
              "</table>\n",
              "</div>"
            ],
            "text/plain": [
              "   SepalLengthCm  SepalWidthCm\n",
              "0            4.6           3.1\n",
              "1            5.0           3.6\n",
              "2            5.4           3.9\n",
              "3            4.9           3.1\n",
              "4            5.4           3.7\n",
              "5            4.8           3.4\n",
              "6            4.8           3.0\n",
              "7            4.3           3.0\n",
              "8            5.8           4.0\n",
              "9            5.4           3.9"
            ]
          },
          "metadata": {},
          "execution_count": 230
        }
      ]
    },
    {
      "cell_type": "code",
      "metadata": {
        "id": "60dabbd7"
      },
      "source": [
        "# import library StandardScaler dari sklearn\n",
        "import pandas as pd\n",
        "from sklearn.preprocessing import StandardScaler\n",
        "\n",
        "# Buat objek scaler\n",
        "scaler = StandardScaler()\n",
        "\n",
        "# Sesuaikan scaler dengan data\n",
        "scaler.fit(data)\n",
        "\n",
        "# Mengubah data\n",
        "train_scaled = scaler.transform(data)"
      ],
      "id": "60dabbd7",
      "execution_count": 231,
      "outputs": []
    },
    {
      "cell_type": "code",
      "metadata": {
        "colab": {
          "base_uri": "https://localhost:8080/"
        },
        "id": "0a689660",
        "outputId": "f8ec0990-016e-4d9d-c43c-8986394abd10"
      },
      "source": [
        "# Tampilkan hasil\n",
        "\n",
        "train_scaled"
      ],
      "id": "0a689660",
      "execution_count": 232,
      "outputs": [
        {
          "output_type": "execute_result",
          "data": {
            "text/plain": [
              "array([[-1.02464215, -0.97469723],\n",
              "       [-0.09314929,  0.34246119],\n",
              "       [ 0.83834358,  1.13275625],\n",
              "       [-0.3260225 , -0.97469723],\n",
              "       [ 0.83834358,  0.60589288],\n",
              "       [-0.55889572, -0.18440218],\n",
              "       [-0.55889572, -1.23812892],\n",
              "       [-1.7232618 , -1.23812892],\n",
              "       [ 1.76983644,  1.39618793],\n",
              "       [ 0.83834358,  1.13275625]])"
            ]
          },
          "metadata": {},
          "execution_count": 232
        }
      ]
    }
  ]
}